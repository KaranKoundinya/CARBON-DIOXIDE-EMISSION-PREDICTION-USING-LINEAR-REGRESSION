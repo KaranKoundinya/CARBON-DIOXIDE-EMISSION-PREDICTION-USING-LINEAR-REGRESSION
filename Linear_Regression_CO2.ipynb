{
  "nbformat": 4,
  "nbformat_minor": 0,
  "metadata": {
    "colab": {
      "provenance": []
    },
    "kernelspec": {
      "name": "python3",
      "display_name": "Python 3"
    },
    "language_info": {
      "name": "python"
    }
  },
  "cells": [
    {
      "cell_type": "markdown",
      "source": [
        "# **1.Carbon Dioxide Emission prediction using Linear Regression and an Optimisation algorithm** \n",
        "\n"
      ],
      "metadata": {
        "id": "qwTg-2cg8OpK"
      }
    },
    {
      "cell_type": "markdown",
      "source": [
        "### **1.1 INSTALLING LIBRARIES**"
      ],
      "metadata": {
        "id": "_FvsKNCoSuCQ"
      }
    },
    {
      "cell_type": "code",
      "execution_count": null,
      "metadata": {
        "colab": {
          "base_uri": "https://localhost:8080/"
        },
        "id": "fK2LFbBVkAh8",
        "outputId": "9685c07c-8575-4a73-ab62-a3269d8c0a2e"
      },
      "outputs": [
        {
          "output_type": "stream",
          "name": "stdout",
          "text": [
            "Looking in indexes: https://pypi.org/simple, https://us-python.pkg.dev/colab-wheels/public/simple/\n",
            "Requirement already satisfied: scikit-learn in /usr/local/lib/python3.7/dist-packages (1.0.2)\n",
            "Requirement already satisfied: scipy>=1.1.0 in /usr/local/lib/python3.7/dist-packages (from scikit-learn) (1.7.3)\n",
            "Requirement already satisfied: joblib>=0.11 in /usr/local/lib/python3.7/dist-packages (from scikit-learn) (1.2.0)\n",
            "Requirement already satisfied: threadpoolctl>=2.0.0 in /usr/local/lib/python3.7/dist-packages (from scikit-learn) (3.1.0)\n",
            "Requirement already satisfied: numpy>=1.14.6 in /usr/local/lib/python3.7/dist-packages (from scikit-learn) (1.21.6)\n",
            "1.0.2\n"
          ]
        }
      ],
      "source": [
        "!pip install -U scikit-learn\n",
        "import pandas as pd\n",
        "import numpy as np\n",
        "import matplotlib.pyplot as plt\n",
        "from sklearn.linear_model import LinearRegression\n",
        "from sklearn.linear_model import SGDRegressor\n",
        "from sklearn.model_selection import train_test_split\n",
        "from sklearn.preprocessing import StandardScaler\n",
        "from sklearn.metrics import mean_squared_error, mean_absolute_error\n",
        "from sklearn.metrics import r2_score\n",
        "import sklearn\n",
        "print(sklearn.__version__)\n",
        "from sklearn.linear_model import SGDRegressor\n",
        "from sklearn.model_selection import GridSearchCV\n",
        "pd.set_option('max_columns', None)"
      ]
    },
    {
      "cell_type": "markdown",
      "source": [
        "###**1.2 DATA LOADING**"
      ],
      "metadata": {
        "id": "CepaV44lm0YX"
      }
    },
    {
      "cell_type": "code",
      "source": [
        "df = pd.read_csv('/content/MY2022 Fuel Consumption Ratings.csv')\n",
        "df.head()"
      ],
      "metadata": {
        "colab": {
          "base_uri": "https://localhost:8080/",
          "height": 496
        },
        "id": "PRXRddmB5ZUu",
        "outputId": "14801b79-3662-4ecb-9909-de9aaf264049"
      },
      "execution_count": null,
      "outputs": [
        {
          "output_type": "execute_result",
          "data": {
            "text/plain": [
              "   Model Year   Make              Model Vehicle Class  Engine Size(L)  \\\n",
              "0        2022  Acura                ILX       Compact             2.4   \n",
              "1        2022  Acura         MDX SH-AWD    SUV: Small             3.5   \n",
              "2        2022  Acura         RDX SH-AWD    SUV: Small             2.0   \n",
              "3        2022  Acura  RDX SH-AWD A-SPEC    SUV: Small             2.0   \n",
              "4        2022  Acura         TLX SH-AWD       Compact             2.0   \n",
              "\n",
              "   Cylinders Transmission Fuel Type  Fuel Consumption (City (L/100 km)  \\\n",
              "0          4          AM8         Z                                9.9   \n",
              "1          6         AS10         Z                               12.6   \n",
              "2          4         AS10         Z                               11.0   \n",
              "3          4         AS10         Z                               11.3   \n",
              "4          4         AS10         Z                               11.2   \n",
              "\n",
              "   Fuel Consumption(Hwy (L/100 km))  Fuel Consumption(Comb (L/100 km))  \\\n",
              "0                               7.0                                8.6   \n",
              "1                               9.4                               11.2   \n",
              "2                               8.6                                9.9   \n",
              "3                               9.1                               10.3   \n",
              "4                               8.0                                9.8   \n",
              "\n",
              "   Fuel Consumption(Comb (mpg))  CO2 Emissions(g/km)  CO2 Rating  Smog Rating  \n",
              "0                            33                  200           6            3  \n",
              "1                            25                  263           4            5  \n",
              "2                            29                  232           5            6  \n",
              "3                            27                  242           5            6  \n",
              "4                            29                  230           5            7  "
            ],
            "text/html": [
              "\n",
              "  <div id=\"df-2a9295bf-7f5a-4cc1-a65d-8c5b3b4b0021\">\n",
              "    <div class=\"colab-df-container\">\n",
              "      <div>\n",
              "<style scoped>\n",
              "    .dataframe tbody tr th:only-of-type {\n",
              "        vertical-align: middle;\n",
              "    }\n",
              "\n",
              "    .dataframe tbody tr th {\n",
              "        vertical-align: top;\n",
              "    }\n",
              "\n",
              "    .dataframe thead th {\n",
              "        text-align: right;\n",
              "    }\n",
              "</style>\n",
              "<table border=\"1\" class=\"dataframe\">\n",
              "  <thead>\n",
              "    <tr style=\"text-align: right;\">\n",
              "      <th></th>\n",
              "      <th>Model Year</th>\n",
              "      <th>Make</th>\n",
              "      <th>Model</th>\n",
              "      <th>Vehicle Class</th>\n",
              "      <th>Engine Size(L)</th>\n",
              "      <th>Cylinders</th>\n",
              "      <th>Transmission</th>\n",
              "      <th>Fuel Type</th>\n",
              "      <th>Fuel Consumption (City (L/100 km)</th>\n",
              "      <th>Fuel Consumption(Hwy (L/100 km))</th>\n",
              "      <th>Fuel Consumption(Comb (L/100 km))</th>\n",
              "      <th>Fuel Consumption(Comb (mpg))</th>\n",
              "      <th>CO2 Emissions(g/km)</th>\n",
              "      <th>CO2 Rating</th>\n",
              "      <th>Smog Rating</th>\n",
              "    </tr>\n",
              "  </thead>\n",
              "  <tbody>\n",
              "    <tr>\n",
              "      <th>0</th>\n",
              "      <td>2022</td>\n",
              "      <td>Acura</td>\n",
              "      <td>ILX</td>\n",
              "      <td>Compact</td>\n",
              "      <td>2.4</td>\n",
              "      <td>4</td>\n",
              "      <td>AM8</td>\n",
              "      <td>Z</td>\n",
              "      <td>9.9</td>\n",
              "      <td>7.0</td>\n",
              "      <td>8.6</td>\n",
              "      <td>33</td>\n",
              "      <td>200</td>\n",
              "      <td>6</td>\n",
              "      <td>3</td>\n",
              "    </tr>\n",
              "    <tr>\n",
              "      <th>1</th>\n",
              "      <td>2022</td>\n",
              "      <td>Acura</td>\n",
              "      <td>MDX SH-AWD</td>\n",
              "      <td>SUV: Small</td>\n",
              "      <td>3.5</td>\n",
              "      <td>6</td>\n",
              "      <td>AS10</td>\n",
              "      <td>Z</td>\n",
              "      <td>12.6</td>\n",
              "      <td>9.4</td>\n",
              "      <td>11.2</td>\n",
              "      <td>25</td>\n",
              "      <td>263</td>\n",
              "      <td>4</td>\n",
              "      <td>5</td>\n",
              "    </tr>\n",
              "    <tr>\n",
              "      <th>2</th>\n",
              "      <td>2022</td>\n",
              "      <td>Acura</td>\n",
              "      <td>RDX SH-AWD</td>\n",
              "      <td>SUV: Small</td>\n",
              "      <td>2.0</td>\n",
              "      <td>4</td>\n",
              "      <td>AS10</td>\n",
              "      <td>Z</td>\n",
              "      <td>11.0</td>\n",
              "      <td>8.6</td>\n",
              "      <td>9.9</td>\n",
              "      <td>29</td>\n",
              "      <td>232</td>\n",
              "      <td>5</td>\n",
              "      <td>6</td>\n",
              "    </tr>\n",
              "    <tr>\n",
              "      <th>3</th>\n",
              "      <td>2022</td>\n",
              "      <td>Acura</td>\n",
              "      <td>RDX SH-AWD A-SPEC</td>\n",
              "      <td>SUV: Small</td>\n",
              "      <td>2.0</td>\n",
              "      <td>4</td>\n",
              "      <td>AS10</td>\n",
              "      <td>Z</td>\n",
              "      <td>11.3</td>\n",
              "      <td>9.1</td>\n",
              "      <td>10.3</td>\n",
              "      <td>27</td>\n",
              "      <td>242</td>\n",
              "      <td>5</td>\n",
              "      <td>6</td>\n",
              "    </tr>\n",
              "    <tr>\n",
              "      <th>4</th>\n",
              "      <td>2022</td>\n",
              "      <td>Acura</td>\n",
              "      <td>TLX SH-AWD</td>\n",
              "      <td>Compact</td>\n",
              "      <td>2.0</td>\n",
              "      <td>4</td>\n",
              "      <td>AS10</td>\n",
              "      <td>Z</td>\n",
              "      <td>11.2</td>\n",
              "      <td>8.0</td>\n",
              "      <td>9.8</td>\n",
              "      <td>29</td>\n",
              "      <td>230</td>\n",
              "      <td>5</td>\n",
              "      <td>7</td>\n",
              "    </tr>\n",
              "  </tbody>\n",
              "</table>\n",
              "</div>\n",
              "      <button class=\"colab-df-convert\" onclick=\"convertToInteractive('df-2a9295bf-7f5a-4cc1-a65d-8c5b3b4b0021')\"\n",
              "              title=\"Convert this dataframe to an interactive table.\"\n",
              "              style=\"display:none;\">\n",
              "        \n",
              "  <svg xmlns=\"http://www.w3.org/2000/svg\" height=\"24px\"viewBox=\"0 0 24 24\"\n",
              "       width=\"24px\">\n",
              "    <path d=\"M0 0h24v24H0V0z\" fill=\"none\"/>\n",
              "    <path d=\"M18.56 5.44l.94 2.06.94-2.06 2.06-.94-2.06-.94-.94-2.06-.94 2.06-2.06.94zm-11 1L8.5 8.5l.94-2.06 2.06-.94-2.06-.94L8.5 2.5l-.94 2.06-2.06.94zm10 10l.94 2.06.94-2.06 2.06-.94-2.06-.94-.94-2.06-.94 2.06-2.06.94z\"/><path d=\"M17.41 7.96l-1.37-1.37c-.4-.4-.92-.59-1.43-.59-.52 0-1.04.2-1.43.59L10.3 9.45l-7.72 7.72c-.78.78-.78 2.05 0 2.83L4 21.41c.39.39.9.59 1.41.59.51 0 1.02-.2 1.41-.59l7.78-7.78 2.81-2.81c.8-.78.8-2.07 0-2.86zM5.41 20L4 18.59l7.72-7.72 1.47 1.35L5.41 20z\"/>\n",
              "  </svg>\n",
              "      </button>\n",
              "      \n",
              "  <style>\n",
              "    .colab-df-container {\n",
              "      display:flex;\n",
              "      flex-wrap:wrap;\n",
              "      gap: 12px;\n",
              "    }\n",
              "\n",
              "    .colab-df-convert {\n",
              "      background-color: #E8F0FE;\n",
              "      border: none;\n",
              "      border-radius: 50%;\n",
              "      cursor: pointer;\n",
              "      display: none;\n",
              "      fill: #1967D2;\n",
              "      height: 32px;\n",
              "      padding: 0 0 0 0;\n",
              "      width: 32px;\n",
              "    }\n",
              "\n",
              "    .colab-df-convert:hover {\n",
              "      background-color: #E2EBFA;\n",
              "      box-shadow: 0px 1px 2px rgba(60, 64, 67, 0.3), 0px 1px 3px 1px rgba(60, 64, 67, 0.15);\n",
              "      fill: #174EA6;\n",
              "    }\n",
              "\n",
              "    [theme=dark] .colab-df-convert {\n",
              "      background-color: #3B4455;\n",
              "      fill: #D2E3FC;\n",
              "    }\n",
              "\n",
              "    [theme=dark] .colab-df-convert:hover {\n",
              "      background-color: #434B5C;\n",
              "      box-shadow: 0px 1px 3px 1px rgba(0, 0, 0, 0.15);\n",
              "      filter: drop-shadow(0px 1px 2px rgba(0, 0, 0, 0.3));\n",
              "      fill: #FFFFFF;\n",
              "    }\n",
              "  </style>\n",
              "\n",
              "      <script>\n",
              "        const buttonEl =\n",
              "          document.querySelector('#df-2a9295bf-7f5a-4cc1-a65d-8c5b3b4b0021 button.colab-df-convert');\n",
              "        buttonEl.style.display =\n",
              "          google.colab.kernel.accessAllowed ? 'block' : 'none';\n",
              "\n",
              "        async function convertToInteractive(key) {\n",
              "          const element = document.querySelector('#df-2a9295bf-7f5a-4cc1-a65d-8c5b3b4b0021');\n",
              "          const dataTable =\n",
              "            await google.colab.kernel.invokeFunction('convertToInteractive',\n",
              "                                                     [key], {});\n",
              "          if (!dataTable) return;\n",
              "\n",
              "          const docLinkHtml = 'Like what you see? Visit the ' +\n",
              "            '<a target=\"_blank\" href=https://colab.research.google.com/notebooks/data_table.ipynb>data table notebook</a>'\n",
              "            + ' to learn more about interactive tables.';\n",
              "          element.innerHTML = '';\n",
              "          dataTable['output_type'] = 'display_data';\n",
              "          await google.colab.output.renderOutput(dataTable, element);\n",
              "          const docLink = document.createElement('div');\n",
              "          docLink.innerHTML = docLinkHtml;\n",
              "          element.appendChild(docLink);\n",
              "        }\n",
              "      </script>\n",
              "    </div>\n",
              "  </div>\n",
              "  "
            ]
          },
          "metadata": {},
          "execution_count": 87
        }
      ]
    },
    {
      "cell_type": "markdown",
      "source": [
        "  \n",
        "### **1.3 DATA CLEANING**\n",
        "\n",
        "\n",
        "\n",
        "\n",
        "\n"
      ],
      "metadata": {
        "id": "jlS826b9pFqU"
      }
    },
    {
      "cell_type": "markdown",
      "source": [
        "\n",
        "  **1.2.1 Change Cases**\n",
        "\n"
      ],
      "metadata": {
        "id": "bzAumnjhc7wB"
      }
    },
    {
      "cell_type": "code",
      "source": [
        "df.shape"
      ],
      "metadata": {
        "colab": {
          "base_uri": "https://localhost:8080/"
        },
        "id": "Ct7vUH4bEDtv",
        "outputId": "03bd7903-1eeb-4071-f67e-9b4337ce22a7"
      },
      "execution_count": null,
      "outputs": [
        {
          "output_type": "execute_result",
          "data": {
            "text/plain": [
              "(946, 15)"
            ]
          },
          "metadata": {},
          "execution_count": 88
        }
      ]
    },
    {
      "cell_type": "code",
      "source": [
        "df.columns"
      ],
      "metadata": {
        "id": "Ai-mHH3gnlzL",
        "colab": {
          "base_uri": "https://localhost:8080/"
        },
        "outputId": "4d4244f7-f316-41f1-945b-a7612aba9756"
      },
      "execution_count": null,
      "outputs": [
        {
          "output_type": "execute_result",
          "data": {
            "text/plain": [
              "Index(['Model Year', 'Make', 'Model', 'Vehicle Class', 'Engine Size(L)',\n",
              "       'Cylinders', 'Transmission', 'Fuel Type',\n",
              "       'Fuel Consumption (City (L/100 km)', 'Fuel Consumption(Hwy (L/100 km))',\n",
              "       'Fuel Consumption(Comb (L/100 km))', 'Fuel Consumption(Comb (mpg))',\n",
              "       'CO2 Emissions(g/km)', 'CO2 Rating', 'Smog Rating'],\n",
              "      dtype='object')"
            ]
          },
          "metadata": {},
          "execution_count": 89
        }
      ]
    },
    {
      "cell_type": "code",
      "source": [
        "df.columns = df.columns.str.upper()"
      ],
      "metadata": {
        "id": "w-Q4x4LHnl2D"
      },
      "execution_count": null,
      "outputs": []
    },
    {
      "cell_type": "code",
      "source": [
        "df.columns "
      ],
      "metadata": {
        "id": "CVVK4Fzhnl4T",
        "colab": {
          "base_uri": "https://localhost:8080/"
        },
        "outputId": "a5ba829b-6ad6-46b0-bf66-af304beb06ae"
      },
      "execution_count": null,
      "outputs": [
        {
          "output_type": "execute_result",
          "data": {
            "text/plain": [
              "Index(['MODEL YEAR', 'MAKE', 'MODEL', 'VEHICLE CLASS', 'ENGINE SIZE(L)',\n",
              "       'CYLINDERS', 'TRANSMISSION', 'FUEL TYPE',\n",
              "       'FUEL CONSUMPTION (CITY (L/100 KM)', 'FUEL CONSUMPTION(HWY (L/100 KM))',\n",
              "       'FUEL CONSUMPTION(COMB (L/100 KM))', 'FUEL CONSUMPTION(COMB (MPG))',\n",
              "       'CO2 EMISSIONS(G/KM)', 'CO2 RATING', 'SMOG RATING'],\n",
              "      dtype='object')"
            ]
          },
          "metadata": {},
          "execution_count": 91
        }
      ]
    },
    {
      "cell_type": "markdown",
      "source": [
        "**1.2.2 Renaming Columns to avoid space**"
      ],
      "metadata": {
        "id": "GT43szqrv8Dw"
      }
    },
    {
      "cell_type": "code",
      "source": [
        "df.rename (columns = {'MAKE' : 'BRAND' , 'MODEL YEAR': 'MODEL_YEAR' , 'VEHICLE CLASS' : 'VEHICLE_CLASS' , 'ENGINE SIZE(L)' : 'ENGINE_SIZE_L', 'FUEL TYPE' : 'FUEL_TYPE' , 'FUEL CONSUMPTION (CITY (L/100 KM)' : 'FUEL_CONSUMPTION_CITY_L/100KM' , 'FUEL CONSUMPTION(HWY (L/100 KM))' : 'FUEL_CONSUMPTION_HWY_L/100KM' , 'FUEL CONSUMPTION(COMB (L/100 KM))' : 'FUEL_CONSUMPTION_COMB_L/100KM' , 'FUEL CONSUMPTION(COMB (MPG))' : 'FUEL_CONSUMPTION_COMB_MPG' , 'CO2 EMISSIONS(G/KM)' : 'CO2_EMISSIONS' , 'CO2 RATING' : 'CO2_RATING' , 'SMOG RATING' : 'SMOG_RATING' }, inplace = True)"
      ],
      "metadata": {
        "id": "KKrvZMhpwAYr"
      },
      "execution_count": null,
      "outputs": []
    },
    {
      "cell_type": "markdown",
      "source": [
        "**1.2.3 Checking for missing data**"
      ],
      "metadata": {
        "id": "h4O2juyqzpRr"
      }
    },
    {
      "cell_type": "code",
      "source": [
        "df.isnull()"
      ],
      "metadata": {
        "id": "IhyGWeninmAf",
        "colab": {
          "base_uri": "https://localhost:8080/",
          "height": 488
        },
        "outputId": "bdf7ee05-a91e-4465-a8f1-2a64fed836ef"
      },
      "execution_count": null,
      "outputs": [
        {
          "output_type": "execute_result",
          "data": {
            "text/plain": [
              "     MODEL_YEAR  BRAND  MODEL  VEHICLE_CLASS  ENGINE_SIZE_L  CYLINDERS  \\\n",
              "0         False  False  False          False          False      False   \n",
              "1         False  False  False          False          False      False   \n",
              "2         False  False  False          False          False      False   \n",
              "3         False  False  False          False          False      False   \n",
              "4         False  False  False          False          False      False   \n",
              "..          ...    ...    ...            ...            ...        ...   \n",
              "941       False  False  False          False          False      False   \n",
              "942       False  False  False          False          False      False   \n",
              "943       False  False  False          False          False      False   \n",
              "944       False  False  False          False          False      False   \n",
              "945       False  False  False          False          False      False   \n",
              "\n",
              "     TRANSMISSION  FUEL_TYPE  FUEL_CONSUMPTION_CITY_L/100KM  \\\n",
              "0           False      False                          False   \n",
              "1           False      False                          False   \n",
              "2           False      False                          False   \n",
              "3           False      False                          False   \n",
              "4           False      False                          False   \n",
              "..            ...        ...                            ...   \n",
              "941         False      False                          False   \n",
              "942         False      False                          False   \n",
              "943         False      False                          False   \n",
              "944         False      False                          False   \n",
              "945         False      False                          False   \n",
              "\n",
              "     FUEL_CONSUMPTION_HWY_L/100KM  FUEL_CONSUMPTION_COMB_L/100KM  \\\n",
              "0                           False                          False   \n",
              "1                           False                          False   \n",
              "2                           False                          False   \n",
              "3                           False                          False   \n",
              "4                           False                          False   \n",
              "..                            ...                            ...   \n",
              "941                         False                          False   \n",
              "942                         False                          False   \n",
              "943                         False                          False   \n",
              "944                         False                          False   \n",
              "945                         False                          False   \n",
              "\n",
              "     FUEL_CONSUMPTION_COMB_MPG  CO2_EMISSIONS  CO2_RATING  SMOG_RATING  \n",
              "0                        False          False       False        False  \n",
              "1                        False          False       False        False  \n",
              "2                        False          False       False        False  \n",
              "3                        False          False       False        False  \n",
              "4                        False          False       False        False  \n",
              "..                         ...            ...         ...          ...  \n",
              "941                      False          False       False        False  \n",
              "942                      False          False       False        False  \n",
              "943                      False          False       False        False  \n",
              "944                      False          False       False        False  \n",
              "945                      False          False       False        False  \n",
              "\n",
              "[946 rows x 15 columns]"
            ],
            "text/html": [
              "\n",
              "  <div id=\"df-3e669f0e-4998-485f-a9e9-ed61f1fde236\">\n",
              "    <div class=\"colab-df-container\">\n",
              "      <div>\n",
              "<style scoped>\n",
              "    .dataframe tbody tr th:only-of-type {\n",
              "        vertical-align: middle;\n",
              "    }\n",
              "\n",
              "    .dataframe tbody tr th {\n",
              "        vertical-align: top;\n",
              "    }\n",
              "\n",
              "    .dataframe thead th {\n",
              "        text-align: right;\n",
              "    }\n",
              "</style>\n",
              "<table border=\"1\" class=\"dataframe\">\n",
              "  <thead>\n",
              "    <tr style=\"text-align: right;\">\n",
              "      <th></th>\n",
              "      <th>MODEL_YEAR</th>\n",
              "      <th>BRAND</th>\n",
              "      <th>MODEL</th>\n",
              "      <th>VEHICLE_CLASS</th>\n",
              "      <th>ENGINE_SIZE_L</th>\n",
              "      <th>CYLINDERS</th>\n",
              "      <th>TRANSMISSION</th>\n",
              "      <th>FUEL_TYPE</th>\n",
              "      <th>FUEL_CONSUMPTION_CITY_L/100KM</th>\n",
              "      <th>FUEL_CONSUMPTION_HWY_L/100KM</th>\n",
              "      <th>FUEL_CONSUMPTION_COMB_L/100KM</th>\n",
              "      <th>FUEL_CONSUMPTION_COMB_MPG</th>\n",
              "      <th>CO2_EMISSIONS</th>\n",
              "      <th>CO2_RATING</th>\n",
              "      <th>SMOG_RATING</th>\n",
              "    </tr>\n",
              "  </thead>\n",
              "  <tbody>\n",
              "    <tr>\n",
              "      <th>0</th>\n",
              "      <td>False</td>\n",
              "      <td>False</td>\n",
              "      <td>False</td>\n",
              "      <td>False</td>\n",
              "      <td>False</td>\n",
              "      <td>False</td>\n",
              "      <td>False</td>\n",
              "      <td>False</td>\n",
              "      <td>False</td>\n",
              "      <td>False</td>\n",
              "      <td>False</td>\n",
              "      <td>False</td>\n",
              "      <td>False</td>\n",
              "      <td>False</td>\n",
              "      <td>False</td>\n",
              "    </tr>\n",
              "    <tr>\n",
              "      <th>1</th>\n",
              "      <td>False</td>\n",
              "      <td>False</td>\n",
              "      <td>False</td>\n",
              "      <td>False</td>\n",
              "      <td>False</td>\n",
              "      <td>False</td>\n",
              "      <td>False</td>\n",
              "      <td>False</td>\n",
              "      <td>False</td>\n",
              "      <td>False</td>\n",
              "      <td>False</td>\n",
              "      <td>False</td>\n",
              "      <td>False</td>\n",
              "      <td>False</td>\n",
              "      <td>False</td>\n",
              "    </tr>\n",
              "    <tr>\n",
              "      <th>2</th>\n",
              "      <td>False</td>\n",
              "      <td>False</td>\n",
              "      <td>False</td>\n",
              "      <td>False</td>\n",
              "      <td>False</td>\n",
              "      <td>False</td>\n",
              "      <td>False</td>\n",
              "      <td>False</td>\n",
              "      <td>False</td>\n",
              "      <td>False</td>\n",
              "      <td>False</td>\n",
              "      <td>False</td>\n",
              "      <td>False</td>\n",
              "      <td>False</td>\n",
              "      <td>False</td>\n",
              "    </tr>\n",
              "    <tr>\n",
              "      <th>3</th>\n",
              "      <td>False</td>\n",
              "      <td>False</td>\n",
              "      <td>False</td>\n",
              "      <td>False</td>\n",
              "      <td>False</td>\n",
              "      <td>False</td>\n",
              "      <td>False</td>\n",
              "      <td>False</td>\n",
              "      <td>False</td>\n",
              "      <td>False</td>\n",
              "      <td>False</td>\n",
              "      <td>False</td>\n",
              "      <td>False</td>\n",
              "      <td>False</td>\n",
              "      <td>False</td>\n",
              "    </tr>\n",
              "    <tr>\n",
              "      <th>4</th>\n",
              "      <td>False</td>\n",
              "      <td>False</td>\n",
              "      <td>False</td>\n",
              "      <td>False</td>\n",
              "      <td>False</td>\n",
              "      <td>False</td>\n",
              "      <td>False</td>\n",
              "      <td>False</td>\n",
              "      <td>False</td>\n",
              "      <td>False</td>\n",
              "      <td>False</td>\n",
              "      <td>False</td>\n",
              "      <td>False</td>\n",
              "      <td>False</td>\n",
              "      <td>False</td>\n",
              "    </tr>\n",
              "    <tr>\n",
              "      <th>...</th>\n",
              "      <td>...</td>\n",
              "      <td>...</td>\n",
              "      <td>...</td>\n",
              "      <td>...</td>\n",
              "      <td>...</td>\n",
              "      <td>...</td>\n",
              "      <td>...</td>\n",
              "      <td>...</td>\n",
              "      <td>...</td>\n",
              "      <td>...</td>\n",
              "      <td>...</td>\n",
              "      <td>...</td>\n",
              "      <td>...</td>\n",
              "      <td>...</td>\n",
              "      <td>...</td>\n",
              "    </tr>\n",
              "    <tr>\n",
              "      <th>941</th>\n",
              "      <td>False</td>\n",
              "      <td>False</td>\n",
              "      <td>False</td>\n",
              "      <td>False</td>\n",
              "      <td>False</td>\n",
              "      <td>False</td>\n",
              "      <td>False</td>\n",
              "      <td>False</td>\n",
              "      <td>False</td>\n",
              "      <td>False</td>\n",
              "      <td>False</td>\n",
              "      <td>False</td>\n",
              "      <td>False</td>\n",
              "      <td>False</td>\n",
              "      <td>False</td>\n",
              "    </tr>\n",
              "    <tr>\n",
              "      <th>942</th>\n",
              "      <td>False</td>\n",
              "      <td>False</td>\n",
              "      <td>False</td>\n",
              "      <td>False</td>\n",
              "      <td>False</td>\n",
              "      <td>False</td>\n",
              "      <td>False</td>\n",
              "      <td>False</td>\n",
              "      <td>False</td>\n",
              "      <td>False</td>\n",
              "      <td>False</td>\n",
              "      <td>False</td>\n",
              "      <td>False</td>\n",
              "      <td>False</td>\n",
              "      <td>False</td>\n",
              "    </tr>\n",
              "    <tr>\n",
              "      <th>943</th>\n",
              "      <td>False</td>\n",
              "      <td>False</td>\n",
              "      <td>False</td>\n",
              "      <td>False</td>\n",
              "      <td>False</td>\n",
              "      <td>False</td>\n",
              "      <td>False</td>\n",
              "      <td>False</td>\n",
              "      <td>False</td>\n",
              "      <td>False</td>\n",
              "      <td>False</td>\n",
              "      <td>False</td>\n",
              "      <td>False</td>\n",
              "      <td>False</td>\n",
              "      <td>False</td>\n",
              "    </tr>\n",
              "    <tr>\n",
              "      <th>944</th>\n",
              "      <td>False</td>\n",
              "      <td>False</td>\n",
              "      <td>False</td>\n",
              "      <td>False</td>\n",
              "      <td>False</td>\n",
              "      <td>False</td>\n",
              "      <td>False</td>\n",
              "      <td>False</td>\n",
              "      <td>False</td>\n",
              "      <td>False</td>\n",
              "      <td>False</td>\n",
              "      <td>False</td>\n",
              "      <td>False</td>\n",
              "      <td>False</td>\n",
              "      <td>False</td>\n",
              "    </tr>\n",
              "    <tr>\n",
              "      <th>945</th>\n",
              "      <td>False</td>\n",
              "      <td>False</td>\n",
              "      <td>False</td>\n",
              "      <td>False</td>\n",
              "      <td>False</td>\n",
              "      <td>False</td>\n",
              "      <td>False</td>\n",
              "      <td>False</td>\n",
              "      <td>False</td>\n",
              "      <td>False</td>\n",
              "      <td>False</td>\n",
              "      <td>False</td>\n",
              "      <td>False</td>\n",
              "      <td>False</td>\n",
              "      <td>False</td>\n",
              "    </tr>\n",
              "  </tbody>\n",
              "</table>\n",
              "<p>946 rows × 15 columns</p>\n",
              "</div>\n",
              "      <button class=\"colab-df-convert\" onclick=\"convertToInteractive('df-3e669f0e-4998-485f-a9e9-ed61f1fde236')\"\n",
              "              title=\"Convert this dataframe to an interactive table.\"\n",
              "              style=\"display:none;\">\n",
              "        \n",
              "  <svg xmlns=\"http://www.w3.org/2000/svg\" height=\"24px\"viewBox=\"0 0 24 24\"\n",
              "       width=\"24px\">\n",
              "    <path d=\"M0 0h24v24H0V0z\" fill=\"none\"/>\n",
              "    <path d=\"M18.56 5.44l.94 2.06.94-2.06 2.06-.94-2.06-.94-.94-2.06-.94 2.06-2.06.94zm-11 1L8.5 8.5l.94-2.06 2.06-.94-2.06-.94L8.5 2.5l-.94 2.06-2.06.94zm10 10l.94 2.06.94-2.06 2.06-.94-2.06-.94-.94-2.06-.94 2.06-2.06.94z\"/><path d=\"M17.41 7.96l-1.37-1.37c-.4-.4-.92-.59-1.43-.59-.52 0-1.04.2-1.43.59L10.3 9.45l-7.72 7.72c-.78.78-.78 2.05 0 2.83L4 21.41c.39.39.9.59 1.41.59.51 0 1.02-.2 1.41-.59l7.78-7.78 2.81-2.81c.8-.78.8-2.07 0-2.86zM5.41 20L4 18.59l7.72-7.72 1.47 1.35L5.41 20z\"/>\n",
              "  </svg>\n",
              "      </button>\n",
              "      \n",
              "  <style>\n",
              "    .colab-df-container {\n",
              "      display:flex;\n",
              "      flex-wrap:wrap;\n",
              "      gap: 12px;\n",
              "    }\n",
              "\n",
              "    .colab-df-convert {\n",
              "      background-color: #E8F0FE;\n",
              "      border: none;\n",
              "      border-radius: 50%;\n",
              "      cursor: pointer;\n",
              "      display: none;\n",
              "      fill: #1967D2;\n",
              "      height: 32px;\n",
              "      padding: 0 0 0 0;\n",
              "      width: 32px;\n",
              "    }\n",
              "\n",
              "    .colab-df-convert:hover {\n",
              "      background-color: #E2EBFA;\n",
              "      box-shadow: 0px 1px 2px rgba(60, 64, 67, 0.3), 0px 1px 3px 1px rgba(60, 64, 67, 0.15);\n",
              "      fill: #174EA6;\n",
              "    }\n",
              "\n",
              "    [theme=dark] .colab-df-convert {\n",
              "      background-color: #3B4455;\n",
              "      fill: #D2E3FC;\n",
              "    }\n",
              "\n",
              "    [theme=dark] .colab-df-convert:hover {\n",
              "      background-color: #434B5C;\n",
              "      box-shadow: 0px 1px 3px 1px rgba(0, 0, 0, 0.15);\n",
              "      filter: drop-shadow(0px 1px 2px rgba(0, 0, 0, 0.3));\n",
              "      fill: #FFFFFF;\n",
              "    }\n",
              "  </style>\n",
              "\n",
              "      <script>\n",
              "        const buttonEl =\n",
              "          document.querySelector('#df-3e669f0e-4998-485f-a9e9-ed61f1fde236 button.colab-df-convert');\n",
              "        buttonEl.style.display =\n",
              "          google.colab.kernel.accessAllowed ? 'block' : 'none';\n",
              "\n",
              "        async function convertToInteractive(key) {\n",
              "          const element = document.querySelector('#df-3e669f0e-4998-485f-a9e9-ed61f1fde236');\n",
              "          const dataTable =\n",
              "            await google.colab.kernel.invokeFunction('convertToInteractive',\n",
              "                                                     [key], {});\n",
              "          if (!dataTable) return;\n",
              "\n",
              "          const docLinkHtml = 'Like what you see? Visit the ' +\n",
              "            '<a target=\"_blank\" href=https://colab.research.google.com/notebooks/data_table.ipynb>data table notebook</a>'\n",
              "            + ' to learn more about interactive tables.';\n",
              "          element.innerHTML = '';\n",
              "          dataTable['output_type'] = 'display_data';\n",
              "          await google.colab.output.renderOutput(dataTable, element);\n",
              "          const docLink = document.createElement('div');\n",
              "          docLink.innerHTML = docLinkHtml;\n",
              "          element.appendChild(docLink);\n",
              "        }\n",
              "      </script>\n",
              "    </div>\n",
              "  </div>\n",
              "  "
            ]
          },
          "metadata": {},
          "execution_count": 93
        }
      ]
    },
    {
      "cell_type": "code",
      "source": [
        "df.isnull().any()        #columns with missing values represented in boolean terms.\n",
        "                         #False means it doesn't have a missing value."
      ],
      "metadata": {
        "id": "UYNfX_tk1O89",
        "colab": {
          "base_uri": "https://localhost:8080/"
        },
        "outputId": "4b2e484e-5cc5-458a-bd3f-8eba9d1c0e5e"
      },
      "execution_count": null,
      "outputs": [
        {
          "output_type": "execute_result",
          "data": {
            "text/plain": [
              "MODEL_YEAR                       False\n",
              "BRAND                            False\n",
              "MODEL                            False\n",
              "VEHICLE_CLASS                    False\n",
              "ENGINE_SIZE_L                    False\n",
              "CYLINDERS                        False\n",
              "TRANSMISSION                     False\n",
              "FUEL_TYPE                        False\n",
              "FUEL_CONSUMPTION_CITY_L/100KM    False\n",
              "FUEL_CONSUMPTION_HWY_L/100KM     False\n",
              "FUEL_CONSUMPTION_COMB_L/100KM    False\n",
              "FUEL_CONSUMPTION_COMB_MPG        False\n",
              "CO2_EMISSIONS                    False\n",
              "CO2_RATING                       False\n",
              "SMOG_RATING                      False\n",
              "dtype: bool"
            ]
          },
          "metadata": {},
          "execution_count": 94
        }
      ]
    },
    {
      "cell_type": "code",
      "source": [
        "#for entire dataset \n",
        "df.isnull().any().any()"
      ],
      "metadata": {
        "id": "nMHBpR7m1PDu",
        "colab": {
          "base_uri": "https://localhost:8080/"
        },
        "outputId": "e4e1f6d0-5608-4616-fd76-90bc04190054"
      },
      "execution_count": null,
      "outputs": [
        {
          "output_type": "execute_result",
          "data": {
            "text/plain": [
              "False"
            ]
          },
          "metadata": {},
          "execution_count": 95
        }
      ]
    },
    {
      "cell_type": "code",
      "source": [
        "df.isnull().sum()      #number of null vaues in each column"
      ],
      "metadata": {
        "id": "dUFWW1pMQEPT",
        "colab": {
          "base_uri": "https://localhost:8080/"
        },
        "outputId": "9fb81303-6c1e-4700-d2c5-3f57203423b7"
      },
      "execution_count": null,
      "outputs": [
        {
          "output_type": "execute_result",
          "data": {
            "text/plain": [
              "MODEL_YEAR                       0\n",
              "BRAND                            0\n",
              "MODEL                            0\n",
              "VEHICLE_CLASS                    0\n",
              "ENGINE_SIZE_L                    0\n",
              "CYLINDERS                        0\n",
              "TRANSMISSION                     0\n",
              "FUEL_TYPE                        0\n",
              "FUEL_CONSUMPTION_CITY_L/100KM    0\n",
              "FUEL_CONSUMPTION_HWY_L/100KM     0\n",
              "FUEL_CONSUMPTION_COMB_L/100KM    0\n",
              "FUEL_CONSUMPTION_COMB_MPG        0\n",
              "CO2_EMISSIONS                    0\n",
              "CO2_RATING                       0\n",
              "SMOG_RATING                      0\n",
              "dtype: int64"
            ]
          },
          "metadata": {},
          "execution_count": 96
        }
      ]
    },
    {
      "cell_type": "code",
      "source": [
        "df.isnull().sum().sum()    #getting total number of null values "
      ],
      "metadata": {
        "id": "J7CadGkl1PGD",
        "colab": {
          "base_uri": "https://localhost:8080/"
        },
        "outputId": "88c60e77-3054-4007-e8d1-b0f51a97ca3b"
      },
      "execution_count": null,
      "outputs": [
        {
          "output_type": "execute_result",
          "data": {
            "text/plain": [
              "0"
            ]
          },
          "metadata": {},
          "execution_count": 97
        }
      ]
    },
    {
      "cell_type": "markdown",
      "source": [
        "###**1.4 DATA VISUALIZATION**\n",
        "\n",
        "\n",
        "\n",
        "\n",
        " **Q.1 Which brand is emitting the most CO2?**\n",
        "\n",
        "  ***graph_1*** represents the categorical data *BRAND* vs *CO2 Emissions(g/km)*.\n"
      ],
      "metadata": {
        "id": "zoCgSUrBXzls"
      }
    },
    {
      "cell_type": "code",
      "source": [
        "plt.figure(figsize=(15,8))\n",
        "graph_1 = df.groupby('BRAND')['CO2_EMISSIONS'].mean().sort_values(ascending = False).plot(x='BRAND',y='CO2_EMISSIONS',kind = 'bar')\n",
        "graph_1"
      ],
      "metadata": {
        "id": "tokZ3CkRLyc8",
        "colab": {
          "base_uri": "https://localhost:8080/"
        },
        "outputId": "78c8fcac-8db4-4bf7-f155-c045bdb58029"
      },
      "execution_count": null,
      "outputs": [
        {
          "output_type": "execute_result",
          "data": {
            "text/plain": [
              "<matplotlib.axes._subplots.AxesSubplot at 0x7f49b7f59390>"
            ]
          },
          "metadata": {},
          "execution_count": 98
        },
        {
          "output_type": "display_data",
          "data": {
            "text/plain": [
              "<Figure size 1080x576 with 1 Axes>"
            ],
            "image/png": "[encoded data removed]"
          },
          "metadata": {
            "needs_background": "light"
          }
        }
      ]
    },
    {
      "cell_type": "markdown",
      "source": [
        "***graph_2*** is also a bar chart plotted between *BRAND* and *CO2_RATING*\n"
      ],
      "metadata": {
        "id": "CiZ9Jv7TLnqF"
      }
    },
    {
      "cell_type": "code",
      "source": [
        "#low CO2 Rating means the brand emits the most CO2 out of others.\n",
        "plt.figure(figsize=(15,8))\n",
        "graph_2 = df.groupby('BRAND')['CO2_RATING'].mean().sort_values(ascending = False).plot(kind = 'bar')\n",
        "graph_2     "
      ],
      "metadata": {
        "id": "p5UeuLIApz6V",
        "colab": {
          "base_uri": "https://localhost:8080/"
        },
        "outputId": "558f9735-0829-47b8-d1f0-345b99542a85"
      },
      "execution_count": null,
      "outputs": [
        {
          "output_type": "execute_result",
          "data": {
            "text/plain": [
              "<matplotlib.axes._subplots.AxesSubplot at 0x7f49b76ba150>"
            ]
          },
          "metadata": {},
          "execution_count": 99
        },
        {
          "output_type": "display_data",
          "data": {
            "text/plain": [
              "<Figure size 1080x576 with 1 Axes>"
            ],
            "image/png": "[encoded data removed]"
          },
          "metadata": {
            "needs_background": "light"
          }
        }
      ]
    },
    {
      "cell_type": "markdown",
      "source": [
        "\n",
        "**Q.2 Which column is in correlation with *CO2_EMISSIONS*?**\n",
        "\n",
        "  **Q.3 Which *VEHICLE_CLASS* is more efficient?**\n",
        "\n",
        "  ***graph_3*** shows us which *VEHICLE_CLASS* is more efficient with less number of data points and also portrays the linear relation between *CO2_EMISSIONS* and *FUEL_CONSUMPTION_COMB_L/100KM*"
      ],
      "metadata": {
        "id": "ulPGJt6oYRJb"
      }
    },
    {
      "cell_type": "code",
      "source": [
        "from matplotlib import pyplot as plt\n",
        "import seaborn as sns    \n",
        "graph_3 = sns.FacetGrid(df, col = 'VEHICLE_CLASS')\n",
        "graph_3.map_dataframe(sns.scatterplot,x='CO2_EMISSIONS', y='FUEL_CONSUMPTION_COMB_L/100KM')        #click on graphs to zoom the graphs.\n",
        "graph_3.set_axis_labels('CO2_EMISSIONS','FUEL_CONSUMPTION_COMB_L/100KM')\n",
        "graph_3.set_titles(col_template = '{col_name}')\n",
        "\n",
        "       "
      ],
      "metadata": {
        "id": "NBkdF6usMuQ5",
        "colab": {
          "base_uri": "https://localhost:8080/"
        },
        "outputId": "ce946f7e-a682-46be-90fd-64e320ff99b5"
      },
      "execution_count": null,
      "outputs": [
        {
          "output_type": "execute_result",
          "data": {
            "text/plain": [
              "<seaborn.axisgrid.FacetGrid at 0x7f49b7562710>"
            ]
          },
          "metadata": {},
          "execution_count": 100
        },
        {
          "output_type": "display_data",
          "data": {
            "text/plain": [
              "<Figure size 3024x216 with 14 Axes>"
            ],
            "image/png": "[encoded data removed]"
          },
          "metadata": {
            "needs_background": "light"
          }
        }
      ]
    },
    {
      "cell_type": "markdown",
      "source": [
        "**C) What is the best Engine Size for low CO2 Emissions?**\n",
        "\n",
        "***graph_4*** also shows the correlation between *CO2 EMISSIONS* and *FUEL_CONSUMPTION_COMB_L/100KM* with respect to their Engine Size. "
      ],
      "metadata": {
        "id": "qzIdDeScFenc"
      }
    },
    {
      "cell_type": "code",
      "source": [
        "graph_4 = sns.FacetGrid(df, col = 'ENGINE_SIZE_L')\n",
        "graph_4.map_dataframe(sns.scatterplot,x='CO2_EMISSIONS', y='FUEL_CONSUMPTION_COMB_L/100KM')\n",
        "graph_4.set_axis_labels('CO2_EMISSIONS','FUEL_CONSUMPTION_COMB_L/100KM')\n",
        "graph_4.set_titles(col_template = '{col_name}')\n"
      ],
      "metadata": {
        "id": "teyimUPs889Y",
        "colab": {
          "base_uri": "https://localhost:8080/"
        },
        "outputId": "0f5db316-c675-49c1-81d3-4be4240e3235"
      },
      "execution_count": null,
      "outputs": [
        {
          "output_type": "execute_result",
          "data": {
            "text/plain": [
              "<seaborn.axisgrid.FacetGrid at 0x7f49b70fa150>"
            ]
          },
          "metadata": {},
          "execution_count": 101
        },
        {
          "output_type": "display_data",
          "data": {
            "text/plain": [
              "<Figure size 7776x216 with 36 Axes>"
            ],
            "image/png": "[encoded data removed]"
          },
          "metadata": {
            "needs_background": "light"
          }
        }
      ]
    },
    {
      "cell_type": "markdown",
      "source": [
        "**Q.4 Are all Fuel Consumption metrics correlated?**\n",
        "\n",
        "***graph_5***, ***graph_6*** and ***graph_7*** show correlation between the Fuel Consumption metrics."
      ],
      "metadata": {
        "id": "r59QGIDqNCWo"
      }
    },
    {
      "cell_type": "code",
      "source": [
        "graph_5 = df.plot(x=\"FUEL_CONSUMPTION_COMB_L/100KM\", y=[\"FUEL_CONSUMPTION_HWY_L/100KM\"], kind=\"scatter\")\n",
        "graph_5"
      ],
      "metadata": {
        "colab": {
          "base_uri": "https://localhost:8080/"
        },
        "id": "zyhQ64HcID5R",
        "outputId": "90306ddf-cdb7-421c-8bdd-31f3bce96ae4"
      },
      "execution_count": null,
      "outputs": [
        {
          "output_type": "execute_result",
          "data": {
            "text/plain": [
              "<matplotlib.axes._subplots.AxesSubplot at 0x7f49b628b090>"
            ]
          },
          "metadata": {},
          "execution_count": 102
        },
        {
          "output_type": "display_data",
          "data": {
            "text/plain": [
              "<Figure size 432x288 with 1 Axes>"
            ],
            "image/png": "[encoded data removed]"
          },
          "metadata": {
            "needs_background": "light"
          }
        }
      ]
    },
    {
      "cell_type": "code",
      "source": [
        "graph_6 = df.plot(x=\"FUEL_CONSUMPTION_COMB_L/100KM\", y=[\"FUEL_CONSUMPTION_CITY_L/100KM\"], kind=\"scatter\")\n",
        "graph_6"
      ],
      "metadata": {
        "colab": {
          "base_uri": "https://localhost:8080/"
        },
        "id": "5LvAT_zUID80",
        "outputId": "7c1a8e20-8776-48e3-a1a0-61af44ea30cd"
      },
      "execution_count": null,
      "outputs": [
        {
          "output_type": "execute_result",
          "data": {
            "text/plain": [
              "<matplotlib.axes._subplots.AxesSubplot at 0x7f49b61cd150>"
            ]
          },
          "metadata": {},
          "execution_count": 103
        },
        {
          "output_type": "display_data",
          "data": {
            "text/plain": [
              "<Figure size 432x288 with 1 Axes>"
            ],
            "image/png": "[encoded data removed]"
          },
          "metadata": {
            "needs_background": "light"
          }
        }
      ]
    },
    {
      "cell_type": "code",
      "source": [
        "graph_7 = df.plot(x=\"FUEL_CONSUMPTION_HWY_L/100KM\", y=[\"FUEL_CONSUMPTION_CITY_L/100KM\"], kind=\"scatter\")\n",
        "graph_7"
      ],
      "metadata": {
        "colab": {
          "base_uri": "https://localhost:8080/"
        },
        "id": "M-xqE1v8N-GY",
        "outputId": "0b7a4eee-0d2a-4303-8f93-44b2549bd3b6"
      },
      "execution_count": null,
      "outputs": [
        {
          "output_type": "execute_result",
          "data": {
            "text/plain": [
              "<matplotlib.axes._subplots.AxesSubplot at 0x7f49b6191e90>"
            ]
          },
          "metadata": {},
          "execution_count": 104
        },
        {
          "output_type": "display_data",
          "data": {
            "text/plain": [
              "<Figure size 432x288 with 1 Axes>"
            ],
            "image/png": "[encoded data removed]"
          },
          "metadata": {
            "needs_background": "light"
          }
        }
      ]
    },
    {
      "cell_type": "markdown",
      "source": [
        "*As seen above, they are correlated*"
      ],
      "metadata": {
        "id": "fbkXswfM6KjS"
      }
    },
    {
      "cell_type": "markdown",
      "source": [
        "**Q.5 Which columns are correlated?**\n",
        "\n",
        "***graph_8*** shows us the correlation between all the columns and helps us determine independent and dependent variables. "
      ],
      "metadata": {
        "id": "bV645G1POc4t"
      }
    },
    {
      "cell_type": "code",
      "source": [
        "df.corr()"
      ],
      "metadata": {
        "id": "gtGS8pbbK-nT",
        "colab": {
          "base_uri": "https://localhost:8080/"
        },
        "outputId": "846f99e7-9795-40a8-9550-f0b17605885d"
      },
      "execution_count": null,
      "outputs": [
        {
          "output_type": "execute_result",
          "data": {
            "text/plain": [
              "                               MODEL_YEAR  ENGINE_SIZE_L  CYLINDERS  \\\n",
              "MODEL_YEAR                            NaN            NaN        NaN   \n",
              "ENGINE_SIZE_L                         NaN       1.000000   0.920698   \n",
              "CYLINDERS                             NaN       0.920698   1.000000   \n",
              "FUEL_CONSUMPTION_CITY_L/100KM         NaN       0.834925   0.845688   \n",
              "FUEL_CONSUMPTION_HWY_L/100KM          NaN       0.749374   0.737652   \n",
              "FUEL_CONSUMPTION_COMB_L/100KM         NaN       0.818694   0.821718   \n",
              "FUEL_CONSUMPTION_COMB_MPG             NaN      -0.704163  -0.693594   \n",
              "CO2_EMISSIONS                         NaN       0.824188   0.833241   \n",
              "CO2_RATING                            NaN      -0.766333  -0.762157   \n",
              "SMOG_RATING                           NaN      -0.448239  -0.502149   \n",
              "\n",
              "                               FUEL_CONSUMPTION_CITY_L/100KM  \\\n",
              "MODEL_YEAR                                               NaN   \n",
              "ENGINE_SIZE_L                                       0.834925   \n",
              "CYLINDERS                                           0.845688   \n",
              "FUEL_CONSUMPTION_CITY_L/100KM                       1.000000   \n",
              "FUEL_CONSUMPTION_HWY_L/100KM                        0.922850   \n",
              "FUEL_CONSUMPTION_COMB_L/100KM                       0.990321   \n",
              "FUEL_CONSUMPTION_COMB_MPG                          -0.909477   \n",
              "CO2_EMISSIONS                                       0.965632   \n",
              "CO2_RATING                                         -0.920524   \n",
              "SMOG_RATING                                        -0.523928   \n",
              "\n",
              "                               FUEL_CONSUMPTION_HWY_L/100KM  \\\n",
              "MODEL_YEAR                                              NaN   \n",
              "ENGINE_SIZE_L                                      0.749374   \n",
              "CYLINDERS                                          0.737652   \n",
              "FUEL_CONSUMPTION_CITY_L/100KM                      0.922850   \n",
              "FUEL_CONSUMPTION_HWY_L/100KM                       1.000000   \n",
              "FUEL_CONSUMPTION_COMB_L/100KM                      0.967138   \n",
              "FUEL_CONSUMPTION_COMB_MPG                         -0.877531   \n",
              "CO2_EMISSIONS                                      0.933991   \n",
              "CO2_RATING                                        -0.894668   \n",
              "SMOG_RATING                                       -0.402099   \n",
              "\n",
              "                               FUEL_CONSUMPTION_COMB_L/100KM  \\\n",
              "MODEL_YEAR                                               NaN   \n",
              "ENGINE_SIZE_L                                       0.818694   \n",
              "CYLINDERS                                           0.821718   \n",
              "FUEL_CONSUMPTION_CITY_L/100KM                       0.990321   \n",
              "FUEL_CONSUMPTION_HWY_L/100KM                        0.967138   \n",
              "FUEL_CONSUMPTION_COMB_L/100KM                       1.000000   \n",
              "FUEL_CONSUMPTION_COMB_MPG                          -0.914305   \n",
              "CO2_EMISSIONS                                       0.971671   \n",
              "CO2_RATING                                         -0.927705   \n",
              "SMOG_RATING                                        -0.490473   \n",
              "\n",
              "                               FUEL_CONSUMPTION_COMB_MPG  CO2_EMISSIONS  \\\n",
              "MODEL_YEAR                                           NaN            NaN   \n",
              "ENGINE_SIZE_L                                  -0.704163       0.824188   \n",
              "CYLINDERS                                      -0.693594       0.833241   \n",
              "FUEL_CONSUMPTION_CITY_L/100KM                  -0.909477       0.965632   \n",
              "FUEL_CONSUMPTION_HWY_L/100KM                   -0.877531       0.933991   \n",
              "FUEL_CONSUMPTION_COMB_L/100KM                  -0.914305       0.971671   \n",
              "FUEL_CONSUMPTION_COMB_MPG                       1.000000      -0.913019   \n",
              "CO2_EMISSIONS                                  -0.913019       1.000000   \n",
              "CO2_RATING                                      0.949561      -0.954593   \n",
              "SMOG_RATING                                     0.473990      -0.520437   \n",
              "\n",
              "                               CO2_RATING  SMOG_RATING  \n",
              "MODEL_YEAR                            NaN          NaN  \n",
              "ENGINE_SIZE_L                   -0.766333    -0.448239  \n",
              "CYLINDERS                       -0.762157    -0.502149  \n",
              "FUEL_CONSUMPTION_CITY_L/100KM   -0.920524    -0.523928  \n",
              "FUEL_CONSUMPTION_HWY_L/100KM    -0.894668    -0.402099  \n",
              "FUEL_CONSUMPTION_COMB_L/100KM   -0.927705    -0.490473  \n",
              "FUEL_CONSUMPTION_COMB_MPG        0.949561     0.473990  \n",
              "CO2_EMISSIONS                   -0.954593    -0.520437  \n",
              "CO2_RATING                       1.000000     0.502625  \n",
              "SMOG_RATING                      0.502625     1.000000  "
            ],
            "text/html": [
              "\n",
              "  <div id=\"df-a9767b56-0743-44bc-b75e-4522def1da30\">\n",
              "    <div class=\"colab-df-container\">\n",
              "      <div>\n",
              "<style scoped>\n",
              "    .dataframe tbody tr th:only-of-type {\n",
              "        vertical-align: middle;\n",
              "    }\n",
              "\n",
              "    .dataframe tbody tr th {\n",
              "        vertical-align: top;\n",
              "    }\n",
              "\n",
              "    .dataframe thead th {\n",
              "        text-align: right;\n",
              "    }\n",
              "</style>\n",
              "<table border=\"1\" class=\"dataframe\">\n",
              "  <thead>\n",
              "    <tr style=\"text-align: right;\">\n",
              "      <th></th>\n",
              "      <th>MODEL_YEAR</th>\n",
              "      <th>ENGINE_SIZE_L</th>\n",
              "      <th>CYLINDERS</th>\n",
              "      <th>FUEL_CONSUMPTION_CITY_L/100KM</th>\n",
              "      <th>FUEL_CONSUMPTION_HWY_L/100KM</th>\n",
              "      <th>FUEL_CONSUMPTION_COMB_L/100KM</th>\n",
              "      <th>FUEL_CONSUMPTION_COMB_MPG</th>\n",
              "      <th>CO2_EMISSIONS</th>\n",
              "      <th>CO2_RATING</th>\n",
              "      <th>SMOG_RATING</th>\n",
              "    </tr>\n",
              "  </thead>\n",
              "  <tbody>\n",
              "    <tr>\n",
              "      <th>MODEL_YEAR</th>\n",
              "      <td>NaN</td>\n",
              "      <td>NaN</td>\n",
              "      <td>NaN</td>\n",
              "      <td>NaN</td>\n",
              "      <td>NaN</td>\n",
              "      <td>NaN</td>\n",
              "      <td>NaN</td>\n",
              "      <td>NaN</td>\n",
              "      <td>NaN</td>\n",
              "      <td>NaN</td>\n",
              "    </tr>\n",
              "    <tr>\n",
              "      <th>ENGINE_SIZE_L</th>\n",
              "      <td>NaN</td>\n",
              "      <td>1.000000</td>\n",
              "      <td>0.920698</td>\n",
              "      <td>0.834925</td>\n",
              "      <td>0.749374</td>\n",
              "      <td>0.818694</td>\n",
              "      <td>-0.704163</td>\n",
              "      <td>0.824188</td>\n",
              "      <td>-0.766333</td>\n",
              "      <td>-0.448239</td>\n",
              "    </tr>\n",
              "    <tr>\n",
              "      <th>CYLINDERS</th>\n",
              "      <td>NaN</td>\n",
              "      <td>0.920698</td>\n",
              "      <td>1.000000</td>\n",
              "      <td>0.845688</td>\n",
              "      <td>0.737652</td>\n",
              "      <td>0.821718</td>\n",
              "      <td>-0.693594</td>\n",
              "      <td>0.833241</td>\n",
              "      <td>-0.762157</td>\n",
              "      <td>-0.502149</td>\n",
              "    </tr>\n",
              "    <tr>\n",
              "      <th>FUEL_CONSUMPTION_CITY_L/100KM</th>\n",
              "      <td>NaN</td>\n",
              "      <td>0.834925</td>\n",
              "      <td>0.845688</td>\n",
              "      <td>1.000000</td>\n",
              "      <td>0.922850</td>\n",
              "      <td>0.990321</td>\n",
              "      <td>-0.909477</td>\n",
              "      <td>0.965632</td>\n",
              "      <td>-0.920524</td>\n",
              "      <td>-0.523928</td>\n",
              "    </tr>\n",
              "    <tr>\n",
              "      <th>FUEL_CONSUMPTION_HWY_L/100KM</th>\n",
              "      <td>NaN</td>\n",
              "      <td>0.749374</td>\n",
              "      <td>0.737652</td>\n",
              "      <td>0.922850</td>\n",
              "      <td>1.000000</td>\n",
              "      <td>0.967138</td>\n",
              "      <td>-0.877531</td>\n",
              "      <td>0.933991</td>\n",
              "      <td>-0.894668</td>\n",
              "      <td>-0.402099</td>\n",
              "    </tr>\n",
              "    <tr>\n",
              "      <th>FUEL_CONSUMPTION_COMB_L/100KM</th>\n",
              "      <td>NaN</td>\n",
              "      <td>0.818694</td>\n",
              "      <td>0.821718</td>\n",
              "      <td>0.990321</td>\n",
              "      <td>0.967138</td>\n",
              "      <td>1.000000</td>\n",
              "      <td>-0.914305</td>\n",
              "      <td>0.971671</td>\n",
              "      <td>-0.927705</td>\n",
              "      <td>-0.490473</td>\n",
              "    </tr>\n",
              "    <tr>\n",
              "      <th>FUEL_CONSUMPTION_COMB_MPG</th>\n",
              "      <td>NaN</td>\n",
              "      <td>-0.704163</td>\n",
              "      <td>-0.693594</td>\n",
              "      <td>-0.909477</td>\n",
              "      <td>-0.877531</td>\n",
              "      <td>-0.914305</td>\n",
              "      <td>1.000000</td>\n",
              "      <td>-0.913019</td>\n",
              "      <td>0.949561</td>\n",
              "      <td>0.473990</td>\n",
              "    </tr>\n",
              "    <tr>\n",
              "      <th>CO2_EMISSIONS</th>\n",
              "      <td>NaN</td>\n",
              "      <td>0.824188</td>\n",
              "      <td>0.833241</td>\n",
              "      <td>0.965632</td>\n",
              "      <td>0.933991</td>\n",
              "      <td>0.971671</td>\n",
              "      <td>-0.913019</td>\n",
              "      <td>1.000000</td>\n",
              "      <td>-0.954593</td>\n",
              "      <td>-0.520437</td>\n",
              "    </tr>\n",
              "    <tr>\n",
              "      <th>CO2_RATING</th>\n",
              "      <td>NaN</td>\n",
              "      <td>-0.766333</td>\n",
              "      <td>-0.762157</td>\n",
              "      <td>-0.920524</td>\n",
              "      <td>-0.894668</td>\n",
              "      <td>-0.927705</td>\n",
              "      <td>0.949561</td>\n",
              "      <td>-0.954593</td>\n",
              "      <td>1.000000</td>\n",
              "      <td>0.502625</td>\n",
              "    </tr>\n",
              "    <tr>\n",
              "      <th>SMOG_RATING</th>\n",
              "      <td>NaN</td>\n",
              "      <td>-0.448239</td>\n",
              "      <td>-0.502149</td>\n",
              "      <td>-0.523928</td>\n",
              "      <td>-0.402099</td>\n",
              "      <td>-0.490473</td>\n",
              "      <td>0.473990</td>\n",
              "      <td>-0.520437</td>\n",
              "      <td>0.502625</td>\n",
              "      <td>1.000000</td>\n",
              "    </tr>\n",
              "  </tbody>\n",
              "</table>\n",
              "</div>\n",
              "      <button class=\"colab-df-convert\" onclick=\"convertToInteractive('df-a9767b56-0743-44bc-b75e-4522def1da30')\"\n",
              "              title=\"Convert this dataframe to an interactive table.\"\n",
              "              style=\"display:none;\">\n",
              "        \n",
              "  <svg xmlns=\"http://www.w3.org/2000/svg\" height=\"24px\"viewBox=\"0 0 24 24\"\n",
              "       width=\"24px\">\n",
              "    <path d=\"M0 0h24v24H0V0z\" fill=\"none\"/>\n",
              "    <path d=\"M18.56 5.44l.94 2.06.94-2.06 2.06-.94-2.06-.94-.94-2.06-.94 2.06-2.06.94zm-11 1L8.5 8.5l.94-2.06 2.06-.94-2.06-.94L8.5 2.5l-.94 2.06-2.06.94zm10 10l.94 2.06.94-2.06 2.06-.94-2.06-.94-.94-2.06-.94 2.06-2.06.94z\"/><path d=\"M17.41 7.96l-1.37-1.37c-.4-.4-.92-.59-1.43-.59-.52 0-1.04.2-1.43.59L10.3 9.45l-7.72 7.72c-.78.78-.78 2.05 0 2.83L4 21.41c.39.39.9.59 1.41.59.51 0 1.02-.2 1.41-.59l7.78-7.78 2.81-2.81c.8-.78.8-2.07 0-2.86zM5.41 20L4 18.59l7.72-7.72 1.47 1.35L5.41 20z\"/>\n",
              "  </svg>\n",
              "      </button>\n",
              "      \n",
              "  <style>\n",
              "    .colab-df-container {\n",
              "      display:flex;\n",
              "      flex-wrap:wrap;\n",
              "      gap: 12px;\n",
              "    }\n",
              "\n",
              "    .colab-df-convert {\n",
              "      background-color: #E8F0FE;\n",
              "      border: none;\n",
              "      border-radius: 50%;\n",
              "      cursor: pointer;\n",
              "      display: none;\n",
              "      fill: #1967D2;\n",
              "      height: 32px;\n",
              "      padding: 0 0 0 0;\n",
              "      width: 32px;\n",
              "    }\n",
              "\n",
              "    .colab-df-convert:hover {\n",
              "      background-color: #E2EBFA;\n",
              "      box-shadow: 0px 1px 2px rgba(60, 64, 67, 0.3), 0px 1px 3px 1px rgba(60, 64, 67, 0.15);\n",
              "      fill: #174EA6;\n",
              "    }\n",
              "\n",
              "    [theme=dark] .colab-df-convert {\n",
              "      background-color: #3B4455;\n",
              "      fill: #D2E3FC;\n",
              "    }\n",
              "\n",
              "    [theme=dark] .colab-df-convert:hover {\n",
              "      background-color: #434B5C;\n",
              "      box-shadow: 0px 1px 3px 1px rgba(0, 0, 0, 0.15);\n",
              "      filter: drop-shadow(0px 1px 2px rgba(0, 0, 0, 0.3));\n",
              "      fill: #FFFFFF;\n",
              "    }\n",
              "  </style>\n",
              "\n",
              "      <script>\n",
              "        const buttonEl =\n",
              "          document.querySelector('#df-a9767b56-0743-44bc-b75e-4522def1da30 button.colab-df-convert');\n",
              "        buttonEl.style.display =\n",
              "          google.colab.kernel.accessAllowed ? 'block' : 'none';\n",
              "\n",
              "        async function convertToInteractive(key) {\n",
              "          const element = document.querySelector('#df-a9767b56-0743-44bc-b75e-4522def1da30');\n",
              "          const dataTable =\n",
              "            await google.colab.kernel.invokeFunction('convertToInteractive',\n",
              "                                                     [key], {});\n",
              "          if (!dataTable) return;\n",
              "\n",
              "          const docLinkHtml = 'Like what you see? Visit the ' +\n",
              "            '<a target=\"_blank\" href=https://colab.research.google.com/notebooks/data_table.ipynb>data table notebook</a>'\n",
              "            + ' to learn more about interactive tables.';\n",
              "          element.innerHTML = '';\n",
              "          dataTable['output_type'] = 'display_data';\n",
              "          await google.colab.output.renderOutput(dataTable, element);\n",
              "          const docLink = document.createElement('div');\n",
              "          docLink.innerHTML = docLinkHtml;\n",
              "          element.appendChild(docLink);\n",
              "        }\n",
              "      </script>\n",
              "    </div>\n",
              "  </div>\n",
              "  "
            ]
          },
          "metadata": {},
          "execution_count": 105
        }
      ]
    },
    {
      "cell_type": "code",
      "source": [
        "import seaborn as sns\n",
        "%matplotlib inline\n",
        "graph_8 = sns.heatmap(df.corr(),xticklabels=True, yticklabels=True, annot=True)\n",
        "graph_8"
      ],
      "metadata": {
        "id": "V9f-XLS9MuW9",
        "colab": {
          "base_uri": "https://localhost:8080/"
        },
        "outputId": "6adea7e8-50a9-47e0-8f40-1ef86f78f8d3"
      },
      "execution_count": null,
      "outputs": [
        {
          "output_type": "execute_result",
          "data": {
            "text/plain": [
              "<matplotlib.axes._subplots.AxesSubplot at 0x7f49b611fa90>"
            ]
          },
          "metadata": {},
          "execution_count": 106
        },
        {
          "output_type": "display_data",
          "data": {
            "text/plain": [
              "<Figure size 432x288 with 2 Axes>"
            ],
            "image/png": "[encoded data removed]"
          },
          "metadata": {
            "needs_background": "light"
          }
        }
      ]
    },
    {
      "cell_type": "markdown",
      "source": [
        "***graph_9*** is a joint plot and it shows us the distribution of \n",
        "*CO2 EMISSIONS* and *ENGINE SIZE* and also it helps us determine outliers."
      ],
      "metadata": {
        "id": "4fDP01zOPUyd"
      }
    },
    {
      "cell_type": "code",
      "source": [
        "plt.figure(figsize=(12,10))\n",
        "graph_9 = sns.jointplot(df['ENGINE_SIZE_L'].head(500), df['CO2_EMISSIONS'].head(500), kind='hex')\n",
        "graph_9"
      ],
      "metadata": {
        "colab": {
          "base_uri": "https://localhost:8080/"
        },
        "id": "3nzS7M5sVFNT",
        "outputId": "d4de79be-6c31-4176-ef13-34409e171859"
      },
      "execution_count": null,
      "outputs": [
        {
          "output_type": "stream",
          "name": "stderr",
          "text": [
            "/usr/local/lib/python3.7/dist-packages/seaborn/_decorators.py:43: FutureWarning:\n",
            "\n",
            "Pass the following variables as keyword args: x, y. From version 0.12, the only valid positional argument will be `data`, and passing other arguments without an explicit keyword will result in an error or misinterpretation.\n",
            "\n"
          ]
        },
        {
          "output_type": "execute_result",
          "data": {
            "text/plain": [
              "<seaborn.axisgrid.JointGrid at 0x7f49b5fb82d0>"
            ]
          },
          "metadata": {},
          "execution_count": 107
        },
        {
          "output_type": "display_data",
          "data": {
            "text/plain": [
              "<Figure size 864x720 with 0 Axes>"
            ]
          },
          "metadata": {}
        },
        {
          "output_type": "display_data",
          "data": {
            "text/plain": [
              "<Figure size 432x432 with 3 Axes>"
            ],
            "image/png": "[encoded data removed]"
          },
          "metadata": {
            "needs_background": "light"
          }
        }
      ]
    },
    {
      "cell_type": "markdown",
      "source": [
        "**Q.6 How many outliers are there in *CO2_EMISSIONS*?**"
      ],
      "metadata": {
        "id": "dWG23bCl7AGj"
      }
    },
    {
      "cell_type": "markdown",
      "source": [
        "***graph_10*** visually helps us determine the values of outliers by placing the mouse cursor."
      ],
      "metadata": {
        "id": "1Lowzyp4QAzv"
      }
    },
    {
      "cell_type": "code",
      "source": [
        "import plotly.express as px\n",
        "fig = px.box(df, y=\"CO2_EMISSIONS\")\n",
        "fig.show()"
      ],
      "metadata": {
        "id": "PMWrMt7RMucN",
        "colab": {
          "base_uri": "https://localhost:8080/"
        },
        "outputId": "0c4378f5-4a8a-49df-a286-a57d2b3265ea"
      },
      "execution_count": null,
      "outputs": [
        {
          "output_type": "display_data",
          "data": {
            "text/html": [
              "<html>\n",
              "<head><meta charset=\"utf-8\" /></head>\n",
              "<body>\n",
              "    <div>            <script src=\"https://cdnjs.cloudflare.com/ajax/libs/mathjax/2.7.5/MathJax.js?config=TeX-AMS-MML_SVG\"></script><script type=\"text/javascript\">if (window.MathJax) {MathJax.Hub.Config({SVG: {font: \"STIX-Web\"}});}</script>                <script type=\"text/javascript\">window.PlotlyConfig = {MathJaxConfig: 'local'};</script>\n",
              "        <script src=\"https://cdn.plot.ly/plotly-2.8.3.min.js\"></script>                <div id=\"0ff6f61a-29a3-44d8-a253-d506b3a03a7a\" class=\"plotly-graph-div\" style=\"height:525px; width:100%;\"></div>            <script type=\"text/javascript\">                                    window.PLOTLYENV=window.PLOTLYENV || {};                                    if (document.getElementById(\"0ff6f61a-29a3-44d8-a253-d506b3a03a7a\")) {                    Plotly.newPlot(                        \"0ff6f61a-29a3-44d8-a253-d506b3a03a7a\",                        [{\"alignmentgroup\":\"True\",\"hovertemplate\":\"CO2_EMISSIONS=%{y}<extra></extra>\",\"legendgroup\":\"\",\"marker\":{\"color\":\"#636efa\"},\"name\":\"\",\"notched\":false,\"offsetgroup\":\"\",\"orientation\":\"v\",\"showlegend\":false,\"x0\":\" \",\"xaxis\":\"x\",\"y\":[200,263,232,242,230,231,256,261,205,217,271,218,226,288,271,324,324,343,270,178,190,205,208,214,205,205,208,224,234,224,248,215,233,217,220,220,252,273,273,322,356,322,356,267,268,319,315,360,206,227,233,227,227,254,254,323,262,262,325,325,218,218,235,209,309,383,287,379,294,395,323,373,195,202,202,206,219,279,279,279,279,321,214,212,293,292,296,214,301,293,292,296,211,214,224,322,322,322,271,354,322,322,322,322,322,322,279,271,279,213,207,207,230,323,323,241,230,323,323,241,241,364,364,302,241,364,364,302,256,321,199,223,522,608,608,263,277,201,214,184,185,201,209,220,206,221,216,233,239,244,297,303,207,252,222,260,258,260,346,356,281,345,353,211,225,225,237,263,239,269,221,252,232,259,222,239,251,281,281,296,355,349,257,270,263,267,283,283,326,329,297,198,208,175,213,274,240,341,321,314,304,306,328,272,265,298,347,326,380,358,327,359,314,347,327,339,361,364,381,329,345,352,352,385,366,165,170,272,327,332,281,336,354,345,353,263,327,332,281,327,354,345,353,184,178,197,260,277,201,214,242,289,258,249,249,279,242,289,307,305,325,258,305,325,339,352,359,352,242,289,305,258,305,368,265,331,363,221,275,277,291,323,336,331,308,310,314,317,331,209,240,219,238,239,262,182,198,216,136,139,304,317,317,326,242,252,269,277,277,225,256,282,260,249,275,281,300,298,302,289,274,277,256,284,304,304,301,308,295,344,357,359,370,310,313,228,238,395,226,147,220,231,242,236,246,298,314,237,244,252,244,256,314,302,339,256,262,291,392,221,221,211,249,216,216,219,249,273,225,298,303,229,275,248,279,221,252,232,259,257,270,263,267,283,283,274,245,341,321,314,305,306,328,265,298,347,326,380,358,327,359,318,347,329,338,360,381,329,345,352,385,202,212,272,327,332,281,327,354,345,353,272,327,332,281,336,354,345,353,168,176,211,117,129,166,175,167,186,162,162,165,180,180,189,181,193,200,248,265,256,260,271,179,158,151,185,241,223,103,99,94,174,246,193,187,265,250,233,235,176,183,208,182,117,194,214,152,248,226,176,184,254,261,252,259,228,223,253,355,247,245,286,299,286,299,299,299,214,219,240,229,230,249,268,218,222,263,271,290,296,256,331,266,331,265,374,204,222,231,323,241,274,258,277,251,255,275,275,262,285,387,252,184,165,178,190,169,207,195,110,110,124,159,166,182,205,195,234,227,157,187,214,261,238,280,266,489,498,498,371,370,371,370,384,289,287,339,306,287,350,271,270,279,279,305,305,354,365,269,269,294,336,195,124,214,219,337,221,253,253,280,294,304,189,270,216,298,198,221,222,140,253,253,285,252,268,185,190,168,140,280,229,232,252,251,262,311,271,271,293,348,308,308,349,349,295,281,281,293,348,179,186,189,202,208,220,216,209,230,243,178,180,183,199,207,181,181,190,198,200,209,186,189,194,202,221,221,256,252,227,243,241,232,247,239,230,260,262,264,287,283,292,258,224,217,200,229,229,218,233,225,229,210,224,242,237,250,244,247,269,301,267,267,282,231,285,170,177,170,177,170,177,211,174,211,174,211,207,182,205,212,191,211,210,198,210,216,143,151,208,206,213,218,186,190,362,266,288,169,233,245,246,188,213,196,169,190,179,181,195,167,171,185,189,158,181,233,245,236,245,255,263,260,284,233,245,236,245,255,263,271,286,260,284,271,286,275,275,275,275,274,264,273,275,275,275,273,281,289,276,289,278,288,289,288,296,334,355,335,354,275,274,278,287,296,321,324,321,328,289,289,307,305,331,326,343,330,345,263,289,290,274,274,289,274,276,292,292,323,323,326,326,326,243,238,253,245,320,275,260,260,325,284,465,280,323,295,330,232,386,386,387,387,387,382,382,245,224,247,184,220,188,192,210,174,209,178,211,205,184,213,192,235,262,254,323,321,189,174,178,215,220,192,195,113,121,166,170,165,159,164,172,164,159,179,106,171,182,224,246,195,218,241,158,156,106,111,184,180,198,187,184,200,140,385,154,158,278,299,300,277,285,286,274,277,142,249,286,252,275,194,198,213,237,159,167,161,185,186,196,178,200,222,229,186,193,212,224,221,222,217,219,219,232,236,252],\"y0\":\" \",\"yaxis\":\"y\",\"type\":\"box\"}],                        {\"template\":{\"data\":{\"bar\":[{\"error_x\":{\"color\":\"#2a3f5f\"},\"error_y\":{\"color\":\"#2a3f5f\"},\"marker\":{\"line\":{\"color\":\"#E5ECF6\",\"width\":0.5},\"pattern\":{\"fillmode\":\"overlay\",\"size\":10,\"solidity\":0.2}},\"type\":\"bar\"}],\"barpolar\":[{\"marker\":{\"line\":{\"color\":\"#E5ECF6\",\"width\":0.5},\"pattern\":{\"fillmode\":\"overlay\",\"size\":10,\"solidity\":0.2}},\"type\":\"barpolar\"}],\"carpet\":[{\"aaxis\":{\"endlinecolor\":\"#2a3f5f\",\"gridcolor\":\"white\",\"linecolor\":\"white\",\"minorgridcolor\":\"white\",\"startlinecolor\":\"#2a3f5f\"},\"baxis\":{\"endlinecolor\":\"#2a3f5f\",\"gridcolor\":\"white\",\"linecolor\":\"white\",\"minorgridcolor\":\"white\",\"startlinecolor\":\"#2a3f5f\"},\"type\":\"carpet\"}],\"choropleth\":[{\"colorbar\":{\"outlinewidth\":0,\"ticks\":\"\"},\"type\":\"choropleth\"}],\"contour\":[{\"colorbar\":{\"outlinewidth\":0,\"ticks\":\"\"},\"colorscale\":[[0.0,\"#0d0887\"],[0.1111111111111111,\"#46039f\"],[0.2222222222222222,\"#7201a8\"],[0.3333333333333333,\"#9c179e\"],[0.4444444444444444,\"#bd3786\"],[0.5555555555555556,\"#d8576b\"],[0.6666666666666666,\"#ed7953\"],[0.7777777777777778,\"#fb9f3a\"],[0.8888888888888888,\"#fdca26\"],[1.0,\"#f0f921\"]],\"type\":\"contour\"}],\"contourcarpet\":[{\"colorbar\":{\"outlinewidth\":0,\"ticks\":\"\"},\"type\":\"contourcarpet\"}],\"heatmap\":[{\"colorbar\":{\"outlinewidth\":0,\"ticks\":\"\"},\"colorscale\":[[0.0,\"#0d0887\"],[0.1111111111111111,\"#46039f\"],[0.2222222222222222,\"#7201a8\"],[0.3333333333333333,\"#9c179e\"],[0.4444444444444444,\"#bd3786\"],[0.5555555555555556,\"#d8576b\"],[0.6666666666666666,\"#ed7953\"],[0.7777777777777778,\"#fb9f3a\"],[0.8888888888888888,\"#fdca26\"],[1.0,\"#f0f921\"]],\"type\":\"heatmap\"}],\"heatmapgl\":[{\"colorbar\":{\"outlinewidth\":0,\"ticks\":\"\"},\"colorscale\":[[0.0,\"#0d0887\"],[0.1111111111111111,\"#46039f\"],[0.2222222222222222,\"#7201a8\"],[0.3333333333333333,\"#9c179e\"],[0.4444444444444444,\"#bd3786\"],[0.5555555555555556,\"#d8576b\"],[0.6666666666666666,\"#ed7953\"],[0.7777777777777778,\"#fb9f3a\"],[0.8888888888888888,\"#fdca26\"],[1.0,\"#f0f921\"]],\"type\":\"heatmapgl\"}],\"histogram\":[{\"marker\":{\"pattern\":{\"fillmode\":\"overlay\",\"size\":10,\"solidity\":0.2}},\"type\":\"histogram\"}],\"histogram2d\":[{\"colorbar\":{\"outlinewidth\":0,\"ticks\":\"\"},\"colorscale\":[[0.0,\"#0d0887\"],[0.1111111111111111,\"#46039f\"],[0.2222222222222222,\"#7201a8\"],[0.3333333333333333,\"#9c179e\"],[0.4444444444444444,\"#bd3786\"],[0.5555555555555556,\"#d8576b\"],[0.6666666666666666,\"#ed7953\"],[0.7777777777777778,\"#fb9f3a\"],[0.8888888888888888,\"#fdca26\"],[1.0,\"#f0f921\"]],\"type\":\"histogram2d\"}],\"histogram2dcontour\":[{\"colorbar\":{\"outlinewidth\":0,\"ticks\":\"\"},\"colorscale\":[[0.0,\"#0d0887\"],[0.1111111111111111,\"#46039f\"],[0.2222222222222222,\"#7201a8\"],[0.3333333333333333,\"#9c179e\"],[0.4444444444444444,\"#bd3786\"],[0.5555555555555556,\"#d8576b\"],[0.6666666666666666,\"#ed7953\"],[0.7777777777777778,\"#fb9f3a\"],[0.8888888888888888,\"#fdca26\"],[1.0,\"#f0f921\"]],\"type\":\"histogram2dcontour\"}],\"mesh3d\":[{\"colorbar\":{\"outlinewidth\":0,\"ticks\":\"\"},\"type\":\"mesh3d\"}],\"parcoords\":[{\"line\":{\"colorbar\":{\"outlinewidth\":0,\"ticks\":\"\"}},\"type\":\"parcoords\"}],\"pie\":[{\"automargin\":true,\"type\":\"pie\"}],\"scatter\":[{\"marker\":{\"colorbar\":{\"outlinewidth\":0,\"ticks\":\"\"}},\"type\":\"scatter\"}],\"scatter3d\":[{\"line\":{\"colorbar\":{\"outlinewidth\":0,\"ticks\":\"\"}},\"marker\":{\"colorbar\":{\"outlinewidth\":0,\"ticks\":\"\"}},\"type\":\"scatter3d\"}],\"scattercarpet\":[{\"marker\":{\"colorbar\":{\"outlinewidth\":0,\"ticks\":\"\"}},\"type\":\"scattercarpet\"}],\"scattergeo\":[{\"marker\":{\"colorbar\":{\"outlinewidth\":0,\"ticks\":\"\"}},\"type\":\"scattergeo\"}],\"scattergl\":[{\"marker\":{\"colorbar\":{\"outlinewidth\":0,\"ticks\":\"\"}},\"type\":\"scattergl\"}],\"scattermapbox\":[{\"marker\":{\"colorbar\":{\"outlinewidth\":0,\"ticks\":\"\"}},\"type\":\"scattermapbox\"}],\"scatterpolar\":[{\"marker\":{\"colorbar\":{\"outlinewidth\":0,\"ticks\":\"\"}},\"type\":\"scatterpolar\"}],\"scatterpolargl\":[{\"marker\":{\"colorbar\":{\"outlinewidth\":0,\"ticks\":\"\"}},\"type\":\"scatterpolargl\"}],\"scatterternary\":[{\"marker\":{\"colorbar\":{\"outlinewidth\":0,\"ticks\":\"\"}},\"type\":\"scatterternary\"}],\"surface\":[{\"colorbar\":{\"outlinewidth\":0,\"ticks\":\"\"},\"colorscale\":[[0.0,\"#0d0887\"],[0.1111111111111111,\"#46039f\"],[0.2222222222222222,\"#7201a8\"],[0.3333333333333333,\"#9c179e\"],[0.4444444444444444,\"#bd3786\"],[0.5555555555555556,\"#d8576b\"],[0.6666666666666666,\"#ed7953\"],[0.7777777777777778,\"#fb9f3a\"],[0.8888888888888888,\"#fdca26\"],[1.0,\"#f0f921\"]],\"type\":\"surface\"}],\"table\":[{\"cells\":{\"fill\":{\"color\":\"#EBF0F8\"},\"line\":{\"color\":\"white\"}},\"header\":{\"fill\":{\"color\":\"#C8D4E3\"},\"line\":{\"color\":\"white\"}},\"type\":\"table\"}]},\"layout\":{\"annotationdefaults\":{\"arrowcolor\":\"#2a3f5f\",\"arrowhead\":0,\"arrowwidth\":1},\"autotypenumbers\":\"strict\",\"coloraxis\":{\"colorbar\":{\"outlinewidth\":0,\"ticks\":\"\"}},\"colorscale\":{\"diverging\":[[0,\"#8e0152\"],[0.1,\"#c51b7d\"],[0.2,\"#de77ae\"],[0.3,\"#f1b6da\"],[0.4,\"#fde0ef\"],[0.5,\"#f7f7f7\"],[0.6,\"#e6f5d0\"],[0.7,\"#b8e186\"],[0.8,\"#7fbc41\"],[0.9,\"#4d9221\"],[1,\"#276419\"]],\"sequential\":[[0.0,\"#0d0887\"],[0.1111111111111111,\"#46039f\"],[0.2222222222222222,\"#7201a8\"],[0.3333333333333333,\"#9c179e\"],[0.4444444444444444,\"#bd3786\"],[0.5555555555555556,\"#d8576b\"],[0.6666666666666666,\"#ed7953\"],[0.7777777777777778,\"#fb9f3a\"],[0.8888888888888888,\"#fdca26\"],[1.0,\"#f0f921\"]],\"sequentialminus\":[[0.0,\"#0d0887\"],[0.1111111111111111,\"#46039f\"],[0.2222222222222222,\"#7201a8\"],[0.3333333333333333,\"#9c179e\"],[0.4444444444444444,\"#bd3786\"],[0.5555555555555556,\"#d8576b\"],[0.6666666666666666,\"#ed7953\"],[0.7777777777777778,\"#fb9f3a\"],[0.8888888888888888,\"#fdca26\"],[1.0,\"#f0f921\"]]},\"colorway\":[\"#636efa\",\"#EF553B\",\"#00cc96\",\"#ab63fa\",\"#FFA15A\",\"#19d3f3\",\"#FF6692\",\"#B6E880\",\"#FF97FF\",\"#FECB52\"],\"font\":{\"color\":\"#2a3f5f\"},\"geo\":{\"bgcolor\":\"white\",\"lakecolor\":\"white\",\"landcolor\":\"#E5ECF6\",\"showlakes\":true,\"showland\":true,\"subunitcolor\":\"white\"},\"hoverlabel\":{\"align\":\"left\"},\"hovermode\":\"closest\",\"mapbox\":{\"style\":\"light\"},\"paper_bgcolor\":\"white\",\"plot_bgcolor\":\"#E5ECF6\",\"polar\":{\"angularaxis\":{\"gridcolor\":\"white\",\"linecolor\":\"white\",\"ticks\":\"\"},\"bgcolor\":\"#E5ECF6\",\"radialaxis\":{\"gridcolor\":\"white\",\"linecolor\":\"white\",\"ticks\":\"\"}},\"scene\":{\"xaxis\":{\"backgroundcolor\":\"#E5ECF6\",\"gridcolor\":\"white\",\"gridwidth\":2,\"linecolor\":\"white\",\"showbackground\":true,\"ticks\":\"\",\"zerolinecolor\":\"white\"},\"yaxis\":{\"backgroundcolor\":\"#E5ECF6\",\"gridcolor\":\"white\",\"gridwidth\":2,\"linecolor\":\"white\",\"showbackground\":true,\"ticks\":\"\",\"zerolinecolor\":\"white\"},\"zaxis\":{\"backgroundcolor\":\"#E5ECF6\",\"gridcolor\":\"white\",\"gridwidth\":2,\"linecolor\":\"white\",\"showbackground\":true,\"ticks\":\"\",\"zerolinecolor\":\"white\"}},\"shapedefaults\":{\"line\":{\"color\":\"#2a3f5f\"}},\"ternary\":{\"aaxis\":{\"gridcolor\":\"white\",\"linecolor\":\"white\",\"ticks\":\"\"},\"baxis\":{\"gridcolor\":\"white\",\"linecolor\":\"white\",\"ticks\":\"\"},\"bgcolor\":\"#E5ECF6\",\"caxis\":{\"gridcolor\":\"white\",\"linecolor\":\"white\",\"ticks\":\"\"}},\"title\":{\"x\":0.05},\"xaxis\":{\"automargin\":true,\"gridcolor\":\"white\",\"linecolor\":\"white\",\"ticks\":\"\",\"title\":{\"standoff\":15},\"zerolinecolor\":\"white\",\"zerolinewidth\":2},\"yaxis\":{\"automargin\":true,\"gridcolor\":\"white\",\"linecolor\":\"white\",\"ticks\":\"\",\"title\":{\"standoff\":15},\"zerolinecolor\":\"white\",\"zerolinewidth\":2}}},\"xaxis\":{\"anchor\":\"y\",\"domain\":[0.0,1.0]},\"yaxis\":{\"anchor\":\"x\",\"domain\":[0.0,1.0],\"title\":{\"text\":\"CO2_EMISSIONS\"}},\"legend\":{\"tracegroupgap\":0},\"margin\":{\"t\":60},\"boxmode\":\"group\"},                        {\"responsive\": true}                    ).then(function(){\n",
              "                            \n",
              "var gd = document.getElementById('0ff6f61a-29a3-44d8-a253-d506b3a03a7a');\n",
              "var x = new MutationObserver(function (mutations, observer) {{\n",
              "        var display = window.getComputedStyle(gd).display;\n",
              "        if (!display || display === 'none') {{\n",
              "            console.log([gd, 'removed!']);\n",
              "            Plotly.purge(gd);\n",
              "            observer.disconnect();\n",
              "        }}\n",
              "}});\n",
              "\n",
              "// Listen for the removal of the full notebook cells\n",
              "var notebookContainer = gd.closest('#notebook-container');\n",
              "if (notebookContainer) {{\n",
              "    x.observe(notebookContainer, {childList: true});\n",
              "}}\n",
              "\n",
              "// Listen for the clearing of the current output cell\n",
              "var outputEl = gd.closest('.output');\n",
              "if (outputEl) {{\n",
              "    x.observe(outputEl, {childList: true});\n",
              "}}\n",
              "\n",
              "                        })                };                            </script>        </div>\n",
              "</body>\n",
              "</html>"
            ]
          },
          "metadata": {}
        }
      ]
    },
    {
      "cell_type": "markdown",
      "source": [
        "***graph_11*** represents normal distribution of *CO2_EMISSIONS*."
      ],
      "metadata": {
        "id": "QLN5a9twQqhQ"
      }
    },
    {
      "cell_type": "code",
      "source": [
        "plt.figure(figsize=(12,10))\n",
        "sns.distplot(df['CO2_EMISSIONS'])\n",
        "plt.title(\"CO2_EMISSIONS is normally distributed.\")"
      ],
      "metadata": {
        "colab": {
          "base_uri": "https://localhost:8080/"
        },
        "id": "FOEao640Q06u",
        "outputId": "e83b9841-5b95-4cdd-e892-7a9283c44dd4"
      },
      "execution_count": null,
      "outputs": [
        {
          "output_type": "stream",
          "name": "stderr",
          "text": [
            "/usr/local/lib/python3.7/dist-packages/seaborn/distributions.py:2619: FutureWarning:\n",
            "\n",
            "`distplot` is a deprecated function and will be removed in a future version. Please adapt your code to use either `displot` (a figure-level function with similar flexibility) or `histplot` (an axes-level function for histograms).\n",
            "\n"
          ]
        },
        {
          "output_type": "execute_result",
          "data": {
            "text/plain": [
              "Text(0.5, 1.0, 'CO2_EMISSIONS is normally distributed.')"
            ]
          },
          "metadata": {},
          "execution_count": 109
        },
        {
          "output_type": "display_data",
          "data": {
            "text/plain": [
              "<Figure size 864x720 with 1 Axes>"
            ],
            "image/png": "[encoded data removed]"
          },
          "metadata": {
            "needs_background": "light"
          }
        }
      ]
    },
    {
      "cell_type": "markdown",
      "source": [
        "###**1.5 DATA PREPROCESSING**"
      ],
      "metadata": {
        "id": "p7yVaoN3RNVo"
      }
    },
    {
      "cell_type": "code",
      "source": [
        "#checking the datatypes\n",
        "df.dtypes"
      ],
      "metadata": {
        "id": "0C4vdRgJOoi3",
        "colab": {
          "base_uri": "https://localhost:8080/"
        },
        "outputId": "2789ac48-7b2e-4060-d8c1-5eb0e99e6ae4"
      },
      "execution_count": null,
      "outputs": [
        {
          "output_type": "execute_result",
          "data": {
            "text/plain": [
              "MODEL_YEAR                         int64\n",
              "BRAND                             object\n",
              "MODEL                             object\n",
              "VEHICLE_CLASS                     object\n",
              "ENGINE_SIZE_L                    float64\n",
              "CYLINDERS                          int64\n",
              "TRANSMISSION                      object\n",
              "FUEL_TYPE                         object\n",
              "FUEL_CONSUMPTION_CITY_L/100KM    float64\n",
              "FUEL_CONSUMPTION_HWY_L/100KM     float64\n",
              "FUEL_CONSUMPTION_COMB_L/100KM    float64\n",
              "FUEL_CONSUMPTION_COMB_MPG          int64\n",
              "CO2_EMISSIONS                      int64\n",
              "CO2_RATING                         int64\n",
              "SMOG_RATING                        int64\n",
              "dtype: object"
            ]
          },
          "metadata": {},
          "execution_count": 110
        }
      ]
    },
    {
      "cell_type": "code",
      "source": [
        "#understanding categorical data and converting it into int\n",
        "df.BRAND.unique()"
      ],
      "metadata": {
        "id": "CGpO-7NjOouR",
        "colab": {
          "base_uri": "https://localhost:8080/"
        },
        "outputId": "29c56a40-1819-4543-f561-b70a086a1447"
      },
      "execution_count": null,
      "outputs": [
        {
          "output_type": "execute_result",
          "data": {
            "text/plain": [
              "array(['Acura', 'Alfa Romeo', 'Aston Martin', 'Audi', 'Bentley', 'BMW',\n",
              "       'Bugatti', 'Buick', 'Cadillac', 'Chevrolet', 'Chrysler', 'Dodge',\n",
              "       'FIAT', 'Ford', 'Genesis', 'GMC', 'Honda', 'Hyundai', 'Infiniti',\n",
              "       'Jaguar', 'Jeep', 'Kia', 'Lamborghini', 'Land Rover', 'Lexus',\n",
              "       'Lincoln', 'Maserati', 'Mazda', 'Mercedes-Benz', 'MINI',\n",
              "       'Mitsubishi', 'Nissan', 'Porsche', 'Ram', 'Rolls-Royce', 'Subaru',\n",
              "       'Toyota', 'Volkswagen', 'Volvo'], dtype=object)"
            ]
          },
          "metadata": {},
          "execution_count": 111
        }
      ]
    },
    {
      "cell_type": "code",
      "source": [
        "from sklearn import preprocessing\n",
        "\n",
        "lab_en = preprocessing.LabelEncoder()\n",
        "df['BRAND'] = lab_en.fit_transform(df['BRAND'])\n",
        "df['MODEL'] = lab_en.fit_transform(df['MODEL'])\n",
        "df['VEHICLE_CLASS'] = lab_en.fit_transform(df['VEHICLE_CLASS'])\n",
        "df['TRANSMISSION'] = lab_en.fit_transform(df['TRANSMISSION'])\n",
        "df['FUEL_TYPE'] = lab_en.fit_transform(df['FUEL_TYPE'])\n",
        "df"
      ],
      "metadata": {
        "id": "00cD-atzbvwe",
        "colab": {
          "base_uri": "https://localhost:8080/",
          "height": 488
        },
        "outputId": "bbf3c715-6151-4dd0-aedb-87b2e9be8695"
      },
      "execution_count": null,
      "outputs": [
        {
          "output_type": "execute_result",
          "data": {
            "text/plain": [
              "     MODEL_YEAR  BRAND  MODEL  VEHICLE_CLASS  ENGINE_SIZE_L  CYLINDERS  \\\n",
              "0          2022      0    349              0            2.4          4   \n",
              "1          2022      0    410              7            3.5          6   \n",
              "2          2022      0    513              7            2.0          4   \n",
              "3          2022      0    514              7            2.0          4   \n",
              "4          2022      0    615              0            2.0          4   \n",
              "..          ...    ...    ...            ...            ...        ...   \n",
              "941        2022     38    695              7            2.0          4   \n",
              "942        2022     38    696              7            2.0          4   \n",
              "943        2022     38    697              7            2.0          4   \n",
              "944        2022     38    698              8            2.0          4   \n",
              "945        2022     38    699              8            2.0          4   \n",
              "\n",
              "     TRANSMISSION  FUEL_TYPE  FUEL_CONSUMPTION_CITY_L/100KM  \\\n",
              "0               7          3                            9.9   \n",
              "1               8          3                           12.6   \n",
              "2               8          3                           11.0   \n",
              "3               8          3                           11.3   \n",
              "4               8          3                           11.2   \n",
              "..            ...        ...                            ...   \n",
              "941            12          3                           10.7   \n",
              "942            12          3                           10.5   \n",
              "943            12          3                           11.0   \n",
              "944            12          3                           11.5   \n",
              "945            12          3                           12.4   \n",
              "\n",
              "     FUEL_CONSUMPTION_HWY_L/100KM  FUEL_CONSUMPTION_COMB_L/100KM  \\\n",
              "0                             7.0                            8.6   \n",
              "1                             9.4                           11.2   \n",
              "2                             8.6                            9.9   \n",
              "3                             9.1                           10.3   \n",
              "4                             8.0                            9.8   \n",
              "..                            ...                            ...   \n",
              "941                           7.7                            9.4   \n",
              "942                           8.1                            9.4   \n",
              "943                           8.7                            9.9   \n",
              "944                           8.4                           10.1   \n",
              "945                           8.9                           10.8   \n",
              "\n",
              "     FUEL_CONSUMPTION_COMB_MPG  CO2_EMISSIONS  CO2_RATING  SMOG_RATING  \n",
              "0                           33            200           6            3  \n",
              "1                           25            263           4            5  \n",
              "2                           29            232           5            6  \n",
              "3                           27            242           5            6  \n",
              "4                           29            230           5            7  \n",
              "..                         ...            ...         ...          ...  \n",
              "941                         30            219           5            5  \n",
              "942                         30            219           5            5  \n",
              "943                         29            232           5            7  \n",
              "944                         28            236           5            5  \n",
              "945                         26            252           5            7  \n",
              "\n",
              "[946 rows x 15 columns]"
            ],
            "text/html": [
              "\n",
              "  <div id=\"df-cf31ae3b-389e-4e79-85a3-e0beafccfbe6\">\n",
              "    <div class=\"colab-df-container\">\n",
              "      <div>\n",
              "<style scoped>\n",
              "    .dataframe tbody tr th:only-of-type {\n",
              "        vertical-align: middle;\n",
              "    }\n",
              "\n",
              "    .dataframe tbody tr th {\n",
              "        vertical-align: top;\n",
              "    }\n",
              "\n",
              "    .dataframe thead th {\n",
              "        text-align: right;\n",
              "    }\n",
              "</style>\n",
              "<table border=\"1\" class=\"dataframe\">\n",
              "  <thead>\n",
              "    <tr style=\"text-align: right;\">\n",
              "      <th></th>\n",
              "      <th>MODEL_YEAR</th>\n",
              "      <th>BRAND</th>\n",
              "      <th>MODEL</th>\n",
              "      <th>VEHICLE_CLASS</th>\n",
              "      <th>ENGINE_SIZE_L</th>\n",
              "      <th>CYLINDERS</th>\n",
              "      <th>TRANSMISSION</th>\n",
              "      <th>FUEL_TYPE</th>\n",
              "      <th>FUEL_CONSUMPTION_CITY_L/100KM</th>\n",
              "      <th>FUEL_CONSUMPTION_HWY_L/100KM</th>\n",
              "      <th>FUEL_CONSUMPTION_COMB_L/100KM</th>\n",
              "      <th>FUEL_CONSUMPTION_COMB_MPG</th>\n",
              "      <th>CO2_EMISSIONS</th>\n",
              "      <th>CO2_RATING</th>\n",
              "      <th>SMOG_RATING</th>\n",
              "    </tr>\n",
              "  </thead>\n",
              "  <tbody>\n",
              "    <tr>\n",
              "      <th>0</th>\n",
              "      <td>2022</td>\n",
              "      <td>0</td>\n",
              "      <td>349</td>\n",
              "      <td>0</td>\n",
              "      <td>2.4</td>\n",
              "      <td>4</td>\n",
              "      <td>7</td>\n",
              "      <td>3</td>\n",
              "      <td>9.9</td>\n",
              "      <td>7.0</td>\n",
              "      <td>8.6</td>\n",
              "      <td>33</td>\n",
              "      <td>200</td>\n",
              "      <td>6</td>\n",
              "      <td>3</td>\n",
              "    </tr>\n",
              "    <tr>\n",
              "      <th>1</th>\n",
              "      <td>2022</td>\n",
              "      <td>0</td>\n",
              "      <td>410</td>\n",
              "      <td>7</td>\n",
              "      <td>3.5</td>\n",
              "      <td>6</td>\n",
              "      <td>8</td>\n",
              "      <td>3</td>\n",
              "      <td>12.6</td>\n",
              "      <td>9.4</td>\n",
              "      <td>11.2</td>\n",
              "      <td>25</td>\n",
              "      <td>263</td>\n",
              "      <td>4</td>\n",
              "      <td>5</td>\n",
              "    </tr>\n",
              "    <tr>\n",
              "      <th>2</th>\n",
              "      <td>2022</td>\n",
              "      <td>0</td>\n",
              "      <td>513</td>\n",
              "      <td>7</td>\n",
              "      <td>2.0</td>\n",
              "      <td>4</td>\n",
              "      <td>8</td>\n",
              "      <td>3</td>\n",
              "      <td>11.0</td>\n",
              "      <td>8.6</td>\n",
              "      <td>9.9</td>\n",
              "      <td>29</td>\n",
              "      <td>232</td>\n",
              "      <td>5</td>\n",
              "      <td>6</td>\n",
              "    </tr>\n",
              "    <tr>\n",
              "      <th>3</th>\n",
              "      <td>2022</td>\n",
              "      <td>0</td>\n",
              "      <td>514</td>\n",
              "      <td>7</td>\n",
              "      <td>2.0</td>\n",
              "      <td>4</td>\n",
              "      <td>8</td>\n",
              "      <td>3</td>\n",
              "      <td>11.3</td>\n",
              "      <td>9.1</td>\n",
              "      <td>10.3</td>\n",
              "      <td>27</td>\n",
              "      <td>242</td>\n",
              "      <td>5</td>\n",
              "      <td>6</td>\n",
              "    </tr>\n",
              "    <tr>\n",
              "      <th>4</th>\n",
              "      <td>2022</td>\n",
              "      <td>0</td>\n",
              "      <td>615</td>\n",
              "      <td>0</td>\n",
              "      <td>2.0</td>\n",
              "      <td>4</td>\n",
              "      <td>8</td>\n",
              "      <td>3</td>\n",
              "      <td>11.2</td>\n",
              "      <td>8.0</td>\n",
              "      <td>9.8</td>\n",
              "      <td>29</td>\n",
              "      <td>230</td>\n",
              "      <td>5</td>\n",
              "      <td>7</td>\n",
              "    </tr>\n",
              "    <tr>\n",
              "      <th>...</th>\n",
              "      <td>...</td>\n",
              "      <td>...</td>\n",
              "      <td>...</td>\n",
              "      <td>...</td>\n",
              "      <td>...</td>\n",
              "      <td>...</td>\n",
              "      <td>...</td>\n",
              "      <td>...</td>\n",
              "      <td>...</td>\n",
              "      <td>...</td>\n",
              "      <td>...</td>\n",
              "      <td>...</td>\n",
              "      <td>...</td>\n",
              "      <td>...</td>\n",
              "      <td>...</td>\n",
              "    </tr>\n",
              "    <tr>\n",
              "      <th>941</th>\n",
              "      <td>2022</td>\n",
              "      <td>38</td>\n",
              "      <td>695</td>\n",
              "      <td>7</td>\n",
              "      <td>2.0</td>\n",
              "      <td>4</td>\n",
              "      <td>12</td>\n",
              "      <td>3</td>\n",
              "      <td>10.7</td>\n",
              "      <td>7.7</td>\n",
              "      <td>9.4</td>\n",
              "      <td>30</td>\n",
              "      <td>219</td>\n",
              "      <td>5</td>\n",
              "      <td>5</td>\n",
              "    </tr>\n",
              "    <tr>\n",
              "      <th>942</th>\n",
              "      <td>2022</td>\n",
              "      <td>38</td>\n",
              "      <td>696</td>\n",
              "      <td>7</td>\n",
              "      <td>2.0</td>\n",
              "      <td>4</td>\n",
              "      <td>12</td>\n",
              "      <td>3</td>\n",
              "      <td>10.5</td>\n",
              "      <td>8.1</td>\n",
              "      <td>9.4</td>\n",
              "      <td>30</td>\n",
              "      <td>219</td>\n",
              "      <td>5</td>\n",
              "      <td>5</td>\n",
              "    </tr>\n",
              "    <tr>\n",
              "      <th>943</th>\n",
              "      <td>2022</td>\n",
              "      <td>38</td>\n",
              "      <td>697</td>\n",
              "      <td>7</td>\n",
              "      <td>2.0</td>\n",
              "      <td>4</td>\n",
              "      <td>12</td>\n",
              "      <td>3</td>\n",
              "      <td>11.0</td>\n",
              "      <td>8.7</td>\n",
              "      <td>9.9</td>\n",
              "      <td>29</td>\n",
              "      <td>232</td>\n",
              "      <td>5</td>\n",
              "      <td>7</td>\n",
              "    </tr>\n",
              "    <tr>\n",
              "      <th>944</th>\n",
              "      <td>2022</td>\n",
              "      <td>38</td>\n",
              "      <td>698</td>\n",
              "      <td>8</td>\n",
              "      <td>2.0</td>\n",
              "      <td>4</td>\n",
              "      <td>12</td>\n",
              "      <td>3</td>\n",
              "      <td>11.5</td>\n",
              "      <td>8.4</td>\n",
              "      <td>10.1</td>\n",
              "      <td>28</td>\n",
              "      <td>236</td>\n",
              "      <td>5</td>\n",
              "      <td>5</td>\n",
              "    </tr>\n",
              "    <tr>\n",
              "      <th>945</th>\n",
              "      <td>2022</td>\n",
              "      <td>38</td>\n",
              "      <td>699</td>\n",
              "      <td>8</td>\n",
              "      <td>2.0</td>\n",
              "      <td>4</td>\n",
              "      <td>12</td>\n",
              "      <td>3</td>\n",
              "      <td>12.4</td>\n",
              "      <td>8.9</td>\n",
              "      <td>10.8</td>\n",
              "      <td>26</td>\n",
              "      <td>252</td>\n",
              "      <td>5</td>\n",
              "      <td>7</td>\n",
              "    </tr>\n",
              "  </tbody>\n",
              "</table>\n",
              "<p>946 rows × 15 columns</p>\n",
              "</div>\n",
              "      <button class=\"colab-df-convert\" onclick=\"convertToInteractive('df-cf31ae3b-389e-4e79-85a3-e0beafccfbe6')\"\n",
              "              title=\"Convert this dataframe to an interactive table.\"\n",
              "              style=\"display:none;\">\n",
              "        \n",
              "  <svg xmlns=\"http://www.w3.org/2000/svg\" height=\"24px\"viewBox=\"0 0 24 24\"\n",
              "       width=\"24px\">\n",
              "    <path d=\"M0 0h24v24H0V0z\" fill=\"none\"/>\n",
              "    <path d=\"M18.56 5.44l.94 2.06.94-2.06 2.06-.94-2.06-.94-.94-2.06-.94 2.06-2.06.94zm-11 1L8.5 8.5l.94-2.06 2.06-.94-2.06-.94L8.5 2.5l-.94 2.06-2.06.94zm10 10l.94 2.06.94-2.06 2.06-.94-2.06-.94-.94-2.06-.94 2.06-2.06.94z\"/><path d=\"M17.41 7.96l-1.37-1.37c-.4-.4-.92-.59-1.43-.59-.52 0-1.04.2-1.43.59L10.3 9.45l-7.72 7.72c-.78.78-.78 2.05 0 2.83L4 21.41c.39.39.9.59 1.41.59.51 0 1.02-.2 1.41-.59l7.78-7.78 2.81-2.81c.8-.78.8-2.07 0-2.86zM5.41 20L4 18.59l7.72-7.72 1.47 1.35L5.41 20z\"/>\n",
              "  </svg>\n",
              "      </button>\n",
              "      \n",
              "  <style>\n",
              "    .colab-df-container {\n",
              "      display:flex;\n",
              "      flex-wrap:wrap;\n",
              "      gap: 12px;\n",
              "    }\n",
              "\n",
              "    .colab-df-convert {\n",
              "      background-color: #E8F0FE;\n",
              "      border: none;\n",
              "      border-radius: 50%;\n",
              "      cursor: pointer;\n",
              "      display: none;\n",
              "      fill: #1967D2;\n",
              "      height: 32px;\n",
              "      padding: 0 0 0 0;\n",
              "      width: 32px;\n",
              "    }\n",
              "\n",
              "    .colab-df-convert:hover {\n",
              "      background-color: #E2EBFA;\n",
              "      box-shadow: 0px 1px 2px rgba(60, 64, 67, 0.3), 0px 1px 3px 1px rgba(60, 64, 67, 0.15);\n",
              "      fill: #174EA6;\n",
              "    }\n",
              "\n",
              "    [theme=dark] .colab-df-convert {\n",
              "      background-color: #3B4455;\n",
              "      fill: #D2E3FC;\n",
              "    }\n",
              "\n",
              "    [theme=dark] .colab-df-convert:hover {\n",
              "      background-color: #434B5C;\n",
              "      box-shadow: 0px 1px 3px 1px rgba(0, 0, 0, 0.15);\n",
              "      filter: drop-shadow(0px 1px 2px rgba(0, 0, 0, 0.3));\n",
              "      fill: #FFFFFF;\n",
              "    }\n",
              "  </style>\n",
              "\n",
              "      <script>\n",
              "        const buttonEl =\n",
              "          document.querySelector('#df-cf31ae3b-389e-4e79-85a3-e0beafccfbe6 button.colab-df-convert');\n",
              "        buttonEl.style.display =\n",
              "          google.colab.kernel.accessAllowed ? 'block' : 'none';\n",
              "\n",
              "        async function convertToInteractive(key) {\n",
              "          const element = document.querySelector('#df-cf31ae3b-389e-4e79-85a3-e0beafccfbe6');\n",
              "          const dataTable =\n",
              "            await google.colab.kernel.invokeFunction('convertToInteractive',\n",
              "                                                     [key], {});\n",
              "          if (!dataTable) return;\n",
              "\n",
              "          const docLinkHtml = 'Like what you see? Visit the ' +\n",
              "            '<a target=\"_blank\" href=https://colab.research.google.com/notebooks/data_table.ipynb>data table notebook</a>'\n",
              "            + ' to learn more about interactive tables.';\n",
              "          element.innerHTML = '';\n",
              "          dataTable['output_type'] = 'display_data';\n",
              "          await google.colab.output.renderOutput(dataTable, element);\n",
              "          const docLink = document.createElement('div');\n",
              "          docLink.innerHTML = docLinkHtml;\n",
              "          element.appendChild(docLink);\n",
              "        }\n",
              "      </script>\n",
              "    </div>\n",
              "  </div>\n",
              "  "
            ]
          },
          "metadata": {},
          "execution_count": 112
        }
      ]
    },
    {
      "cell_type": "markdown",
      "source": [
        "###**1.6 Linear Regression Model with and without SGD**"
      ],
      "metadata": {
        "id": "RE-ddYIk92Hp"
      }
    },
    {
      "cell_type": "markdown",
      "source": [
        "***Case -1***\n",
        "\n",
        "In this case we have considered CO2_EMISSIONS as dependent variable and the other columns as Independent variables after eliminating Fuel consumption for City, Combined mpg and Cylinders.  "
      ],
      "metadata": {
        "id": "YZjWAcDBfQhb"
      }
    },
    {
      "cell_type": "code",
      "source": [
        "x=df[['MODEL_YEAR','BRAND','MODEL', 'VEHICLE_CLASS', 'ENGINE_SIZE_L','FUEL_CONSUMPTION_COMB_L/100KM', 'TRANSMISSION', 'FUEL_TYPE','CO2_RATING', 'SMOG_RATING']]\n",
        "y=df[['CO2_EMISSIONS']]\n",
        "\n",
        "x_train, x_test, y_train, y_test = train_test_split(x, y, test_size = 0.3, random_state = 42)\n",
        "print('shape for x_train: ',x_train.shape)\n",
        "print('shape for x_test: ',x_test.shape)\n",
        "print('shape for y_train: ',y_train.shape)\n",
        "print('shape for y_test: ',y_test.shape)\n",
        "\n",
        "\n",
        "stnsc = StandardScaler()\n",
        "x_train = stnsc.fit_transform(x_train)\n",
        "x_test = stnsc.fit_transform(x_test)\n",
        "\n",
        "model = LinearRegression()\n",
        "model.fit(x_train,y_train)\n",
        "\n",
        "y_pred = model.predict(x_test)\n",
        "print(\n",
        "    'number of predicted values: ',y_pred.shape)\n",
        "\n",
        "# model evaluation\n",
        "print(\n",
        "  'mean_squared_error : ', mean_squared_error(y_test, y_pred))\n",
        "print(\n",
        "  'mean_absolute_error : ', mean_absolute_error(y_test, y_pred))\n",
        "\n",
        "\n",
        "#r2 score\n",
        "r2_score_case1 = r2_score(y_test, y_pred)\n",
        "print('r2 score for this case is ',r2_score_case1)"
      ],
      "metadata": {
        "id": "m2SzqyGW98L6",
        "colab": {
          "base_uri": "https://localhost:8080/"
        },
        "outputId": "d8cc7091-de0e-4683-9d26-ed050b52943d"
      },
      "execution_count": null,
      "outputs": [
        {
          "output_type": "stream",
          "name": "stdout",
          "text": [
            "shape for x_train:  (662, 10)\n",
            "shape for x_test:  (284, 10)\n",
            "shape for y_train:  (662, 1)\n",
            "shape for y_test:  (284, 1)\n",
            "number of predicted values:  (284, 1)\n",
            "mean_squared_error :  217.15490777730793\n",
            "mean_absolute_error :  6.65613737302523\n",
            "r2 score for this case is  0.9406404317450392\n"
          ]
        }
      ]
    },
    {
      "cell_type": "markdown",
      "source": [
        "**Linear Regression with Stocastic Gradient Descent**\n",
        "\n",
        "We will use *penalty= None* , since predictions is equal to test data.  "
      ],
      "metadata": {
        "id": "P3hAa9MksX0M"
      }
    },
    {
      "cell_type": "code",
      "source": [
        "# Tuning the SGDRegressor parameters 'eta0' (learning rate) and 'max_iter' using Grid Search\n",
        "sgdr = SGDRegressor(random_state = 1, penalty = None)\n",
        "grid_param = {'eta0': [.0001, .001, .01, .1, 1], 'max_iter':[10000, 20000, 30000, 40000]}\n",
        "gd_sr = GridSearchCV(estimator=sgdr, param_grid=grid_param, scoring = 'r2', refit='r2', cv=5, verbose=5)\n",
        "gd_sr.fit(x_train, y_train)\n",
        "\n",
        "\n",
        "\n"
      ],
      "metadata": {
        "id": "KKpDT0cXsWgl",
        "colab": {
          "base_uri": "https://localhost:8080/"
        },
        "outputId": "979b0b60-f390-48aa-bf3e-913ab154a40e"
      },
      "execution_count": null,
      "outputs": [
        {
          "output_type": "stream",
          "name": "stdout",
          "text": [
            "Fitting 5 folds for each of 20 candidates, totalling 100 fits\n"
          ]
        },
        {
          "output_type": "stream",
          "name": "stderr",
          "text": [
            "/usr/local/lib/python3.7/dist-packages/sklearn/utils/validation.py:993: DataConversionWarning:\n",
            "\n",
            "A column-vector y was passed when a 1d array was expected. Please change the shape of y to (n_samples, ), for example using ravel().\n",
            "\n"
          ]
        },
        {
          "output_type": "stream",
          "name": "stdout",
          "text": [
            "[CV 1/5] END .......eta0=0.0001, max_iter=10000;, score=0.957 total time=   0.6s\n"
          ]
        },
        {
          "output_type": "stream",
          "name": "stderr",
          "text": [
            "/usr/local/lib/python3.7/dist-packages/sklearn/utils/validation.py:993: DataConversionWarning:\n",
            "\n",
            "A column-vector y was passed when a 1d array was expected. Please change the shape of y to (n_samples, ), for example using ravel().\n",
            "\n"
          ]
        },
        {
          "output_type": "stream",
          "name": "stdout",
          "text": [
            "[CV 2/5] END .......eta0=0.0001, max_iter=10000;, score=0.969 total time=   0.8s\n"
          ]
        },
        {
          "output_type": "stream",
          "name": "stderr",
          "text": [
            "/usr/local/lib/python3.7/dist-packages/sklearn/utils/validation.py:993: DataConversionWarning:\n",
            "\n",
            "A column-vector y was passed when a 1d array was expected. Please change the shape of y to (n_samples, ), for example using ravel().\n",
            "\n"
          ]
        },
        {
          "output_type": "stream",
          "name": "stdout",
          "text": [
            "[CV 3/5] END .......eta0=0.0001, max_iter=10000;, score=0.968 total time=   1.0s\n"
          ]
        },
        {
          "output_type": "stream",
          "name": "stderr",
          "text": [
            "/usr/local/lib/python3.7/dist-packages/sklearn/utils/validation.py:993: DataConversionWarning:\n",
            "\n",
            "A column-vector y was passed when a 1d array was expected. Please change the shape of y to (n_samples, ), for example using ravel().\n",
            "\n"
          ]
        },
        {
          "output_type": "stream",
          "name": "stdout",
          "text": [
            "[CV 4/5] END .......eta0=0.0001, max_iter=10000;, score=0.971 total time=   0.8s\n"
          ]
        },
        {
          "output_type": "stream",
          "name": "stderr",
          "text": [
            "/usr/local/lib/python3.7/dist-packages/sklearn/utils/validation.py:993: DataConversionWarning:\n",
            "\n",
            "A column-vector y was passed when a 1d array was expected. Please change the shape of y to (n_samples, ), for example using ravel().\n",
            "\n"
          ]
        },
        {
          "output_type": "stream",
          "name": "stdout",
          "text": [
            "[CV 5/5] END .......eta0=0.0001, max_iter=10000;, score=0.980 total time=   0.7s\n"
          ]
        },
        {
          "output_type": "stream",
          "name": "stderr",
          "text": [
            "/usr/local/lib/python3.7/dist-packages/sklearn/utils/validation.py:993: DataConversionWarning:\n",
            "\n",
            "A column-vector y was passed when a 1d array was expected. Please change the shape of y to (n_samples, ), for example using ravel().\n",
            "\n"
          ]
        },
        {
          "output_type": "stream",
          "name": "stdout",
          "text": [
            "[CV 1/5] END .......eta0=0.0001, max_iter=20000;, score=0.957 total time=   0.6s\n"
          ]
        },
        {
          "output_type": "stream",
          "name": "stderr",
          "text": [
            "/usr/local/lib/python3.7/dist-packages/sklearn/utils/validation.py:993: DataConversionWarning:\n",
            "\n",
            "A column-vector y was passed when a 1d array was expected. Please change the shape of y to (n_samples, ), for example using ravel().\n",
            "\n"
          ]
        },
        {
          "output_type": "stream",
          "name": "stdout",
          "text": [
            "[CV 2/5] END .......eta0=0.0001, max_iter=20000;, score=0.969 total time=   0.4s\n"
          ]
        },
        {
          "output_type": "stream",
          "name": "stderr",
          "text": [
            "/usr/local/lib/python3.7/dist-packages/sklearn/utils/validation.py:993: DataConversionWarning:\n",
            "\n",
            "A column-vector y was passed when a 1d array was expected. Please change the shape of y to (n_samples, ), for example using ravel().\n",
            "\n"
          ]
        },
        {
          "output_type": "stream",
          "name": "stdout",
          "text": [
            "[CV 3/5] END .......eta0=0.0001, max_iter=20000;, score=0.968 total time=   0.5s\n"
          ]
        },
        {
          "output_type": "stream",
          "name": "stderr",
          "text": [
            "/usr/local/lib/python3.7/dist-packages/sklearn/utils/validation.py:993: DataConversionWarning:\n",
            "\n",
            "A column-vector y was passed when a 1d array was expected. Please change the shape of y to (n_samples, ), for example using ravel().\n",
            "\n"
          ]
        },
        {
          "output_type": "stream",
          "name": "stdout",
          "text": [
            "[CV 4/5] END .......eta0=0.0001, max_iter=20000;, score=0.971 total time=   0.4s\n"
          ]
        },
        {
          "output_type": "stream",
          "name": "stderr",
          "text": [
            "/usr/local/lib/python3.7/dist-packages/sklearn/utils/validation.py:993: DataConversionWarning:\n",
            "\n",
            "A column-vector y was passed when a 1d array was expected. Please change the shape of y to (n_samples, ), for example using ravel().\n",
            "\n"
          ]
        },
        {
          "output_type": "stream",
          "name": "stdout",
          "text": [
            "[CV 5/5] END .......eta0=0.0001, max_iter=20000;, score=0.980 total time=   0.3s\n"
          ]
        },
        {
          "output_type": "stream",
          "name": "stderr",
          "text": [
            "/usr/local/lib/python3.7/dist-packages/sklearn/utils/validation.py:993: DataConversionWarning:\n",
            "\n",
            "A column-vector y was passed when a 1d array was expected. Please change the shape of y to (n_samples, ), for example using ravel().\n",
            "\n"
          ]
        },
        {
          "output_type": "stream",
          "name": "stdout",
          "text": [
            "[CV 1/5] END .......eta0=0.0001, max_iter=30000;, score=0.957 total time=   0.4s\n"
          ]
        },
        {
          "output_type": "stream",
          "name": "stderr",
          "text": [
            "/usr/local/lib/python3.7/dist-packages/sklearn/utils/validation.py:993: DataConversionWarning:\n",
            "\n",
            "A column-vector y was passed when a 1d array was expected. Please change the shape of y to (n_samples, ), for example using ravel().\n",
            "\n"
          ]
        },
        {
          "output_type": "stream",
          "name": "stdout",
          "text": [
            "[CV 2/5] END .......eta0=0.0001, max_iter=30000;, score=0.969 total time=   0.4s\n"
          ]
        },
        {
          "output_type": "stream",
          "name": "stderr",
          "text": [
            "/usr/local/lib/python3.7/dist-packages/sklearn/utils/validation.py:993: DataConversionWarning:\n",
            "\n",
            "A column-vector y was passed when a 1d array was expected. Please change the shape of y to (n_samples, ), for example using ravel().\n",
            "\n"
          ]
        },
        {
          "output_type": "stream",
          "name": "stdout",
          "text": [
            "[CV 3/5] END .......eta0=0.0001, max_iter=30000;, score=0.968 total time=   0.5s\n"
          ]
        },
        {
          "output_type": "stream",
          "name": "stderr",
          "text": [
            "/usr/local/lib/python3.7/dist-packages/sklearn/utils/validation.py:993: DataConversionWarning:\n",
            "\n",
            "A column-vector y was passed when a 1d array was expected. Please change the shape of y to (n_samples, ), for example using ravel().\n",
            "\n"
          ]
        },
        {
          "output_type": "stream",
          "name": "stdout",
          "text": [
            "[CV 4/5] END .......eta0=0.0001, max_iter=30000;, score=0.971 total time=   0.4s\n"
          ]
        },
        {
          "output_type": "stream",
          "name": "stderr",
          "text": [
            "/usr/local/lib/python3.7/dist-packages/sklearn/utils/validation.py:993: DataConversionWarning:\n",
            "\n",
            "A column-vector y was passed when a 1d array was expected. Please change the shape of y to (n_samples, ), for example using ravel().\n",
            "\n"
          ]
        },
        {
          "output_type": "stream",
          "name": "stdout",
          "text": [
            "[CV 5/5] END .......eta0=0.0001, max_iter=30000;, score=0.980 total time=   0.4s\n"
          ]
        },
        {
          "output_type": "stream",
          "name": "stderr",
          "text": [
            "/usr/local/lib/python3.7/dist-packages/sklearn/utils/validation.py:993: DataConversionWarning:\n",
            "\n",
            "A column-vector y was passed when a 1d array was expected. Please change the shape of y to (n_samples, ), for example using ravel().\n",
            "\n"
          ]
        },
        {
          "output_type": "stream",
          "name": "stdout",
          "text": [
            "[CV 1/5] END .......eta0=0.0001, max_iter=40000;, score=0.957 total time=   0.4s\n"
          ]
        },
        {
          "output_type": "stream",
          "name": "stderr",
          "text": [
            "/usr/local/lib/python3.7/dist-packages/sklearn/utils/validation.py:993: DataConversionWarning:\n",
            "\n",
            "A column-vector y was passed when a 1d array was expected. Please change the shape of y to (n_samples, ), for example using ravel().\n",
            "\n"
          ]
        },
        {
          "output_type": "stream",
          "name": "stdout",
          "text": [
            "[CV 2/5] END .......eta0=0.0001, max_iter=40000;, score=0.969 total time=   0.4s\n"
          ]
        },
        {
          "output_type": "stream",
          "name": "stderr",
          "text": [
            "/usr/local/lib/python3.7/dist-packages/sklearn/utils/validation.py:993: DataConversionWarning:\n",
            "\n",
            "A column-vector y was passed when a 1d array was expected. Please change the shape of y to (n_samples, ), for example using ravel().\n",
            "\n"
          ]
        },
        {
          "output_type": "stream",
          "name": "stdout",
          "text": [
            "[CV 3/5] END .......eta0=0.0001, max_iter=40000;, score=0.968 total time=   0.5s\n"
          ]
        },
        {
          "output_type": "stream",
          "name": "stderr",
          "text": [
            "/usr/local/lib/python3.7/dist-packages/sklearn/utils/validation.py:993: DataConversionWarning:\n",
            "\n",
            "A column-vector y was passed when a 1d array was expected. Please change the shape of y to (n_samples, ), for example using ravel().\n",
            "\n"
          ]
        },
        {
          "output_type": "stream",
          "name": "stdout",
          "text": [
            "[CV 4/5] END .......eta0=0.0001, max_iter=40000;, score=0.971 total time=   0.4s\n"
          ]
        },
        {
          "output_type": "stream",
          "name": "stderr",
          "text": [
            "/usr/local/lib/python3.7/dist-packages/sklearn/utils/validation.py:993: DataConversionWarning:\n",
            "\n",
            "A column-vector y was passed when a 1d array was expected. Please change the shape of y to (n_samples, ), for example using ravel().\n",
            "\n"
          ]
        },
        {
          "output_type": "stream",
          "name": "stdout",
          "text": [
            "[CV 5/5] END .......eta0=0.0001, max_iter=40000;, score=0.980 total time=   0.3s\n",
            "[CV 1/5] END ........eta0=0.001, max_iter=10000;, score=0.960 total time=   0.1s\n",
            "[CV 2/5] END ........eta0=0.001, max_iter=10000;, score=0.970 total time=   0.1s\n"
          ]
        },
        {
          "output_type": "stream",
          "name": "stderr",
          "text": [
            "/usr/local/lib/python3.7/dist-packages/sklearn/utils/validation.py:993: DataConversionWarning:\n",
            "\n",
            "A column-vector y was passed when a 1d array was expected. Please change the shape of y to (n_samples, ), for example using ravel().\n",
            "\n",
            "/usr/local/lib/python3.7/dist-packages/sklearn/utils/validation.py:993: DataConversionWarning:\n",
            "\n",
            "A column-vector y was passed when a 1d array was expected. Please change the shape of y to (n_samples, ), for example using ravel().\n",
            "\n",
            "/usr/local/lib/python3.7/dist-packages/sklearn/utils/validation.py:993: DataConversionWarning:\n",
            "\n",
            "A column-vector y was passed when a 1d array was expected. Please change the shape of y to (n_samples, ), for example using ravel().\n",
            "\n"
          ]
        },
        {
          "output_type": "stream",
          "name": "stdout",
          "text": [
            "[CV 3/5] END ........eta0=0.001, max_iter=10000;, score=0.964 total time=   0.1s\n",
            "[CV 4/5] END ........eta0=0.001, max_iter=10000;, score=0.976 total time=   0.1s\n",
            "[CV 5/5] END ........eta0=0.001, max_iter=10000;, score=0.982 total time=   0.1s\n"
          ]
        },
        {
          "output_type": "stream",
          "name": "stderr",
          "text": [
            "/usr/local/lib/python3.7/dist-packages/sklearn/utils/validation.py:993: DataConversionWarning:\n",
            "\n",
            "A column-vector y was passed when a 1d array was expected. Please change the shape of y to (n_samples, ), for example using ravel().\n",
            "\n",
            "/usr/local/lib/python3.7/dist-packages/sklearn/utils/validation.py:993: DataConversionWarning:\n",
            "\n",
            "A column-vector y was passed when a 1d array was expected. Please change the shape of y to (n_samples, ), for example using ravel().\n",
            "\n",
            "/usr/local/lib/python3.7/dist-packages/sklearn/utils/validation.py:993: DataConversionWarning:\n",
            "\n",
            "A column-vector y was passed when a 1d array was expected. Please change the shape of y to (n_samples, ), for example using ravel().\n",
            "\n"
          ]
        },
        {
          "output_type": "stream",
          "name": "stdout",
          "text": [
            "[CV 1/5] END ........eta0=0.001, max_iter=20000;, score=0.960 total time=   0.1s\n",
            "[CV 2/5] END ........eta0=0.001, max_iter=20000;, score=0.970 total time=   0.1s\n",
            "[CV 3/5] END ........eta0=0.001, max_iter=20000;, score=0.964 total time=   0.1s\n"
          ]
        },
        {
          "output_type": "stream",
          "name": "stderr",
          "text": [
            "/usr/local/lib/python3.7/dist-packages/sklearn/utils/validation.py:993: DataConversionWarning:\n",
            "\n",
            "A column-vector y was passed when a 1d array was expected. Please change the shape of y to (n_samples, ), for example using ravel().\n",
            "\n",
            "/usr/local/lib/python3.7/dist-packages/sklearn/utils/validation.py:993: DataConversionWarning:\n",
            "\n",
            "A column-vector y was passed when a 1d array was expected. Please change the shape of y to (n_samples, ), for example using ravel().\n",
            "\n",
            "/usr/local/lib/python3.7/dist-packages/sklearn/utils/validation.py:993: DataConversionWarning:\n",
            "\n",
            "A column-vector y was passed when a 1d array was expected. Please change the shape of y to (n_samples, ), for example using ravel().\n",
            "\n"
          ]
        },
        {
          "output_type": "stream",
          "name": "stdout",
          "text": [
            "[CV 4/5] END ........eta0=0.001, max_iter=20000;, score=0.976 total time=   0.1s\n",
            "[CV 5/5] END ........eta0=0.001, max_iter=20000;, score=0.982 total time=   0.1s\n",
            "[CV 1/5] END ........eta0=0.001, max_iter=30000;, score=0.960 total time=   0.1s\n"
          ]
        },
        {
          "output_type": "stream",
          "name": "stderr",
          "text": [
            "/usr/local/lib/python3.7/dist-packages/sklearn/utils/validation.py:993: DataConversionWarning:\n",
            "\n",
            "A column-vector y was passed when a 1d array was expected. Please change the shape of y to (n_samples, ), for example using ravel().\n",
            "\n",
            "/usr/local/lib/python3.7/dist-packages/sklearn/utils/validation.py:993: DataConversionWarning:\n",
            "\n",
            "A column-vector y was passed when a 1d array was expected. Please change the shape of y to (n_samples, ), for example using ravel().\n",
            "\n",
            "/usr/local/lib/python3.7/dist-packages/sklearn/utils/validation.py:993: DataConversionWarning:\n",
            "\n",
            "A column-vector y was passed when a 1d array was expected. Please change the shape of y to (n_samples, ), for example using ravel().\n",
            "\n"
          ]
        },
        {
          "output_type": "stream",
          "name": "stdout",
          "text": [
            "[CV 2/5] END ........eta0=0.001, max_iter=30000;, score=0.970 total time=   0.1s\n",
            "[CV 3/5] END ........eta0=0.001, max_iter=30000;, score=0.964 total time=   0.1s\n",
            "[CV 4/5] END ........eta0=0.001, max_iter=30000;, score=0.976 total time=   0.1s\n"
          ]
        },
        {
          "output_type": "stream",
          "name": "stderr",
          "text": [
            "/usr/local/lib/python3.7/dist-packages/sklearn/utils/validation.py:993: DataConversionWarning:\n",
            "\n",
            "A column-vector y was passed when a 1d array was expected. Please change the shape of y to (n_samples, ), for example using ravel().\n",
            "\n",
            "/usr/local/lib/python3.7/dist-packages/sklearn/utils/validation.py:993: DataConversionWarning:\n",
            "\n",
            "A column-vector y was passed when a 1d array was expected. Please change the shape of y to (n_samples, ), for example using ravel().\n",
            "\n",
            "/usr/local/lib/python3.7/dist-packages/sklearn/utils/validation.py:993: DataConversionWarning:\n",
            "\n",
            "A column-vector y was passed when a 1d array was expected. Please change the shape of y to (n_samples, ), for example using ravel().\n",
            "\n"
          ]
        },
        {
          "output_type": "stream",
          "name": "stdout",
          "text": [
            "[CV 5/5] END ........eta0=0.001, max_iter=30000;, score=0.982 total time=   0.1s\n",
            "[CV 1/5] END ........eta0=0.001, max_iter=40000;, score=0.960 total time=   0.1s\n",
            "[CV 2/5] END ........eta0=0.001, max_iter=40000;, score=0.970 total time=   0.1s\n"
          ]
        },
        {
          "output_type": "stream",
          "name": "stderr",
          "text": [
            "/usr/local/lib/python3.7/dist-packages/sklearn/utils/validation.py:993: DataConversionWarning:\n",
            "\n",
            "A column-vector y was passed when a 1d array was expected. Please change the shape of y to (n_samples, ), for example using ravel().\n",
            "\n",
            "/usr/local/lib/python3.7/dist-packages/sklearn/utils/validation.py:993: DataConversionWarning:\n",
            "\n",
            "A column-vector y was passed when a 1d array was expected. Please change the shape of y to (n_samples, ), for example using ravel().\n",
            "\n",
            "/usr/local/lib/python3.7/dist-packages/sklearn/utils/validation.py:993: DataConversionWarning:\n",
            "\n",
            "A column-vector y was passed when a 1d array was expected. Please change the shape of y to (n_samples, ), for example using ravel().\n",
            "\n"
          ]
        },
        {
          "output_type": "stream",
          "name": "stdout",
          "text": [
            "[CV 3/5] END ........eta0=0.001, max_iter=40000;, score=0.964 total time=   0.1s\n",
            "[CV 4/5] END ........eta0=0.001, max_iter=40000;, score=0.976 total time=   0.1s\n",
            "[CV 5/5] END ........eta0=0.001, max_iter=40000;, score=0.982 total time=   0.1s\n",
            "[CV 1/5] END .........eta0=0.01, max_iter=10000;, score=0.960 total time=   0.0s\n",
            "[CV 2/5] END .........eta0=0.01, max_iter=10000;, score=0.970 total time=   0.0s\n",
            "[CV 3/5] END .........eta0=0.01, max_iter=10000;, score=0.964 total time=   0.0s\n",
            "[CV 4/5] END .........eta0=0.01, max_iter=10000;, score=0.977 total time=   0.0s\n",
            "[CV 5/5] END .........eta0=0.01, max_iter=10000;, score=0.982 total time=   0.0s\n"
          ]
        },
        {
          "output_type": "stream",
          "name": "stderr",
          "text": [
            "/usr/local/lib/python3.7/dist-packages/sklearn/utils/validation.py:993: DataConversionWarning:\n",
            "\n",
            "A column-vector y was passed when a 1d array was expected. Please change the shape of y to (n_samples, ), for example using ravel().\n",
            "\n",
            "/usr/local/lib/python3.7/dist-packages/sklearn/utils/validation.py:993: DataConversionWarning:\n",
            "\n",
            "A column-vector y was passed when a 1d array was expected. Please change the shape of y to (n_samples, ), for example using ravel().\n",
            "\n",
            "/usr/local/lib/python3.7/dist-packages/sklearn/utils/validation.py:993: DataConversionWarning:\n",
            "\n",
            "A column-vector y was passed when a 1d array was expected. Please change the shape of y to (n_samples, ), for example using ravel().\n",
            "\n",
            "/usr/local/lib/python3.7/dist-packages/sklearn/utils/validation.py:993: DataConversionWarning:\n",
            "\n",
            "A column-vector y was passed when a 1d array was expected. Please change the shape of y to (n_samples, ), for example using ravel().\n",
            "\n",
            "/usr/local/lib/python3.7/dist-packages/sklearn/utils/validation.py:993: DataConversionWarning:\n",
            "\n",
            "A column-vector y was passed when a 1d array was expected. Please change the shape of y to (n_samples, ), for example using ravel().\n",
            "\n",
            "/usr/local/lib/python3.7/dist-packages/sklearn/utils/validation.py:993: DataConversionWarning:\n",
            "\n",
            "A column-vector y was passed when a 1d array was expected. Please change the shape of y to (n_samples, ), for example using ravel().\n",
            "\n",
            "/usr/local/lib/python3.7/dist-packages/sklearn/utils/validation.py:993: DataConversionWarning:\n",
            "\n",
            "A column-vector y was passed when a 1d array was expected. Please change the shape of y to (n_samples, ), for example using ravel().\n",
            "\n",
            "/usr/local/lib/python3.7/dist-packages/sklearn/utils/validation.py:993: DataConversionWarning:\n",
            "\n",
            "A column-vector y was passed when a 1d array was expected. Please change the shape of y to (n_samples, ), for example using ravel().\n",
            "\n",
            "/usr/local/lib/python3.7/dist-packages/sklearn/utils/validation.py:993: DataConversionWarning:\n",
            "\n",
            "A column-vector y was passed when a 1d array was expected. Please change the shape of y to (n_samples, ), for example using ravel().\n",
            "\n"
          ]
        },
        {
          "output_type": "stream",
          "name": "stdout",
          "text": [
            "[CV 1/5] END .........eta0=0.01, max_iter=20000;, score=0.960 total time=   0.0s\n",
            "[CV 2/5] END .........eta0=0.01, max_iter=20000;, score=0.970 total time=   0.0s\n",
            "[CV 3/5] END .........eta0=0.01, max_iter=20000;, score=0.964 total time=   0.0s\n",
            "[CV 4/5] END .........eta0=0.01, max_iter=20000;, score=0.977 total time=   0.0s\n",
            "[CV 5/5] END .........eta0=0.01, max_iter=20000;, score=0.982 total time=   0.0s\n",
            "[CV 1/5] END .........eta0=0.01, max_iter=30000;, score=0.960 total time=   0.0s\n",
            "[CV 2/5] END .........eta0=0.01, max_iter=30000;, score=0.970 total time=   0.0s\n",
            "[CV 3/5] END .........eta0=0.01, max_iter=30000;, score=0.964 total time=   0.0s\n",
            "[CV 4/5] END .........eta0=0.01, max_iter=30000;, score=0.977 total time=   0.0s\n",
            "[CV 5/5] END .........eta0=0.01, max_iter=30000;, score=0.982 total time=   0.0s\n",
            "[CV 1/5] END .........eta0=0.01, max_iter=40000;, score=0.960 total time=   0.0s\n",
            "[CV 2/5] END .........eta0=0.01, max_iter=40000;, score=0.970 total time=   0.0s\n",
            "[CV 3/5] END .........eta0=0.01, max_iter=40000;, score=0.964 total time=   0.0s\n",
            "[CV 4/5] END .........eta0=0.01, max_iter=40000;, score=0.977 total time=   0.0s\n",
            "[CV 5/5] END .........eta0=0.01, max_iter=40000;, score=0.982 total time=   0.0s\n",
            "[CV 1/5] END ..........eta0=0.1, max_iter=10000;, score=0.960 total time=   0.0s\n",
            "[CV 2/5] END ..........eta0=0.1, max_iter=10000;, score=0.969 total time=   0.0s\n",
            "[CV 3/5] END ..........eta0=0.1, max_iter=10000;, score=0.965 total time=   0.0s\n",
            "[CV 4/5] END ..........eta0=0.1, max_iter=10000;, score=0.978 total time=   0.0s\n",
            "[CV 5/5] END ..........eta0=0.1, max_iter=10000;, score=0.983 total time=   0.0s\n",
            "[CV 1/5] END ..........eta0=0.1, max_iter=20000;, score=0.960 total time=   0.0s\n",
            "[CV 2/5] END ..........eta0=0.1, max_iter=20000;, score=0.969 total time=   0.0s\n",
            "[CV 3/5] END ..........eta0=0.1, max_iter=20000;, score=0.965 total time=   0.0s\n",
            "[CV 4/5] END ..........eta0=0.1, max_iter=20000;, score=0.978 total time=   0.0s\n",
            "[CV 5/5] END ..........eta0=0.1, max_iter=20000;, score=0.983 total time=   0.0s\n",
            "[CV 1/5] END ..........eta0=0.1, max_iter=30000;, score=0.960 total time=   0.0s\n"
          ]
        },
        {
          "output_type": "stream",
          "name": "stderr",
          "text": [
            "/usr/local/lib/python3.7/dist-packages/sklearn/utils/validation.py:993: DataConversionWarning:\n",
            "\n",
            "A column-vector y was passed when a 1d array was expected. Please change the shape of y to (n_samples, ), for example using ravel().\n",
            "\n",
            "/usr/local/lib/python3.7/dist-packages/sklearn/utils/validation.py:993: DataConversionWarning:\n",
            "\n",
            "A column-vector y was passed when a 1d array was expected. Please change the shape of y to (n_samples, ), for example using ravel().\n",
            "\n",
            "/usr/local/lib/python3.7/dist-packages/sklearn/utils/validation.py:993: DataConversionWarning:\n",
            "\n",
            "A column-vector y was passed when a 1d array was expected. Please change the shape of y to (n_samples, ), for example using ravel().\n",
            "\n",
            "/usr/local/lib/python3.7/dist-packages/sklearn/utils/validation.py:993: DataConversionWarning:\n",
            "\n",
            "A column-vector y was passed when a 1d array was expected. Please change the shape of y to (n_samples, ), for example using ravel().\n",
            "\n",
            "/usr/local/lib/python3.7/dist-packages/sklearn/utils/validation.py:993: DataConversionWarning:\n",
            "\n",
            "A column-vector y was passed when a 1d array was expected. Please change the shape of y to (n_samples, ), for example using ravel().\n",
            "\n",
            "/usr/local/lib/python3.7/dist-packages/sklearn/utils/validation.py:993: DataConversionWarning:\n",
            "\n",
            "A column-vector y was passed when a 1d array was expected. Please change the shape of y to (n_samples, ), for example using ravel().\n",
            "\n",
            "/usr/local/lib/python3.7/dist-packages/sklearn/utils/validation.py:993: DataConversionWarning:\n",
            "\n",
            "A column-vector y was passed when a 1d array was expected. Please change the shape of y to (n_samples, ), for example using ravel().\n",
            "\n",
            "/usr/local/lib/python3.7/dist-packages/sklearn/utils/validation.py:993: DataConversionWarning:\n",
            "\n",
            "A column-vector y was passed when a 1d array was expected. Please change the shape of y to (n_samples, ), for example using ravel().\n",
            "\n",
            "/usr/local/lib/python3.7/dist-packages/sklearn/utils/validation.py:993: DataConversionWarning:\n",
            "\n",
            "A column-vector y was passed when a 1d array was expected. Please change the shape of y to (n_samples, ), for example using ravel().\n",
            "\n",
            "/usr/local/lib/python3.7/dist-packages/sklearn/utils/validation.py:993: DataConversionWarning:\n",
            "\n",
            "A column-vector y was passed when a 1d array was expected. Please change the shape of y to (n_samples, ), for example using ravel().\n",
            "\n",
            "/usr/local/lib/python3.7/dist-packages/sklearn/utils/validation.py:993: DataConversionWarning:\n",
            "\n",
            "A column-vector y was passed when a 1d array was expected. Please change the shape of y to (n_samples, ), for example using ravel().\n",
            "\n",
            "/usr/local/lib/python3.7/dist-packages/sklearn/utils/validation.py:993: DataConversionWarning:\n",
            "\n",
            "A column-vector y was passed when a 1d array was expected. Please change the shape of y to (n_samples, ), for example using ravel().\n",
            "\n",
            "/usr/local/lib/python3.7/dist-packages/sklearn/utils/validation.py:993: DataConversionWarning:\n",
            "\n",
            "A column-vector y was passed when a 1d array was expected. Please change the shape of y to (n_samples, ), for example using ravel().\n",
            "\n",
            "/usr/local/lib/python3.7/dist-packages/sklearn/utils/validation.py:993: DataConversionWarning:\n",
            "\n",
            "A column-vector y was passed when a 1d array was expected. Please change the shape of y to (n_samples, ), for example using ravel().\n",
            "\n",
            "/usr/local/lib/python3.7/dist-packages/sklearn/utils/validation.py:993: DataConversionWarning:\n",
            "\n",
            "A column-vector y was passed when a 1d array was expected. Please change the shape of y to (n_samples, ), for example using ravel().\n",
            "\n",
            "/usr/local/lib/python3.7/dist-packages/sklearn/utils/validation.py:993: DataConversionWarning:\n",
            "\n",
            "A column-vector y was passed when a 1d array was expected. Please change the shape of y to (n_samples, ), for example using ravel().\n",
            "\n",
            "/usr/local/lib/python3.7/dist-packages/sklearn/utils/validation.py:993: DataConversionWarning:\n",
            "\n",
            "A column-vector y was passed when a 1d array was expected. Please change the shape of y to (n_samples, ), for example using ravel().\n",
            "\n",
            "/usr/local/lib/python3.7/dist-packages/sklearn/utils/validation.py:993: DataConversionWarning:\n",
            "\n",
            "A column-vector y was passed when a 1d array was expected. Please change the shape of y to (n_samples, ), for example using ravel().\n",
            "\n",
            "/usr/local/lib/python3.7/dist-packages/sklearn/utils/validation.py:993: DataConversionWarning:\n",
            "\n",
            "A column-vector y was passed when a 1d array was expected. Please change the shape of y to (n_samples, ), for example using ravel().\n",
            "\n",
            "/usr/local/lib/python3.7/dist-packages/sklearn/utils/validation.py:993: DataConversionWarning:\n",
            "\n",
            "A column-vector y was passed when a 1d array was expected. Please change the shape of y to (n_samples, ), for example using ravel().\n",
            "\n",
            "/usr/local/lib/python3.7/dist-packages/sklearn/utils/validation.py:993: DataConversionWarning:\n",
            "\n",
            "A column-vector y was passed when a 1d array was expected. Please change the shape of y to (n_samples, ), for example using ravel().\n",
            "\n",
            "/usr/local/lib/python3.7/dist-packages/sklearn/utils/validation.py:993: DataConversionWarning:\n",
            "\n",
            "A column-vector y was passed when a 1d array was expected. Please change the shape of y to (n_samples, ), for example using ravel().\n",
            "\n",
            "/usr/local/lib/python3.7/dist-packages/sklearn/utils/validation.py:993: DataConversionWarning:\n",
            "\n",
            "A column-vector y was passed when a 1d array was expected. Please change the shape of y to (n_samples, ), for example using ravel().\n",
            "\n",
            "/usr/local/lib/python3.7/dist-packages/sklearn/utils/validation.py:993: DataConversionWarning:\n",
            "\n",
            "A column-vector y was passed when a 1d array was expected. Please change the shape of y to (n_samples, ), for example using ravel().\n",
            "\n",
            "/usr/local/lib/python3.7/dist-packages/sklearn/utils/validation.py:993: DataConversionWarning:\n",
            "\n",
            "A column-vector y was passed when a 1d array was expected. Please change the shape of y to (n_samples, ), for example using ravel().\n",
            "\n",
            "/usr/local/lib/python3.7/dist-packages/sklearn/utils/validation.py:993: DataConversionWarning:\n",
            "\n",
            "A column-vector y was passed when a 1d array was expected. Please change the shape of y to (n_samples, ), for example using ravel().\n",
            "\n",
            "/usr/local/lib/python3.7/dist-packages/sklearn/utils/validation.py:993: DataConversionWarning:\n",
            "\n",
            "A column-vector y was passed when a 1d array was expected. Please change the shape of y to (n_samples, ), for example using ravel().\n",
            "\n"
          ]
        },
        {
          "output_type": "stream",
          "name": "stdout",
          "text": [
            "[CV 2/5] END ..........eta0=0.1, max_iter=30000;, score=0.969 total time=   0.0s\n",
            "[CV 3/5] END ..........eta0=0.1, max_iter=30000;, score=0.965 total time=   0.0s\n",
            "[CV 4/5] END ..........eta0=0.1, max_iter=30000;, score=0.978 total time=   0.0s\n",
            "[CV 5/5] END ..........eta0=0.1, max_iter=30000;, score=0.983 total time=   0.0s\n",
            "[CV 1/5] END ..........eta0=0.1, max_iter=40000;, score=0.960 total time=   0.0s\n",
            "[CV 2/5] END ..........eta0=0.1, max_iter=40000;, score=0.969 total time=   0.0s\n",
            "[CV 3/5] END ..........eta0=0.1, max_iter=40000;, score=0.965 total time=   0.0s\n",
            "[CV 4/5] END ..........eta0=0.1, max_iter=40000;, score=0.978 total time=   0.0s\n",
            "[CV 5/5] END ..........eta0=0.1, max_iter=40000;, score=0.983 total time=   0.0s\n",
            "[CV 1/5] END ............eta0=1, max_iter=10000;, score=0.916 total time=   0.0s\n",
            "[CV 2/5] END ............eta0=1, max_iter=10000;, score=0.949 total time=   0.0s\n",
            "[CV 3/5] END ............eta0=1, max_iter=10000;, score=0.905 total time=   0.0s\n",
            "[CV 4/5] END ............eta0=1, max_iter=10000;, score=0.975 total time=   0.0s\n",
            "[CV 5/5] END ............eta0=1, max_iter=10000;, score=0.978 total time=   0.0s\n",
            "[CV 1/5] END ............eta0=1, max_iter=20000;, score=0.916 total time=   0.0s\n",
            "[CV 2/5] END ............eta0=1, max_iter=20000;, score=0.949 total time=   0.0s\n",
            "[CV 3/5] END ............eta0=1, max_iter=20000;, score=0.905 total time=   0.0s\n",
            "[CV 4/5] END ............eta0=1, max_iter=20000;, score=0.975 total time=   0.0s\n",
            "[CV 5/5] END ............eta0=1, max_iter=20000;, score=0.978 total time=   0.0s\n",
            "[CV 1/5] END ............eta0=1, max_iter=30000;, score=0.916 total time=   0.0s\n",
            "[CV 2/5] END ............eta0=1, max_iter=30000;, score=0.949 total time=   0.0s\n",
            "[CV 3/5] END ............eta0=1, max_iter=30000;, score=0.905 total time=   0.0s\n",
            "[CV 4/5] END ............eta0=1, max_iter=30000;, score=0.975 total time=   0.0s\n",
            "[CV 5/5] END ............eta0=1, max_iter=30000;, score=0.978 total time=   0.0s\n",
            "[CV 1/5] END ............eta0=1, max_iter=40000;, score=0.916 total time=   0.0s\n",
            "[CV 2/5] END ............eta0=1, max_iter=40000;, score=0.949 total time=   0.0s\n",
            "[CV 3/5] END ............eta0=1, max_iter=40000;, score=0.905 total time=   0.0s\n",
            "[CV 4/5] END ............eta0=1, max_iter=40000;, score=0.975 total time=   0.0s\n",
            "[CV 5/5] END ............eta0=1, max_iter=40000;, score=0.978 total time=   0.0s\n"
          ]
        },
        {
          "output_type": "stream",
          "name": "stderr",
          "text": [
            "/usr/local/lib/python3.7/dist-packages/sklearn/utils/validation.py:993: DataConversionWarning:\n",
            "\n",
            "A column-vector y was passed when a 1d array was expected. Please change the shape of y to (n_samples, ), for example using ravel().\n",
            "\n",
            "/usr/local/lib/python3.7/dist-packages/sklearn/utils/validation.py:993: DataConversionWarning:\n",
            "\n",
            "A column-vector y was passed when a 1d array was expected. Please change the shape of y to (n_samples, ), for example using ravel().\n",
            "\n",
            "/usr/local/lib/python3.7/dist-packages/sklearn/utils/validation.py:993: DataConversionWarning:\n",
            "\n",
            "A column-vector y was passed when a 1d array was expected. Please change the shape of y to (n_samples, ), for example using ravel().\n",
            "\n",
            "/usr/local/lib/python3.7/dist-packages/sklearn/utils/validation.py:993: DataConversionWarning:\n",
            "\n",
            "A column-vector y was passed when a 1d array was expected. Please change the shape of y to (n_samples, ), for example using ravel().\n",
            "\n",
            "/usr/local/lib/python3.7/dist-packages/sklearn/utils/validation.py:993: DataConversionWarning:\n",
            "\n",
            "A column-vector y was passed when a 1d array was expected. Please change the shape of y to (n_samples, ), for example using ravel().\n",
            "\n",
            "/usr/local/lib/python3.7/dist-packages/sklearn/utils/validation.py:993: DataConversionWarning:\n",
            "\n",
            "A column-vector y was passed when a 1d array was expected. Please change the shape of y to (n_samples, ), for example using ravel().\n",
            "\n",
            "/usr/local/lib/python3.7/dist-packages/sklearn/utils/validation.py:993: DataConversionWarning:\n",
            "\n",
            "A column-vector y was passed when a 1d array was expected. Please change the shape of y to (n_samples, ), for example using ravel().\n",
            "\n",
            "/usr/local/lib/python3.7/dist-packages/sklearn/utils/validation.py:993: DataConversionWarning:\n",
            "\n",
            "A column-vector y was passed when a 1d array was expected. Please change the shape of y to (n_samples, ), for example using ravel().\n",
            "\n",
            "/usr/local/lib/python3.7/dist-packages/sklearn/utils/validation.py:993: DataConversionWarning:\n",
            "\n",
            "A column-vector y was passed when a 1d array was expected. Please change the shape of y to (n_samples, ), for example using ravel().\n",
            "\n",
            "/usr/local/lib/python3.7/dist-packages/sklearn/utils/validation.py:993: DataConversionWarning:\n",
            "\n",
            "A column-vector y was passed when a 1d array was expected. Please change the shape of y to (n_samples, ), for example using ravel().\n",
            "\n",
            "/usr/local/lib/python3.7/dist-packages/sklearn/utils/validation.py:993: DataConversionWarning:\n",
            "\n",
            "A column-vector y was passed when a 1d array was expected. Please change the shape of y to (n_samples, ), for example using ravel().\n",
            "\n",
            "/usr/local/lib/python3.7/dist-packages/sklearn/utils/validation.py:993: DataConversionWarning:\n",
            "\n",
            "A column-vector y was passed when a 1d array was expected. Please change the shape of y to (n_samples, ), for example using ravel().\n",
            "\n",
            "/usr/local/lib/python3.7/dist-packages/sklearn/utils/validation.py:993: DataConversionWarning:\n",
            "\n",
            "A column-vector y was passed when a 1d array was expected. Please change the shape of y to (n_samples, ), for example using ravel().\n",
            "\n",
            "/usr/local/lib/python3.7/dist-packages/sklearn/utils/validation.py:993: DataConversionWarning:\n",
            "\n",
            "A column-vector y was passed when a 1d array was expected. Please change the shape of y to (n_samples, ), for example using ravel().\n",
            "\n",
            "/usr/local/lib/python3.7/dist-packages/sklearn/utils/validation.py:993: DataConversionWarning:\n",
            "\n",
            "A column-vector y was passed when a 1d array was expected. Please change the shape of y to (n_samples, ), for example using ravel().\n",
            "\n",
            "/usr/local/lib/python3.7/dist-packages/sklearn/utils/validation.py:993: DataConversionWarning:\n",
            "\n",
            "A column-vector y was passed when a 1d array was expected. Please change the shape of y to (n_samples, ), for example using ravel().\n",
            "\n",
            "/usr/local/lib/python3.7/dist-packages/sklearn/utils/validation.py:993: DataConversionWarning:\n",
            "\n",
            "A column-vector y was passed when a 1d array was expected. Please change the shape of y to (n_samples, ), for example using ravel().\n",
            "\n",
            "/usr/local/lib/python3.7/dist-packages/sklearn/utils/validation.py:993: DataConversionWarning:\n",
            "\n",
            "A column-vector y was passed when a 1d array was expected. Please change the shape of y to (n_samples, ), for example using ravel().\n",
            "\n",
            "/usr/local/lib/python3.7/dist-packages/sklearn/utils/validation.py:993: DataConversionWarning:\n",
            "\n",
            "A column-vector y was passed when a 1d array was expected. Please change the shape of y to (n_samples, ), for example using ravel().\n",
            "\n",
            "/usr/local/lib/python3.7/dist-packages/sklearn/utils/validation.py:993: DataConversionWarning:\n",
            "\n",
            "A column-vector y was passed when a 1d array was expected. Please change the shape of y to (n_samples, ), for example using ravel().\n",
            "\n",
            "/usr/local/lib/python3.7/dist-packages/sklearn/utils/validation.py:993: DataConversionWarning:\n",
            "\n",
            "A column-vector y was passed when a 1d array was expected. Please change the shape of y to (n_samples, ), for example using ravel().\n",
            "\n",
            "/usr/local/lib/python3.7/dist-packages/sklearn/utils/validation.py:993: DataConversionWarning:\n",
            "\n",
            "A column-vector y was passed when a 1d array was expected. Please change the shape of y to (n_samples, ), for example using ravel().\n",
            "\n",
            "/usr/local/lib/python3.7/dist-packages/sklearn/utils/validation.py:993: DataConversionWarning:\n",
            "\n",
            "A column-vector y was passed when a 1d array was expected. Please change the shape of y to (n_samples, ), for example using ravel().\n",
            "\n",
            "/usr/local/lib/python3.7/dist-packages/sklearn/utils/validation.py:993: DataConversionWarning:\n",
            "\n",
            "A column-vector y was passed when a 1d array was expected. Please change the shape of y to (n_samples, ), for example using ravel().\n",
            "\n",
            "/usr/local/lib/python3.7/dist-packages/sklearn/utils/validation.py:993: DataConversionWarning:\n",
            "\n",
            "A column-vector y was passed when a 1d array was expected. Please change the shape of y to (n_samples, ), for example using ravel().\n",
            "\n",
            "/usr/local/lib/python3.7/dist-packages/sklearn/utils/validation.py:993: DataConversionWarning:\n",
            "\n",
            "A column-vector y was passed when a 1d array was expected. Please change the shape of y to (n_samples, ), for example using ravel().\n",
            "\n",
            "/usr/local/lib/python3.7/dist-packages/sklearn/utils/validation.py:993: DataConversionWarning:\n",
            "\n",
            "A column-vector y was passed when a 1d array was expected. Please change the shape of y to (n_samples, ), for example using ravel().\n",
            "\n"
          ]
        },
        {
          "output_type": "execute_result",
          "data": {
            "text/plain": [
              "GridSearchCV(cv=5, estimator=SGDRegressor(penalty=None, random_state=1),\n",
              "             param_grid={'eta0': [0.0001, 0.001, 0.01, 0.1, 1],\n",
              "                         'max_iter': [10000, 20000, 30000, 40000]},\n",
              "             refit='r2', scoring='r2', verbose=5)"
            ]
          },
          "metadata": {},
          "execution_count": 114
        }
      ]
    },
    {
      "cell_type": "code",
      "source": [
        "\n",
        "results = pd.DataFrame.from_dict(gd_sr.cv_results_)\n",
        "print('Cross-validation results:\\n', results)\n",
        " \n",
        "r2_withsgd_case1 = gd_sr.best_score_\n",
        "print('r2 score with Stocastic gradient decent for case 1 : ',r2_withsgd_case1)\n",
        " \n",
        "best_model = gd_sr.best_estimator_\n",
        "print('Intercept for case 1:' , best_model.intercept_)"
      ],
      "metadata": {
        "id": "Uzk6V4OHG3qf",
        "colab": {
          "base_uri": "https://localhost:8080/"
        },
        "outputId": "634c7253-f610-4dd6-d4ab-2b042fca65cd"
      },
      "execution_count": null,
      "outputs": [
        {
          "output_type": "stream",
          "name": "stdout",
          "text": [
            "Cross-validation results:\n",
            "     mean_fit_time  std_fit_time  mean_score_time  std_score_time param_eta0  \\\n",
            "0        0.760718      0.146737         0.005671        0.005167     0.0001   \n",
            "1        0.433027      0.107088         0.002059        0.000035     0.0001   \n",
            "2        0.375740      0.042006         0.002275        0.000396     0.0001   \n",
            "3        0.368642      0.051286         0.002009        0.000047     0.0001   \n",
            "4        0.081848      0.009618         0.002006        0.000027      0.001   \n",
            "5        0.079615      0.005751         0.002048        0.000228      0.001   \n",
            "6        0.082468      0.009260         0.002005        0.000015      0.001   \n",
            "7        0.079652      0.010820         0.002047        0.000084      0.001   \n",
            "8        0.006109      0.000993         0.001722        0.000086       0.01   \n",
            "9        0.007259      0.001462         0.002365        0.000763       0.01   \n",
            "10       0.005880      0.001007         0.001720        0.000050       0.01   \n",
            "11       0.006327      0.001190         0.001883        0.000207       0.01   \n",
            "12       0.003909      0.000530         0.001898        0.000403        0.1   \n",
            "13       0.003998      0.000305         0.001679        0.000038        0.1   \n",
            "14       0.004932      0.001393         0.002344        0.000716        0.1   \n",
            "15       0.003945      0.000730         0.002023        0.000526        0.1   \n",
            "16       0.003917      0.000378         0.001663        0.000062          1   \n",
            "17       0.004429      0.001125         0.001766        0.000127          1   \n",
            "18       0.004637      0.001171         0.002269        0.000473          1   \n",
            "19       0.003663      0.000495         0.001725        0.000012          1   \n",
            "\n",
            "   param_max_iter                               params  split0_test_score  \\\n",
            "0           10000  {'eta0': 0.0001, 'max_iter': 10000}           0.957266   \n",
            "1           20000  {'eta0': 0.0001, 'max_iter': 20000}           0.957266   \n",
            "2           30000  {'eta0': 0.0001, 'max_iter': 30000}           0.957266   \n",
            "3           40000  {'eta0': 0.0001, 'max_iter': 40000}           0.957266   \n",
            "4           10000   {'eta0': 0.001, 'max_iter': 10000}           0.959954   \n",
            "5           20000   {'eta0': 0.001, 'max_iter': 20000}           0.959954   \n",
            "6           30000   {'eta0': 0.001, 'max_iter': 30000}           0.959954   \n",
            "7           40000   {'eta0': 0.001, 'max_iter': 40000}           0.959954   \n",
            "8           10000    {'eta0': 0.01, 'max_iter': 10000}           0.960225   \n",
            "9           20000    {'eta0': 0.01, 'max_iter': 20000}           0.960225   \n",
            "10          30000    {'eta0': 0.01, 'max_iter': 30000}           0.960225   \n",
            "11          40000    {'eta0': 0.01, 'max_iter': 40000}           0.960225   \n",
            "12          10000     {'eta0': 0.1, 'max_iter': 10000}           0.960361   \n",
            "13          20000     {'eta0': 0.1, 'max_iter': 20000}           0.960361   \n",
            "14          30000     {'eta0': 0.1, 'max_iter': 30000}           0.960361   \n",
            "15          40000     {'eta0': 0.1, 'max_iter': 40000}           0.960361   \n",
            "16          10000       {'eta0': 1, 'max_iter': 10000}           0.916491   \n",
            "17          20000       {'eta0': 1, 'max_iter': 20000}           0.916491   \n",
            "18          30000       {'eta0': 1, 'max_iter': 30000}           0.916491   \n",
            "19          40000       {'eta0': 1, 'max_iter': 40000}           0.916491   \n",
            "\n",
            "    split1_test_score  split2_test_score  split3_test_score  \\\n",
            "0            0.969331           0.968254           0.971068   \n",
            "1            0.969331           0.968254           0.971068   \n",
            "2            0.969331           0.968254           0.971068   \n",
            "3            0.969331           0.968254           0.971068   \n",
            "4            0.970342           0.964445           0.976142   \n",
            "5            0.970342           0.964445           0.976142   \n",
            "6            0.970342           0.964445           0.976142   \n",
            "7            0.970342           0.964445           0.976142   \n",
            "8            0.970317           0.964447           0.976585   \n",
            "9            0.970317           0.964447           0.976585   \n",
            "10           0.970317           0.964447           0.976585   \n",
            "11           0.970317           0.964447           0.976585   \n",
            "12           0.969082           0.965060           0.978375   \n",
            "13           0.969082           0.965060           0.978375   \n",
            "14           0.969082           0.965060           0.978375   \n",
            "15           0.969082           0.965060           0.978375   \n",
            "16           0.949420           0.905449           0.974752   \n",
            "17           0.949420           0.905449           0.974752   \n",
            "18           0.949420           0.905449           0.974752   \n",
            "19           0.949420           0.905449           0.974752   \n",
            "\n",
            "    split4_test_score  mean_test_score  std_test_score  rank_test_score  \n",
            "0            0.979758         0.969135        0.007187               13  \n",
            "1            0.979758         0.969135        0.007187               13  \n",
            "2            0.979758         0.969135        0.007187               13  \n",
            "3            0.979758         0.969135        0.007187               13  \n",
            "4            0.982276         0.970632        0.007979                9  \n",
            "5            0.982276         0.970632        0.007979                9  \n",
            "6            0.982276         0.970632        0.007979                9  \n",
            "7            0.982276         0.970632        0.007979                9  \n",
            "8            0.982285         0.970772        0.007972                5  \n",
            "9            0.982285         0.970772        0.007972                5  \n",
            "10           0.982285         0.970772        0.007972                5  \n",
            "11           0.982285         0.970772        0.007972                5  \n",
            "12           0.983195         0.971215        0.008427                1  \n",
            "13           0.983195         0.971215        0.008427                1  \n",
            "14           0.983195         0.971215        0.008427                1  \n",
            "15           0.983195         0.971215        0.008427                1  \n",
            "16           0.978384         0.944899        0.029652               17  \n",
            "17           0.978384         0.944899        0.029652               17  \n",
            "18           0.978384         0.944899        0.029652               17  \n",
            "19           0.978384         0.944899        0.029652               17  \n",
            "r2 score with Stocastic gradient decent for case 1 :  0.9712147443124028\n",
            "Intercept for case 1: [259.55019038]\n"
          ]
        }
      ]
    },
    {
      "cell_type": "code",
      "source": [
        "coef_table = pd.DataFrame(zip(x.columns, best_model.coef_), columns=['Features','Coefficients']).sort_values(by=['Coefficients'],ascending=False)\n",
        "coef_table"
      ],
      "metadata": {
        "id": "AXHr-skfZzZQ",
        "colab": {
          "base_uri": "https://localhost:8080/",
          "height": 363
        },
        "outputId": "06fbc497-fa63-4b01-9f41-dae5ae15d0bc"
      },
      "execution_count": null,
      "outputs": [
        {
          "output_type": "execute_result",
          "data": {
            "text/plain": [
              "                        Features  Coefficients\n",
              "5  FUEL_CONSUMPTION_COMB_L/100KM     42.007592\n",
              "4                  ENGINE_SIZE_L      3.496252\n",
              "7                      FUEL_TYPE      1.208626\n",
              "3                  VEHICLE_CLASS      0.264475\n",
              "0                     MODEL_YEAR      0.000000\n",
              "1                          BRAND     -0.041343\n",
              "9                    SMOG_RATING     -1.069370\n",
              "6                   TRANSMISSION     -1.390244\n",
              "2                          MODEL     -1.843745\n",
              "8                     CO2_RATING    -18.653622"
            ],
            "text/html": [
              "\n",
              "  <div id=\"df-eb48cd2c-2fc1-4036-8918-f6fc80e8b6aa\">\n",
              "    <div class=\"colab-df-container\">\n",
              "      <div>\n",
              "<style scoped>\n",
              "    .dataframe tbody tr th:only-of-type {\n",
              "        vertical-align: middle;\n",
              "    }\n",
              "\n",
              "    .dataframe tbody tr th {\n",
              "        vertical-align: top;\n",
              "    }\n",
              "\n",
              "    .dataframe thead th {\n",
              "        text-align: right;\n",
              "    }\n",
              "</style>\n",
              "<table border=\"1\" class=\"dataframe\">\n",
              "  <thead>\n",
              "    <tr style=\"text-align: right;\">\n",
              "      <th></th>\n",
              "      <th>Features</th>\n",
              "      <th>Coefficients</th>\n",
              "    </tr>\n",
              "  </thead>\n",
              "  <tbody>\n",
              "    <tr>\n",
              "      <th>5</th>\n",
              "      <td>FUEL_CONSUMPTION_COMB_L/100KM</td>\n",
              "      <td>42.007592</td>\n",
              "    </tr>\n",
              "    <tr>\n",
              "      <th>4</th>\n",
              "      <td>ENGINE_SIZE_L</td>\n",
              "      <td>3.496252</td>\n",
              "    </tr>\n",
              "    <tr>\n",
              "      <th>7</th>\n",
              "      <td>FUEL_TYPE</td>\n",
              "      <td>1.208626</td>\n",
              "    </tr>\n",
              "    <tr>\n",
              "      <th>3</th>\n",
              "      <td>VEHICLE_CLASS</td>\n",
              "      <td>0.264475</td>\n",
              "    </tr>\n",
              "    <tr>\n",
              "      <th>0</th>\n",
              "      <td>MODEL_YEAR</td>\n",
              "      <td>0.000000</td>\n",
              "    </tr>\n",
              "    <tr>\n",
              "      <th>1</th>\n",
              "      <td>BRAND</td>\n",
              "      <td>-0.041343</td>\n",
              "    </tr>\n",
              "    <tr>\n",
              "      <th>9</th>\n",
              "      <td>SMOG_RATING</td>\n",
              "      <td>-1.069370</td>\n",
              "    </tr>\n",
              "    <tr>\n",
              "      <th>6</th>\n",
              "      <td>TRANSMISSION</td>\n",
              "      <td>-1.390244</td>\n",
              "    </tr>\n",
              "    <tr>\n",
              "      <th>2</th>\n",
              "      <td>MODEL</td>\n",
              "      <td>-1.843745</td>\n",
              "    </tr>\n",
              "    <tr>\n",
              "      <th>8</th>\n",
              "      <td>CO2_RATING</td>\n",
              "      <td>-18.653622</td>\n",
              "    </tr>\n",
              "  </tbody>\n",
              "</table>\n",
              "</div>\n",
              "      <button class=\"colab-df-convert\" onclick=\"convertToInteractive('df-eb48cd2c-2fc1-4036-8918-f6fc80e8b6aa')\"\n",
              "              title=\"Convert this dataframe to an interactive table.\"\n",
              "              style=\"display:none;\">\n",
              "        \n",
              "  <svg xmlns=\"http://www.w3.org/2000/svg\" height=\"24px\"viewBox=\"0 0 24 24\"\n",
              "       width=\"24px\">\n",
              "    <path d=\"M0 0h24v24H0V0z\" fill=\"none\"/>\n",
              "    <path d=\"M18.56 5.44l.94 2.06.94-2.06 2.06-.94-2.06-.94-.94-2.06-.94 2.06-2.06.94zm-11 1L8.5 8.5l.94-2.06 2.06-.94-2.06-.94L8.5 2.5l-.94 2.06-2.06.94zm10 10l.94 2.06.94-2.06 2.06-.94-2.06-.94-.94-2.06-.94 2.06-2.06.94z\"/><path d=\"M17.41 7.96l-1.37-1.37c-.4-.4-.92-.59-1.43-.59-.52 0-1.04.2-1.43.59L10.3 9.45l-7.72 7.72c-.78.78-.78 2.05 0 2.83L4 21.41c.39.39.9.59 1.41.59.51 0 1.02-.2 1.41-.59l7.78-7.78 2.81-2.81c.8-.78.8-2.07 0-2.86zM5.41 20L4 18.59l7.72-7.72 1.47 1.35L5.41 20z\"/>\n",
              "  </svg>\n",
              "      </button>\n",
              "      \n",
              "  <style>\n",
              "    .colab-df-container {\n",
              "      display:flex;\n",
              "      flex-wrap:wrap;\n",
              "      gap: 12px;\n",
              "    }\n",
              "\n",
              "    .colab-df-convert {\n",
              "      background-color: #E8F0FE;\n",
              "      border: none;\n",
              "      border-radius: 50%;\n",
              "      cursor: pointer;\n",
              "      display: none;\n",
              "      fill: #1967D2;\n",
              "      height: 32px;\n",
              "      padding: 0 0 0 0;\n",
              "      width: 32px;\n",
              "    }\n",
              "\n",
              "    .colab-df-convert:hover {\n",
              "      background-color: #E2EBFA;\n",
              "      box-shadow: 0px 1px 2px rgba(60, 64, 67, 0.3), 0px 1px 3px 1px rgba(60, 64, 67, 0.15);\n",
              "      fill: #174EA6;\n",
              "    }\n",
              "\n",
              "    [theme=dark] .colab-df-convert {\n",
              "      background-color: #3B4455;\n",
              "      fill: #D2E3FC;\n",
              "    }\n",
              "\n",
              "    [theme=dark] .colab-df-convert:hover {\n",
              "      background-color: #434B5C;\n",
              "      box-shadow: 0px 1px 3px 1px rgba(0, 0, 0, 0.15);\n",
              "      filter: drop-shadow(0px 1px 2px rgba(0, 0, 0, 0.3));\n",
              "      fill: #FFFFFF;\n",
              "    }\n",
              "  </style>\n",
              "\n",
              "      <script>\n",
              "        const buttonEl =\n",
              "          document.querySelector('#df-eb48cd2c-2fc1-4036-8918-f6fc80e8b6aa button.colab-df-convert');\n",
              "        buttonEl.style.display =\n",
              "          google.colab.kernel.accessAllowed ? 'block' : 'none';\n",
              "\n",
              "        async function convertToInteractive(key) {\n",
              "          const element = document.querySelector('#df-eb48cd2c-2fc1-4036-8918-f6fc80e8b6aa');\n",
              "          const dataTable =\n",
              "            await google.colab.kernel.invokeFunction('convertToInteractive',\n",
              "                                                     [key], {});\n",
              "          if (!dataTable) return;\n",
              "\n",
              "          const docLinkHtml = 'Like what you see? Visit the ' +\n",
              "            '<a target=\"_blank\" href=https://colab.research.google.com/notebooks/data_table.ipynb>data table notebook</a>'\n",
              "            + ' to learn more about interactive tables.';\n",
              "          element.innerHTML = '';\n",
              "          dataTable['output_type'] = 'display_data';\n",
              "          await google.colab.output.renderOutput(dataTable, element);\n",
              "          const docLink = document.createElement('div');\n",
              "          docLink.innerHTML = docLinkHtml;\n",
              "          element.appendChild(docLink);\n",
              "        }\n",
              "      </script>\n",
              "    </div>\n",
              "  </div>\n",
              "  "
            ]
          },
          "metadata": {},
          "execution_count": 116
        }
      ]
    },
    {
      "cell_type": "code",
      "source": [
        "plt.figure(figsize=(5,4),dpi=120)\n",
        "a=coef_table['Features']\n",
        "b=coef_table['Coefficients']\n",
        "plt.barh(a,b)\n",
        "plt.xlabel(\"Coefficients\")\n",
        "plt.ylabel(\"Features\")\n",
        "\n"
      ],
      "metadata": {
        "id": "8erP8q9vZzs0",
        "colab": {
          "base_uri": "https://localhost:8080/",
          "height": 474
        },
        "outputId": "7de3c4d5-94a2-471d-8df7-d42927348069"
      },
      "execution_count": null,
      "outputs": [
        {
          "output_type": "execute_result",
          "data": {
            "text/plain": [
              "Text(0, 0.5, 'Features')"
            ]
          },
          "metadata": {},
          "execution_count": 117
        },
        {
          "output_type": "display_data",
          "data": {
            "text/plain": [
              "<Figure size 600x480 with 1 Axes>"
            ],
            "image/png": "[encoded data removed]"
          },
          "metadata": {
            "needs_background": "light"
          }
        }
      ]
    },
    {
      "cell_type": "markdown",
      "source": [
        "**Case 2**"
      ],
      "metadata": {
        "id": "nO02UufCVVpd"
      }
    },
    {
      "cell_type": "code",
      "source": [
        "x2=df.drop(columns=[ 'CO2_EMISSIONS','CYLINDERS','FUEL_CONSUMPTION_HWY_L/100KM', 'FUEL_CONSUMPTION_COMB_L/100KM'])\n",
        "y2=df['CO2_EMISSIONS']\n",
        "\n",
        "\n",
        "x2_train, x2_test, y2_train, y2_test = train_test_split(x2, y2, test_size = 0.3, random_state = 42)\n",
        "print('shape for x2_train: ',x2_train.shape)\n",
        "print('shape for x2_test: ',x2_test.shape)\n",
        "print('shape for y2_train: ',y2_train.shape)\n",
        "print('shape for y2_test: ',y2_test.shape)\n",
        "\n",
        "\n",
        "stnsc = StandardScaler()\n",
        "x2_train = stnsc.fit_transform(x2_train)\n",
        "x2_test = stnsc.fit_transform(x2_test)\n",
        "\n",
        "model = LinearRegression()\n",
        "model.fit(x2_train,y2_train)\n",
        "\n",
        "y2_pred = model.predict(x2_test)\n",
        "print(\n",
        "    'number of predicted values: ',y2_pred.shape)\n",
        "\n",
        "# model evaluation\n",
        "print(\n",
        "  'mean_squared_error : ', mean_squared_error(y2_test, y2_pred))\n",
        "print(\n",
        "  'mean_absolute_error : ', mean_absolute_error(y2_test, y2_pred))\n",
        "\n",
        "\n",
        "r2_score_case2 = r2_score(y2_test, y2_pred)\n",
        "print('r2 score for this case is ',r2_score_case2)\n"
      ],
      "metadata": {
        "id": "WO6n01zcMQ8O",
        "colab": {
          "base_uri": "https://localhost:8080/"
        },
        "outputId": "ab62d5b1-af51-4762-b473-5fe72d283a79"
      },
      "execution_count": null,
      "outputs": [
        {
          "output_type": "stream",
          "name": "stdout",
          "text": [
            "shape for x2_train:  (662, 11)\n",
            "shape for x2_test:  (284, 11)\n",
            "shape for y2_train:  (662,)\n",
            "shape for y2_test:  (284,)\n",
            "number of predicted values:  (284,)\n",
            "mean_squared_error :  211.31824264282386\n",
            "mean_absolute_error :  8.666560611351908\n",
            "r2 score for this case is  0.9422358915298443\n"
          ]
        }
      ]
    },
    {
      "cell_type": "markdown",
      "source": [
        "**Case -2 with SGD Regressor**"
      ],
      "metadata": {
        "id": "ksazeOQOeVz8"
      }
    },
    {
      "cell_type": "code",
      "source": [
        "# Tuning the SGDRegressor parameters 'eta0' (learning rate) and 'max_iter' using Grid Search\n",
        "gd_sr.fit(x2_train, y2_train)"
      ],
      "metadata": {
        "colab": {
          "base_uri": "https://localhost:8080/"
        },
        "id": "nrRww55UeShG",
        "outputId": "8111d909-9ca9-4e2c-9787-a5ad7fdbf33e"
      },
      "execution_count": null,
      "outputs": [
        {
          "output_type": "stream",
          "name": "stdout",
          "text": [
            "Fitting 5 folds for each of 20 candidates, totalling 100 fits\n",
            "[CV 1/5] END .......eta0=0.0001, max_iter=10000;, score=0.948 total time=   2.5s\n"
          ]
        },
        {
          "output_type": "stream",
          "name": "stderr",
          "text": [
            "/usr/local/lib/python3.7/dist-packages/sklearn/linear_model/_stochastic_gradient.py:1507: ConvergenceWarning:\n",
            "\n",
            "Maximum number of iteration reached before convergence. Consider increasing max_iter to improve the fit.\n",
            "\n"
          ]
        },
        {
          "output_type": "stream",
          "name": "stdout",
          "text": [
            "[CV 2/5] END .......eta0=0.0001, max_iter=10000;, score=0.962 total time=   2.2s\n"
          ]
        },
        {
          "output_type": "stream",
          "name": "stderr",
          "text": [
            "/usr/local/lib/python3.7/dist-packages/sklearn/linear_model/_stochastic_gradient.py:1507: ConvergenceWarning:\n",
            "\n",
            "Maximum number of iteration reached before convergence. Consider increasing max_iter to improve the fit.\n",
            "\n"
          ]
        },
        {
          "output_type": "stream",
          "name": "stdout",
          "text": [
            "[CV 3/5] END .......eta0=0.0001, max_iter=10000;, score=0.963 total time=   1.4s\n"
          ]
        },
        {
          "output_type": "stream",
          "name": "stderr",
          "text": [
            "/usr/local/lib/python3.7/dist-packages/sklearn/linear_model/_stochastic_gradient.py:1507: ConvergenceWarning:\n",
            "\n",
            "Maximum number of iteration reached before convergence. Consider increasing max_iter to improve the fit.\n",
            "\n"
          ]
        },
        {
          "output_type": "stream",
          "name": "stdout",
          "text": [
            "[CV 4/5] END .......eta0=0.0001, max_iter=10000;, score=0.961 total time=   1.4s\n"
          ]
        },
        {
          "output_type": "stream",
          "name": "stderr",
          "text": [
            "/usr/local/lib/python3.7/dist-packages/sklearn/linear_model/_stochastic_gradient.py:1507: ConvergenceWarning:\n",
            "\n",
            "Maximum number of iteration reached before convergence. Consider increasing max_iter to improve the fit.\n",
            "\n"
          ]
        },
        {
          "output_type": "stream",
          "name": "stdout",
          "text": [
            "[CV 5/5] END .......eta0=0.0001, max_iter=10000;, score=0.970 total time=   1.4s\n",
            "[CV 1/5] END .......eta0=0.0001, max_iter=20000;, score=0.948 total time=   1.2s\n",
            "[CV 2/5] END .......eta0=0.0001, max_iter=20000;, score=0.963 total time=   1.2s\n",
            "[CV 3/5] END .......eta0=0.0001, max_iter=20000;, score=0.962 total time=   2.3s\n",
            "[CV 4/5] END .......eta0=0.0001, max_iter=20000;, score=0.961 total time=   0.9s\n",
            "[CV 5/5] END .......eta0=0.0001, max_iter=20000;, score=0.971 total time=   0.8s\n",
            "[CV 1/5] END .......eta0=0.0001, max_iter=30000;, score=0.948 total time=   0.7s\n",
            "[CV 2/5] END .......eta0=0.0001, max_iter=30000;, score=0.963 total time=   0.8s\n",
            "[CV 3/5] END .......eta0=0.0001, max_iter=30000;, score=0.962 total time=   0.8s\n",
            "[CV 4/5] END .......eta0=0.0001, max_iter=30000;, score=0.961 total time=   0.7s\n",
            "[CV 5/5] END .......eta0=0.0001, max_iter=30000;, score=0.971 total time=   0.8s\n",
            "[CV 1/5] END .......eta0=0.0001, max_iter=40000;, score=0.948 total time=   0.7s\n",
            "[CV 2/5] END .......eta0=0.0001, max_iter=40000;, score=0.963 total time=   0.8s\n",
            "[CV 3/5] END .......eta0=0.0001, max_iter=40000;, score=0.962 total time=   0.8s\n",
            "[CV 4/5] END .......eta0=0.0001, max_iter=40000;, score=0.961 total time=   0.7s\n",
            "[CV 5/5] END .......eta0=0.0001, max_iter=40000;, score=0.971 total time=   0.8s\n",
            "[CV 1/5] END ........eta0=0.001, max_iter=10000;, score=0.956 total time=   0.1s\n",
            "[CV 2/5] END ........eta0=0.001, max_iter=10000;, score=0.966 total time=   0.2s\n",
            "[CV 3/5] END ........eta0=0.001, max_iter=10000;, score=0.961 total time=   0.1s\n",
            "[CV 4/5] END ........eta0=0.001, max_iter=10000;, score=0.971 total time=   0.2s\n",
            "[CV 5/5] END ........eta0=0.001, max_iter=10000;, score=0.972 total time=   0.2s\n",
            "[CV 1/5] END ........eta0=0.001, max_iter=20000;, score=0.956 total time=   0.1s\n",
            "[CV 2/5] END ........eta0=0.001, max_iter=20000;, score=0.966 total time=   0.1s\n",
            "[CV 3/5] END ........eta0=0.001, max_iter=20000;, score=0.961 total time=   0.1s\n",
            "[CV 4/5] END ........eta0=0.001, max_iter=20000;, score=0.971 total time=   0.2s\n",
            "[CV 5/5] END ........eta0=0.001, max_iter=20000;, score=0.972 total time=   0.2s\n",
            "[CV 1/5] END ........eta0=0.001, max_iter=30000;, score=0.956 total time=   0.1s\n",
            "[CV 2/5] END ........eta0=0.001, max_iter=30000;, score=0.966 total time=   0.2s\n",
            "[CV 3/5] END ........eta0=0.001, max_iter=30000;, score=0.961 total time=   0.1s\n",
            "[CV 4/5] END ........eta0=0.001, max_iter=30000;, score=0.971 total time=   0.2s\n",
            "[CV 5/5] END ........eta0=0.001, max_iter=30000;, score=0.972 total time=   0.2s\n",
            "[CV 1/5] END ........eta0=0.001, max_iter=40000;, score=0.956 total time=   0.1s\n",
            "[CV 2/5] END ........eta0=0.001, max_iter=40000;, score=0.966 total time=   0.1s\n",
            "[CV 3/5] END ........eta0=0.001, max_iter=40000;, score=0.961 total time=   0.1s\n",
            "[CV 4/5] END ........eta0=0.001, max_iter=40000;, score=0.971 total time=   0.2s\n",
            "[CV 5/5] END ........eta0=0.001, max_iter=40000;, score=0.972 total time=   0.2s\n",
            "[CV 1/5] END .........eta0=0.01, max_iter=10000;, score=0.955 total time=   0.0s\n",
            "[CV 2/5] END .........eta0=0.01, max_iter=10000;, score=0.965 total time=   0.0s\n",
            "[CV 3/5] END .........eta0=0.01, max_iter=10000;, score=0.961 total time=   0.0s\n",
            "[CV 4/5] END .........eta0=0.01, max_iter=10000;, score=0.971 total time=   0.0s\n",
            "[CV 5/5] END .........eta0=0.01, max_iter=10000;, score=0.972 total time=   0.0s\n",
            "[CV 1/5] END .........eta0=0.01, max_iter=20000;, score=0.955 total time=   0.0s\n",
            "[CV 2/5] END .........eta0=0.01, max_iter=20000;, score=0.965 total time=   0.0s\n",
            "[CV 3/5] END .........eta0=0.01, max_iter=20000;, score=0.961 total time=   0.0s\n",
            "[CV 4/5] END .........eta0=0.01, max_iter=20000;, score=0.971 total time=   0.0s\n",
            "[CV 5/5] END .........eta0=0.01, max_iter=20000;, score=0.972 total time=   0.0s\n",
            "[CV 1/5] END .........eta0=0.01, max_iter=30000;, score=0.955 total time=   0.0s\n",
            "[CV 2/5] END .........eta0=0.01, max_iter=30000;, score=0.965 total time=   0.0s\n",
            "[CV 3/5] END .........eta0=0.01, max_iter=30000;, score=0.961 total time=   0.0s\n",
            "[CV 4/5] END .........eta0=0.01, max_iter=30000;, score=0.971 total time=   0.0s\n",
            "[CV 5/5] END .........eta0=0.01, max_iter=30000;, score=0.972 total time=   0.0s\n",
            "[CV 1/5] END .........eta0=0.01, max_iter=40000;, score=0.955 total time=   0.0s\n",
            "[CV 2/5] END .........eta0=0.01, max_iter=40000;, score=0.965 total time=   0.0s\n",
            "[CV 3/5] END .........eta0=0.01, max_iter=40000;, score=0.961 total time=   0.0s\n",
            "[CV 4/5] END .........eta0=0.01, max_iter=40000;, score=0.971 total time=   0.0s\n",
            "[CV 5/5] END .........eta0=0.01, max_iter=40000;, score=0.972 total time=   0.0s\n",
            "[CV 1/5] END ..........eta0=0.1, max_iter=10000;, score=0.957 total time=   0.0s\n",
            "[CV 2/5] END ..........eta0=0.1, max_iter=10000;, score=0.965 total time=   0.0s\n",
            "[CV 3/5] END ..........eta0=0.1, max_iter=10000;, score=0.963 total time=   0.0s\n",
            "[CV 4/5] END ..........eta0=0.1, max_iter=10000;, score=0.973 total time=   0.0s\n",
            "[CV 5/5] END ..........eta0=0.1, max_iter=10000;, score=0.968 total time=   0.0s\n",
            "[CV 1/5] END ..........eta0=0.1, max_iter=20000;, score=0.957 total time=   0.0s\n",
            "[CV 2/5] END ..........eta0=0.1, max_iter=20000;, score=0.965 total time=   0.0s\n",
            "[CV 3/5] END ..........eta0=0.1, max_iter=20000;, score=0.963 total time=   0.0s\n",
            "[CV 4/5] END ..........eta0=0.1, max_iter=20000;, score=0.973 total time=   0.0s\n",
            "[CV 5/5] END ..........eta0=0.1, max_iter=20000;, score=0.968 total time=   0.0s\n",
            "[CV 1/5] END ..........eta0=0.1, max_iter=30000;, score=0.957 total time=   0.0s\n",
            "[CV 2/5] END ..........eta0=0.1, max_iter=30000;, score=0.965 total time=   0.0s\n",
            "[CV 3/5] END ..........eta0=0.1, max_iter=30000;, score=0.963 total time=   0.0s\n",
            "[CV 4/5] END ..........eta0=0.1, max_iter=30000;, score=0.973 total time=   0.0s\n",
            "[CV 5/5] END ..........eta0=0.1, max_iter=30000;, score=0.968 total time=   0.0s\n",
            "[CV 1/5] END ..........eta0=0.1, max_iter=40000;, score=0.957 total time=   0.0s\n",
            "[CV 2/5] END ..........eta0=0.1, max_iter=40000;, score=0.965 total time=   0.0s\n",
            "[CV 3/5] END ..........eta0=0.1, max_iter=40000;, score=0.963 total time=   0.0s\n",
            "[CV 4/5] END ..........eta0=0.1, max_iter=40000;, score=0.973 total time=   0.0s\n",
            "[CV 5/5] END ..........eta0=0.1, max_iter=40000;, score=0.968 total time=   0.0s\n",
            "[CV 1/5] END ............eta0=1, max_iter=10000;, score=0.865 total time=   0.0s\n",
            "[CV 2/5] END ............eta0=1, max_iter=10000;, score=0.624 total time=   0.0s\n",
            "[CV 3/5] END ............eta0=1, max_iter=10000;, score=0.886 total time=   0.0s\n",
            "[CV 4/5] END ............eta0=1, max_iter=10000;, score=0.907 total time=   0.0s\n",
            "[CV 5/5] END ............eta0=1, max_iter=10000;, score=0.896 total time=   0.0s\n",
            "[CV 1/5] END ............eta0=1, max_iter=20000;, score=0.865 total time=   0.0s\n",
            "[CV 2/5] END ............eta0=1, max_iter=20000;, score=0.624 total time=   0.0s\n",
            "[CV 3/5] END ............eta0=1, max_iter=20000;, score=0.886 total time=   0.0s\n",
            "[CV 4/5] END ............eta0=1, max_iter=20000;, score=0.907 total time=   0.0s\n",
            "[CV 5/5] END ............eta0=1, max_iter=20000;, score=0.896 total time=   0.0s\n",
            "[CV 1/5] END ............eta0=1, max_iter=30000;, score=0.865 total time=   0.0s\n",
            "[CV 2/5] END ............eta0=1, max_iter=30000;, score=0.624 total time=   0.0s\n",
            "[CV 3/5] END ............eta0=1, max_iter=30000;, score=0.886 total time=   0.0s\n",
            "[CV 4/5] END ............eta0=1, max_iter=30000;, score=0.907 total time=   0.0s\n",
            "[CV 5/5] END ............eta0=1, max_iter=30000;, score=0.896 total time=   0.0s\n",
            "[CV 1/5] END ............eta0=1, max_iter=40000;, score=0.865 total time=   0.0s\n",
            "[CV 2/5] END ............eta0=1, max_iter=40000;, score=0.624 total time=   0.0s\n",
            "[CV 3/5] END ............eta0=1, max_iter=40000;, score=0.886 total time=   0.0s\n",
            "[CV 4/5] END ............eta0=1, max_iter=40000;, score=0.907 total time=   0.0s\n",
            "[CV 5/5] END ............eta0=1, max_iter=40000;, score=0.896 total time=   0.0s\n"
          ]
        },
        {
          "output_type": "execute_result",
          "data": {
            "text/plain": [
              "GridSearchCV(cv=5, estimator=SGDRegressor(penalty=None, random_state=1),\n",
              "             param_grid={'eta0': [0.0001, 0.001, 0.01, 0.1, 1],\n",
              "                         'max_iter': [10000, 20000, 30000, 40000]},\n",
              "             refit='r2', scoring='r2', verbose=5)"
            ]
          },
          "metadata": {},
          "execution_count": 76
        }
      ]
    },
    {
      "cell_type": "code",
      "source": [
        "\n",
        "results = pd.DataFrame.from_dict(gd_sr.cv_results_)\n",
        "print('Cross-validation results:\\n', results)\n",
        " \n",
        "r2_withsgd_case2 = gd_sr.best_score_\n",
        "print('r2 score with Stocastic gradient decent for case 2 : ',r2_withsgd_case2)\n",
        "  \n",
        "best_model = gd_sr.best_estimator_\n",
        "print('Intercept for case 2:' , best_model.intercept_)"
      ],
      "metadata": {
        "colab": {
          "base_uri": "https://localhost:8080/"
        },
        "id": "lRgLhIsmeTeT",
        "outputId": "68e1423f-3b4f-4a18-9bb7-a58294efc1d8"
      },
      "execution_count": null,
      "outputs": [
        {
          "output_type": "stream",
          "name": "stdout",
          "text": [
            "Cross-validation results:\n",
            "     mean_fit_time  std_fit_time  mean_score_time  std_score_time param_eta0  \\\n",
            "0        1.772323      0.479525         0.001620        0.001007     0.0001   \n",
            "1        1.286495      0.517553         0.002418        0.002907     0.0001   \n",
            "2        0.757160      0.033977         0.000828        0.000018     0.0001   \n",
            "3        0.748343      0.032619         0.000815        0.000022     0.0001   \n",
            "4        0.146337      0.019507         0.000816        0.000021      0.001   \n",
            "5        0.146894      0.012688         0.000828        0.000021      0.001   \n",
            "6        0.147068      0.017755         0.000852        0.000051      0.001   \n",
            "7        0.150502      0.015258         0.000813        0.000052      0.001   \n",
            "8        0.008184      0.001264         0.000767        0.000073       0.01   \n",
            "9        0.008659      0.002259         0.000761        0.000020       0.01   \n",
            "10       0.008142      0.001423         0.000753        0.000030       0.01   \n",
            "11       0.008087      0.001280         0.000742        0.000087       0.01   \n",
            "12       0.005998      0.001758         0.000817        0.000164        0.1   \n",
            "13       0.004326      0.000668         0.000741        0.000025        0.1   \n",
            "14       0.004203      0.000596         0.000702        0.000114        0.1   \n",
            "15       0.004156      0.000673         0.000635        0.000047        0.1   \n",
            "16       0.004178      0.000228         0.000674        0.000044          1   \n",
            "17       0.004293      0.000222         0.000675        0.000037          1   \n",
            "18       0.005064      0.001456         0.001250        0.000989          1   \n",
            "19       0.004330      0.000123         0.000663        0.000015          1   \n",
            "\n",
            "   param_max_iter                               params  split0_test_score  \\\n",
            "0           10000  {'eta0': 0.0001, 'max_iter': 10000}           0.947814   \n",
            "1           20000  {'eta0': 0.0001, 'max_iter': 20000}           0.947814   \n",
            "2           30000  {'eta0': 0.0001, 'max_iter': 30000}           0.947814   \n",
            "3           40000  {'eta0': 0.0001, 'max_iter': 40000}           0.947814   \n",
            "4           10000   {'eta0': 0.001, 'max_iter': 10000}           0.955629   \n",
            "5           20000   {'eta0': 0.001, 'max_iter': 20000}           0.955629   \n",
            "6           30000   {'eta0': 0.001, 'max_iter': 30000}           0.955629   \n",
            "7           40000   {'eta0': 0.001, 'max_iter': 40000}           0.955629   \n",
            "8           10000    {'eta0': 0.01, 'max_iter': 10000}           0.955151   \n",
            "9           20000    {'eta0': 0.01, 'max_iter': 20000}           0.955151   \n",
            "10          30000    {'eta0': 0.01, 'max_iter': 30000}           0.955151   \n",
            "11          40000    {'eta0': 0.01, 'max_iter': 40000}           0.955151   \n",
            "12          10000     {'eta0': 0.1, 'max_iter': 10000}           0.956561   \n",
            "13          20000     {'eta0': 0.1, 'max_iter': 20000}           0.956561   \n",
            "14          30000     {'eta0': 0.1, 'max_iter': 30000}           0.956561   \n",
            "15          40000     {'eta0': 0.1, 'max_iter': 40000}           0.956561   \n",
            "16          10000       {'eta0': 1, 'max_iter': 10000}           0.864517   \n",
            "17          20000       {'eta0': 1, 'max_iter': 20000}           0.864517   \n",
            "18          30000       {'eta0': 1, 'max_iter': 30000}           0.864517   \n",
            "19          40000       {'eta0': 1, 'max_iter': 40000}           0.864517   \n",
            "\n",
            "    split1_test_score  split2_test_score  split3_test_score  \\\n",
            "0            0.962492           0.962537           0.961036   \n",
            "1            0.962740           0.962461           0.961457   \n",
            "2            0.962740           0.962461           0.961457   \n",
            "3            0.962740           0.962461           0.961457   \n",
            "4            0.965610           0.960893           0.971068   \n",
            "5            0.965610           0.960893           0.971068   \n",
            "6            0.965610           0.960893           0.971068   \n",
            "7            0.965610           0.960893           0.971068   \n",
            "8            0.965466           0.961181           0.971399   \n",
            "9            0.965466           0.961181           0.971399   \n",
            "10           0.965466           0.961181           0.971399   \n",
            "11           0.965466           0.961181           0.971399   \n",
            "12           0.964951           0.963470           0.972735   \n",
            "13           0.964951           0.963470           0.972735   \n",
            "14           0.964951           0.963470           0.972735   \n",
            "15           0.964951           0.963470           0.972735   \n",
            "16           0.623732           0.885680           0.906917   \n",
            "17           0.623732           0.885680           0.906917   \n",
            "18           0.623732           0.885680           0.906917   \n",
            "19           0.623732           0.885680           0.906917   \n",
            "\n",
            "    split4_test_score  mean_test_score  std_test_score  rank_test_score  \n",
            "0            0.970449         0.960866        0.007316               16  \n",
            "1            0.970815         0.961057        0.007424               13  \n",
            "2            0.970815         0.961057        0.007424               13  \n",
            "3            0.970815         0.961057        0.007424               13  \n",
            "4            0.971993         0.965039        0.006177                9  \n",
            "5            0.971993         0.965039        0.006177                9  \n",
            "6            0.971993         0.965039        0.006177                9  \n",
            "7            0.971993         0.965039        0.006177                9  \n",
            "8            0.972068         0.965053        0.006367                5  \n",
            "9            0.972068         0.965053        0.006367                5  \n",
            "10           0.972068         0.965053        0.006367                5  \n",
            "11           0.972068         0.965053        0.006367                5  \n",
            "12           0.967905         0.965124        0.005325                1  \n",
            "13           0.967905         0.965124        0.005325                1  \n",
            "14           0.967905         0.965124        0.005325                1  \n",
            "15           0.967905         0.965124        0.005325                1  \n",
            "16           0.896266         0.835422        0.106769               17  \n",
            "17           0.896266         0.835422        0.106769               17  \n",
            "18           0.896266         0.835422        0.106769               17  \n",
            "19           0.896266         0.835422        0.106769               17  \n",
            "r2 score with Stocastic gradient decent for case 2 :  0.965124379032752\n",
            "Intercept for case 2: [260.31764807]\n"
          ]
        }
      ]
    },
    {
      "cell_type": "code",
      "source": [
        "coef_table2 = pd.DataFrame(zip(x.columns, best_model.coef_), columns=['Features','Coefficients']).sort_values(by=['Coefficients'],ascending=False)\n",
        "coef_table"
      ],
      "metadata": {
        "colab": {
          "base_uri": "https://localhost:8080/",
          "height": 363
        },
        "id": "WGQOiJl5eTh5",
        "outputId": "81d44898-dca2-4df9-dbcd-8b5cf2499785"
      },
      "execution_count": null,
      "outputs": [
        {
          "output_type": "execute_result",
          "data": {
            "text/plain": [
              "                        Features  Coefficients\n",
              "5  FUEL_CONSUMPTION_COMB_L/100KM     42.007592\n",
              "4                  ENGINE_SIZE_L      3.496252\n",
              "7                      FUEL_TYPE      1.208626\n",
              "3                  VEHICLE_CLASS      0.264475\n",
              "0                     MODEL_YEAR      0.000000\n",
              "1                          BRAND     -0.041343\n",
              "9                    SMOG_RATING     -1.069370\n",
              "6                   TRANSMISSION     -1.390244\n",
              "2                          MODEL     -1.843745\n",
              "8                     CO2_RATING    -18.653622"
            ],
            "text/html": [
              "\n",
              "  <div id=\"df-b4ec3481-2028-4b97-996e-c4b38c1529a0\">\n",
              "    <div class=\"colab-df-container\">\n",
              "      <div>\n",
              "<style scoped>\n",
              "    .dataframe tbody tr th:only-of-type {\n",
              "        vertical-align: middle;\n",
              "    }\n",
              "\n",
              "    .dataframe tbody tr th {\n",
              "        vertical-align: top;\n",
              "    }\n",
              "\n",
              "    .dataframe thead th {\n",
              "        text-align: right;\n",
              "    }\n",
              "</style>\n",
              "<table border=\"1\" class=\"dataframe\">\n",
              "  <thead>\n",
              "    <tr style=\"text-align: right;\">\n",
              "      <th></th>\n",
              "      <th>Features</th>\n",
              "      <th>Coefficients</th>\n",
              "    </tr>\n",
              "  </thead>\n",
              "  <tbody>\n",
              "    <tr>\n",
              "      <th>5</th>\n",
              "      <td>FUEL_CONSUMPTION_COMB_L/100KM</td>\n",
              "      <td>42.007592</td>\n",
              "    </tr>\n",
              "    <tr>\n",
              "      <th>4</th>\n",
              "      <td>ENGINE_SIZE_L</td>\n",
              "      <td>3.496252</td>\n",
              "    </tr>\n",
              "    <tr>\n",
              "      <th>7</th>\n",
              "      <td>FUEL_TYPE</td>\n",
              "      <td>1.208626</td>\n",
              "    </tr>\n",
              "    <tr>\n",
              "      <th>3</th>\n",
              "      <td>VEHICLE_CLASS</td>\n",
              "      <td>0.264475</td>\n",
              "    </tr>\n",
              "    <tr>\n",
              "      <th>0</th>\n",
              "      <td>MODEL_YEAR</td>\n",
              "      <td>0.000000</td>\n",
              "    </tr>\n",
              "    <tr>\n",
              "      <th>1</th>\n",
              "      <td>BRAND</td>\n",
              "      <td>-0.041343</td>\n",
              "    </tr>\n",
              "    <tr>\n",
              "      <th>9</th>\n",
              "      <td>SMOG_RATING</td>\n",
              "      <td>-1.069370</td>\n",
              "    </tr>\n",
              "    <tr>\n",
              "      <th>6</th>\n",
              "      <td>TRANSMISSION</td>\n",
              "      <td>-1.390244</td>\n",
              "    </tr>\n",
              "    <tr>\n",
              "      <th>2</th>\n",
              "      <td>MODEL</td>\n",
              "      <td>-1.843745</td>\n",
              "    </tr>\n",
              "    <tr>\n",
              "      <th>8</th>\n",
              "      <td>CO2_RATING</td>\n",
              "      <td>-18.653622</td>\n",
              "    </tr>\n",
              "  </tbody>\n",
              "</table>\n",
              "</div>\n",
              "      <button class=\"colab-df-convert\" onclick=\"convertToInteractive('df-b4ec3481-2028-4b97-996e-c4b38c1529a0')\"\n",
              "              title=\"Convert this dataframe to an interactive table.\"\n",
              "              style=\"display:none;\">\n",
              "        \n",
              "  <svg xmlns=\"http://www.w3.org/2000/svg\" height=\"24px\"viewBox=\"0 0 24 24\"\n",
              "       width=\"24px\">\n",
              "    <path d=\"M0 0h24v24H0V0z\" fill=\"none\"/>\n",
              "    <path d=\"M18.56 5.44l.94 2.06.94-2.06 2.06-.94-2.06-.94-.94-2.06-.94 2.06-2.06.94zm-11 1L8.5 8.5l.94-2.06 2.06-.94-2.06-.94L8.5 2.5l-.94 2.06-2.06.94zm10 10l.94 2.06.94-2.06 2.06-.94-2.06-.94-.94-2.06-.94 2.06-2.06.94z\"/><path d=\"M17.41 7.96l-1.37-1.37c-.4-.4-.92-.59-1.43-.59-.52 0-1.04.2-1.43.59L10.3 9.45l-7.72 7.72c-.78.78-.78 2.05 0 2.83L4 21.41c.39.39.9.59 1.41.59.51 0 1.02-.2 1.41-.59l7.78-7.78 2.81-2.81c.8-.78.8-2.07 0-2.86zM5.41 20L4 18.59l7.72-7.72 1.47 1.35L5.41 20z\"/>\n",
              "  </svg>\n",
              "      </button>\n",
              "      \n",
              "  <style>\n",
              "    .colab-df-container {\n",
              "      display:flex;\n",
              "      flex-wrap:wrap;\n",
              "      gap: 12px;\n",
              "    }\n",
              "\n",
              "    .colab-df-convert {\n",
              "      background-color: #E8F0FE;\n",
              "      border: none;\n",
              "      border-radius: 50%;\n",
              "      cursor: pointer;\n",
              "      display: none;\n",
              "      fill: #1967D2;\n",
              "      height: 32px;\n",
              "      padding: 0 0 0 0;\n",
              "      width: 32px;\n",
              "    }\n",
              "\n",
              "    .colab-df-convert:hover {\n",
              "      background-color: #E2EBFA;\n",
              "      box-shadow: 0px 1px 2px rgba(60, 64, 67, 0.3), 0px 1px 3px 1px rgba(60, 64, 67, 0.15);\n",
              "      fill: #174EA6;\n",
              "    }\n",
              "\n",
              "    [theme=dark] .colab-df-convert {\n",
              "      background-color: #3B4455;\n",
              "      fill: #D2E3FC;\n",
              "    }\n",
              "\n",
              "    [theme=dark] .colab-df-convert:hover {\n",
              "      background-color: #434B5C;\n",
              "      box-shadow: 0px 1px 3px 1px rgba(0, 0, 0, 0.15);\n",
              "      filter: drop-shadow(0px 1px 2px rgba(0, 0, 0, 0.3));\n",
              "      fill: #FFFFFF;\n",
              "    }\n",
              "  </style>\n",
              "\n",
              "      <script>\n",
              "        const buttonEl =\n",
              "          document.querySelector('#df-b4ec3481-2028-4b97-996e-c4b38c1529a0 button.colab-df-convert');\n",
              "        buttonEl.style.display =\n",
              "          google.colab.kernel.accessAllowed ? 'block' : 'none';\n",
              "\n",
              "        async function convertToInteractive(key) {\n",
              "          const element = document.querySelector('#df-b4ec3481-2028-4b97-996e-c4b38c1529a0');\n",
              "          const dataTable =\n",
              "            await google.colab.kernel.invokeFunction('convertToInteractive',\n",
              "                                                     [key], {});\n",
              "          if (!dataTable) return;\n",
              "\n",
              "          const docLinkHtml = 'Like what you see? Visit the ' +\n",
              "            '<a target=\"_blank\" href=https://colab.research.google.com/notebooks/data_table.ipynb>data table notebook</a>'\n",
              "            + ' to learn more about interactive tables.';\n",
              "          element.innerHTML = '';\n",
              "          dataTable['output_type'] = 'display_data';\n",
              "          await google.colab.output.renderOutput(dataTable, element);\n",
              "          const docLink = document.createElement('div');\n",
              "          docLink.innerHTML = docLinkHtml;\n",
              "          element.appendChild(docLink);\n",
              "        }\n",
              "      </script>\n",
              "    </div>\n",
              "  </div>\n",
              "  "
            ]
          },
          "metadata": {},
          "execution_count": 78
        }
      ]
    },
    {
      "cell_type": "code",
      "source": [
        "plt.figure(figsize=(5,4),dpi=120)\n",
        "a2=coef_table['Features']\n",
        "b2=coef_table['Coefficients']\n",
        "plt.barh(a2,b2)\n",
        "plt.xlabel(\"Coefficients\")\n",
        "plt.ylabel(\"Features\")"
      ],
      "metadata": {
        "colab": {
          "base_uri": "https://localhost:8080/",
          "height": 474
        },
        "id": "wTMsnfa1e_xN",
        "outputId": "281edfda-4ff9-43c5-cde9-56abd0994f78"
      },
      "execution_count": null,
      "outputs": [
        {
          "output_type": "execute_result",
          "data": {
            "text/plain": [
              "Text(0, 0.5, 'Features')"
            ]
          },
          "metadata": {},
          "execution_count": 79
        },
        {
          "output_type": "display_data",
          "data": {
            "text/plain": [
              "<Figure size 600x480 with 1 Axes>"
            ],
            "image/png": "[encoded data removed]"
          },
          "metadata": {
            "needs_background": "light"
          }
        }
      ]
    },
    {
      "cell_type": "markdown",
      "source": [
        "**Case -3**"
      ],
      "metadata": {
        "id": "lla-g-gLaTGI"
      }
    },
    {
      "cell_type": "code",
      "source": [
        "x3=df.drop(columns='CO2_EMISSIONS')\n",
        "y3=df[['CO2_EMISSIONS']]\n",
        "x3_train, x3_test, y3_train, y3_test = train_test_split(x3, y3, test_size = 0.3, random_state = 42)\n",
        "print(x3_train.shape)\n",
        "print(x3_test.shape)\n",
        "print(y3_train.shape)\n",
        "print(y3_test.shape)\n",
        " \n",
        "x3_train.mean()\n",
        "\n",
        "stnsc = StandardScaler()\n",
        "x3_train = stnsc.fit_transform(x3_train)\n",
        "x3_test = stnsc.fit_transform(x3_test)\n",
        "\n",
        "\n",
        "model = LinearRegression()\n",
        "model.fit(x3_train,y3_train)\n",
        "\n",
        "y3_pred = model.predict(x3_test)\n",
        "print(y3_pred.shape)\n",
        "\n",
        "\n",
        "# model evaluation\n",
        "print(\n",
        "  'mean_squared_error : ', mean_squared_error(y3_test, y3_pred))\n",
        "print(\n",
        "  'mean_absolute_error : ', mean_absolute_error(y3_test, y3_pred))\n",
        "\n",
        "\n",
        "r2_score_case3 = r2_score(y3_test, y3_pred)\n",
        "\n",
        "print(r2_score_case3)\n"
      ],
      "metadata": {
        "id": "dtnqY3QMZgdU",
        "colab": {
          "base_uri": "https://localhost:8080/"
        },
        "outputId": "6648a528-6a90-45af-c99e-177cf9ac5491"
      },
      "execution_count": null,
      "outputs": [
        {
          "output_type": "stream",
          "name": "stdout",
          "text": [
            "(662, 14)\n",
            "(284, 14)\n",
            "(662, 1)\n",
            "(284, 1)\n",
            "(284, 1)\n",
            "mean_squared_error :  214.59761732331123\n",
            "mean_absolute_error :  7.180645425955315\n",
            "0.9413394703198774\n"
          ]
        }
      ]
    },
    {
      "cell_type": "markdown",
      "source": [
        "**Case -3 with SGD Regressor**"
      ],
      "metadata": {
        "id": "2TEREKEQpMCG"
      }
    },
    {
      "cell_type": "code",
      "source": [
        "gd_sr.fit(x3_train, y3_train)"
      ],
      "metadata": {
        "id": "VVT8_5JLWG_t",
        "colab": {
          "base_uri": "https://localhost:8080/"
        },
        "outputId": "e7a2fe85-131c-49a8-9fca-54083ee4f180"
      },
      "execution_count": null,
      "outputs": [
        {
          "output_type": "stream",
          "name": "stdout",
          "text": [
            "Fitting 5 folds for each of 20 candidates, totalling 100 fits\n"
          ]
        },
        {
          "output_type": "stream",
          "name": "stderr",
          "text": [
            "/usr/local/lib/python3.7/dist-packages/sklearn/utils/validation.py:993: DataConversionWarning:\n",
            "\n",
            "A column-vector y was passed when a 1d array was expected. Please change the shape of y to (n_samples, ), for example using ravel().\n",
            "\n"
          ]
        },
        {
          "output_type": "stream",
          "name": "stdout",
          "text": [
            "[CV 1/5] END .......eta0=0.0001, max_iter=10000;, score=0.962 total time=   0.4s\n"
          ]
        },
        {
          "output_type": "stream",
          "name": "stderr",
          "text": [
            "/usr/local/lib/python3.7/dist-packages/sklearn/utils/validation.py:993: DataConversionWarning:\n",
            "\n",
            "A column-vector y was passed when a 1d array was expected. Please change the shape of y to (n_samples, ), for example using ravel().\n",
            "\n"
          ]
        },
        {
          "output_type": "stream",
          "name": "stdout",
          "text": [
            "[CV 2/5] END .......eta0=0.0001, max_iter=10000;, score=0.966 total time=   0.4s\n"
          ]
        },
        {
          "output_type": "stream",
          "name": "stderr",
          "text": [
            "/usr/local/lib/python3.7/dist-packages/sklearn/utils/validation.py:993: DataConversionWarning:\n",
            "\n",
            "A column-vector y was passed when a 1d array was expected. Please change the shape of y to (n_samples, ), for example using ravel().\n",
            "\n"
          ]
        },
        {
          "output_type": "stream",
          "name": "stdout",
          "text": [
            "[CV 3/5] END .......eta0=0.0001, max_iter=10000;, score=0.964 total time=   0.4s\n"
          ]
        },
        {
          "output_type": "stream",
          "name": "stderr",
          "text": [
            "/usr/local/lib/python3.7/dist-packages/sklearn/utils/validation.py:993: DataConversionWarning:\n",
            "\n",
            "A column-vector y was passed when a 1d array was expected. Please change the shape of y to (n_samples, ), for example using ravel().\n",
            "\n"
          ]
        },
        {
          "output_type": "stream",
          "name": "stdout",
          "text": [
            "[CV 4/5] END .......eta0=0.0001, max_iter=10000;, score=0.975 total time=   0.4s\n"
          ]
        },
        {
          "output_type": "stream",
          "name": "stderr",
          "text": [
            "/usr/local/lib/python3.7/dist-packages/sklearn/utils/validation.py:993: DataConversionWarning:\n",
            "\n",
            "A column-vector y was passed when a 1d array was expected. Please change the shape of y to (n_samples, ), for example using ravel().\n",
            "\n"
          ]
        },
        {
          "output_type": "stream",
          "name": "stdout",
          "text": [
            "[CV 5/5] END .......eta0=0.0001, max_iter=10000;, score=0.981 total time=   0.4s\n"
          ]
        },
        {
          "output_type": "stream",
          "name": "stderr",
          "text": [
            "/usr/local/lib/python3.7/dist-packages/sklearn/utils/validation.py:993: DataConversionWarning:\n",
            "\n",
            "A column-vector y was passed when a 1d array was expected. Please change the shape of y to (n_samples, ), for example using ravel().\n",
            "\n"
          ]
        },
        {
          "output_type": "stream",
          "name": "stdout",
          "text": [
            "[CV 1/5] END .......eta0=0.0001, max_iter=20000;, score=0.962 total time=   0.3s\n"
          ]
        },
        {
          "output_type": "stream",
          "name": "stderr",
          "text": [
            "/usr/local/lib/python3.7/dist-packages/sklearn/utils/validation.py:993: DataConversionWarning:\n",
            "\n",
            "A column-vector y was passed when a 1d array was expected. Please change the shape of y to (n_samples, ), for example using ravel().\n",
            "\n"
          ]
        },
        {
          "output_type": "stream",
          "name": "stdout",
          "text": [
            "[CV 2/5] END .......eta0=0.0001, max_iter=20000;, score=0.966 total time=   0.3s\n"
          ]
        },
        {
          "output_type": "stream",
          "name": "stderr",
          "text": [
            "/usr/local/lib/python3.7/dist-packages/sklearn/utils/validation.py:993: DataConversionWarning:\n",
            "\n",
            "A column-vector y was passed when a 1d array was expected. Please change the shape of y to (n_samples, ), for example using ravel().\n",
            "\n"
          ]
        },
        {
          "output_type": "stream",
          "name": "stdout",
          "text": [
            "[CV 3/5] END .......eta0=0.0001, max_iter=20000;, score=0.964 total time=   0.6s\n"
          ]
        },
        {
          "output_type": "stream",
          "name": "stderr",
          "text": [
            "/usr/local/lib/python3.7/dist-packages/sklearn/utils/validation.py:993: DataConversionWarning:\n",
            "\n",
            "A column-vector y was passed when a 1d array was expected. Please change the shape of y to (n_samples, ), for example using ravel().\n",
            "\n"
          ]
        },
        {
          "output_type": "stream",
          "name": "stdout",
          "text": [
            "[CV 4/5] END .......eta0=0.0001, max_iter=20000;, score=0.975 total time=   0.5s\n"
          ]
        },
        {
          "output_type": "stream",
          "name": "stderr",
          "text": [
            "/usr/local/lib/python3.7/dist-packages/sklearn/utils/validation.py:993: DataConversionWarning:\n",
            "\n",
            "A column-vector y was passed when a 1d array was expected. Please change the shape of y to (n_samples, ), for example using ravel().\n",
            "\n"
          ]
        },
        {
          "output_type": "stream",
          "name": "stdout",
          "text": [
            "[CV 5/5] END .......eta0=0.0001, max_iter=20000;, score=0.981 total time=   0.7s\n"
          ]
        },
        {
          "output_type": "stream",
          "name": "stderr",
          "text": [
            "/usr/local/lib/python3.7/dist-packages/sklearn/utils/validation.py:993: DataConversionWarning:\n",
            "\n",
            "A column-vector y was passed when a 1d array was expected. Please change the shape of y to (n_samples, ), for example using ravel().\n",
            "\n"
          ]
        },
        {
          "output_type": "stream",
          "name": "stdout",
          "text": [
            "[CV 1/5] END .......eta0=0.0001, max_iter=30000;, score=0.962 total time=   0.5s\n"
          ]
        },
        {
          "output_type": "stream",
          "name": "stderr",
          "text": [
            "/usr/local/lib/python3.7/dist-packages/sklearn/utils/validation.py:993: DataConversionWarning:\n",
            "\n",
            "A column-vector y was passed when a 1d array was expected. Please change the shape of y to (n_samples, ), for example using ravel().\n",
            "\n"
          ]
        },
        {
          "output_type": "stream",
          "name": "stdout",
          "text": [
            "[CV 2/5] END .......eta0=0.0001, max_iter=30000;, score=0.966 total time=   0.6s\n"
          ]
        },
        {
          "output_type": "stream",
          "name": "stderr",
          "text": [
            "/usr/local/lib/python3.7/dist-packages/sklearn/utils/validation.py:993: DataConversionWarning:\n",
            "\n",
            "A column-vector y was passed when a 1d array was expected. Please change the shape of y to (n_samples, ), for example using ravel().\n",
            "\n"
          ]
        },
        {
          "output_type": "stream",
          "name": "stdout",
          "text": [
            "[CV 3/5] END .......eta0=0.0001, max_iter=30000;, score=0.964 total time=   0.6s\n"
          ]
        },
        {
          "output_type": "stream",
          "name": "stderr",
          "text": [
            "/usr/local/lib/python3.7/dist-packages/sklearn/utils/validation.py:993: DataConversionWarning:\n",
            "\n",
            "A column-vector y was passed when a 1d array was expected. Please change the shape of y to (n_samples, ), for example using ravel().\n",
            "\n"
          ]
        },
        {
          "output_type": "stream",
          "name": "stdout",
          "text": [
            "[CV 4/5] END .......eta0=0.0001, max_iter=30000;, score=0.975 total time=   0.7s\n"
          ]
        },
        {
          "output_type": "stream",
          "name": "stderr",
          "text": [
            "/usr/local/lib/python3.7/dist-packages/sklearn/utils/validation.py:993: DataConversionWarning:\n",
            "\n",
            "A column-vector y was passed when a 1d array was expected. Please change the shape of y to (n_samples, ), for example using ravel().\n",
            "\n"
          ]
        },
        {
          "output_type": "stream",
          "name": "stdout",
          "text": [
            "[CV 5/5] END .......eta0=0.0001, max_iter=30000;, score=0.981 total time=   0.7s\n"
          ]
        },
        {
          "output_type": "stream",
          "name": "stderr",
          "text": [
            "/usr/local/lib/python3.7/dist-packages/sklearn/utils/validation.py:993: DataConversionWarning:\n",
            "\n",
            "A column-vector y was passed when a 1d array was expected. Please change the shape of y to (n_samples, ), for example using ravel().\n",
            "\n"
          ]
        },
        {
          "output_type": "stream",
          "name": "stdout",
          "text": [
            "[CV 1/5] END .......eta0=0.0001, max_iter=40000;, score=0.962 total time=   0.7s\n"
          ]
        },
        {
          "output_type": "stream",
          "name": "stderr",
          "text": [
            "/usr/local/lib/python3.7/dist-packages/sklearn/utils/validation.py:993: DataConversionWarning:\n",
            "\n",
            "A column-vector y was passed when a 1d array was expected. Please change the shape of y to (n_samples, ), for example using ravel().\n",
            "\n"
          ]
        },
        {
          "output_type": "stream",
          "name": "stdout",
          "text": [
            "[CV 2/5] END .......eta0=0.0001, max_iter=40000;, score=0.966 total time=   0.6s\n"
          ]
        },
        {
          "output_type": "stream",
          "name": "stderr",
          "text": [
            "/usr/local/lib/python3.7/dist-packages/sklearn/utils/validation.py:993: DataConversionWarning:\n",
            "\n",
            "A column-vector y was passed when a 1d array was expected. Please change the shape of y to (n_samples, ), for example using ravel().\n",
            "\n"
          ]
        },
        {
          "output_type": "stream",
          "name": "stdout",
          "text": [
            "[CV 3/5] END .......eta0=0.0001, max_iter=40000;, score=0.964 total time=   0.6s\n"
          ]
        },
        {
          "output_type": "stream",
          "name": "stderr",
          "text": [
            "/usr/local/lib/python3.7/dist-packages/sklearn/utils/validation.py:993: DataConversionWarning:\n",
            "\n",
            "A column-vector y was passed when a 1d array was expected. Please change the shape of y to (n_samples, ), for example using ravel().\n",
            "\n"
          ]
        },
        {
          "output_type": "stream",
          "name": "stdout",
          "text": [
            "[CV 4/5] END .......eta0=0.0001, max_iter=40000;, score=0.975 total time=   0.7s\n"
          ]
        },
        {
          "output_type": "stream",
          "name": "stderr",
          "text": [
            "/usr/local/lib/python3.7/dist-packages/sklearn/utils/validation.py:993: DataConversionWarning:\n",
            "\n",
            "A column-vector y was passed when a 1d array was expected. Please change the shape of y to (n_samples, ), for example using ravel().\n",
            "\n"
          ]
        },
        {
          "output_type": "stream",
          "name": "stdout",
          "text": [
            "[CV 5/5] END .......eta0=0.0001, max_iter=40000;, score=0.981 total time=   0.7s\n",
            "[CV 1/5] END ........eta0=0.001, max_iter=10000;, score=0.966 total time=   0.2s\n"
          ]
        },
        {
          "output_type": "stream",
          "name": "stderr",
          "text": [
            "/usr/local/lib/python3.7/dist-packages/sklearn/utils/validation.py:993: DataConversionWarning:\n",
            "\n",
            "A column-vector y was passed when a 1d array was expected. Please change the shape of y to (n_samples, ), for example using ravel().\n",
            "\n",
            "/usr/local/lib/python3.7/dist-packages/sklearn/utils/validation.py:993: DataConversionWarning:\n",
            "\n",
            "A column-vector y was passed when a 1d array was expected. Please change the shape of y to (n_samples, ), for example using ravel().\n",
            "\n"
          ]
        },
        {
          "output_type": "stream",
          "name": "stdout",
          "text": [
            "[CV 2/5] END ........eta0=0.001, max_iter=10000;, score=0.970 total time=   0.2s\n",
            "[CV 3/5] END ........eta0=0.001, max_iter=10000;, score=0.964 total time=   0.2s\n"
          ]
        },
        {
          "output_type": "stream",
          "name": "stderr",
          "text": [
            "/usr/local/lib/python3.7/dist-packages/sklearn/utils/validation.py:993: DataConversionWarning:\n",
            "\n",
            "A column-vector y was passed when a 1d array was expected. Please change the shape of y to (n_samples, ), for example using ravel().\n",
            "\n",
            "/usr/local/lib/python3.7/dist-packages/sklearn/utils/validation.py:993: DataConversionWarning:\n",
            "\n",
            "A column-vector y was passed when a 1d array was expected. Please change the shape of y to (n_samples, ), for example using ravel().\n",
            "\n"
          ]
        },
        {
          "output_type": "stream",
          "name": "stdout",
          "text": [
            "[CV 4/5] END ........eta0=0.001, max_iter=10000;, score=0.980 total time=   0.3s\n"
          ]
        },
        {
          "output_type": "stream",
          "name": "stderr",
          "text": [
            "/usr/local/lib/python3.7/dist-packages/sklearn/utils/validation.py:993: DataConversionWarning:\n",
            "\n",
            "A column-vector y was passed when a 1d array was expected. Please change the shape of y to (n_samples, ), for example using ravel().\n",
            "\n"
          ]
        },
        {
          "output_type": "stream",
          "name": "stdout",
          "text": [
            "[CV 5/5] END ........eta0=0.001, max_iter=10000;, score=0.982 total time=   0.3s\n",
            "[CV 1/5] END ........eta0=0.001, max_iter=20000;, score=0.966 total time=   0.2s\n"
          ]
        },
        {
          "output_type": "stream",
          "name": "stderr",
          "text": [
            "/usr/local/lib/python3.7/dist-packages/sklearn/utils/validation.py:993: DataConversionWarning:\n",
            "\n",
            "A column-vector y was passed when a 1d array was expected. Please change the shape of y to (n_samples, ), for example using ravel().\n",
            "\n",
            "/usr/local/lib/python3.7/dist-packages/sklearn/utils/validation.py:993: DataConversionWarning:\n",
            "\n",
            "A column-vector y was passed when a 1d array was expected. Please change the shape of y to (n_samples, ), for example using ravel().\n",
            "\n"
          ]
        },
        {
          "output_type": "stream",
          "name": "stdout",
          "text": [
            "[CV 2/5] END ........eta0=0.001, max_iter=20000;, score=0.970 total time=   0.2s\n"
          ]
        },
        {
          "output_type": "stream",
          "name": "stderr",
          "text": [
            "/usr/local/lib/python3.7/dist-packages/sklearn/utils/validation.py:993: DataConversionWarning:\n",
            "\n",
            "A column-vector y was passed when a 1d array was expected. Please change the shape of y to (n_samples, ), for example using ravel().\n",
            "\n"
          ]
        },
        {
          "output_type": "stream",
          "name": "stdout",
          "text": [
            "[CV 3/5] END ........eta0=0.001, max_iter=20000;, score=0.964 total time=   0.2s\n"
          ]
        },
        {
          "output_type": "stream",
          "name": "stderr",
          "text": [
            "/usr/local/lib/python3.7/dist-packages/sklearn/utils/validation.py:993: DataConversionWarning:\n",
            "\n",
            "A column-vector y was passed when a 1d array was expected. Please change the shape of y to (n_samples, ), for example using ravel().\n",
            "\n"
          ]
        },
        {
          "output_type": "stream",
          "name": "stdout",
          "text": [
            "[CV 4/5] END ........eta0=0.001, max_iter=20000;, score=0.980 total time=   0.2s\n"
          ]
        },
        {
          "output_type": "stream",
          "name": "stderr",
          "text": [
            "/usr/local/lib/python3.7/dist-packages/sklearn/utils/validation.py:993: DataConversionWarning:\n",
            "\n",
            "A column-vector y was passed when a 1d array was expected. Please change the shape of y to (n_samples, ), for example using ravel().\n",
            "\n"
          ]
        },
        {
          "output_type": "stream",
          "name": "stdout",
          "text": [
            "[CV 5/5] END ........eta0=0.001, max_iter=20000;, score=0.982 total time=   0.3s\n",
            "[CV 1/5] END ........eta0=0.001, max_iter=30000;, score=0.966 total time=   0.2s\n"
          ]
        },
        {
          "output_type": "stream",
          "name": "stderr",
          "text": [
            "/usr/local/lib/python3.7/dist-packages/sklearn/utils/validation.py:993: DataConversionWarning:\n",
            "\n",
            "A column-vector y was passed when a 1d array was expected. Please change the shape of y to (n_samples, ), for example using ravel().\n",
            "\n",
            "/usr/local/lib/python3.7/dist-packages/sklearn/utils/validation.py:993: DataConversionWarning:\n",
            "\n",
            "A column-vector y was passed when a 1d array was expected. Please change the shape of y to (n_samples, ), for example using ravel().\n",
            "\n"
          ]
        },
        {
          "output_type": "stream",
          "name": "stdout",
          "text": [
            "[CV 2/5] END ........eta0=0.001, max_iter=30000;, score=0.970 total time=   0.1s\n",
            "[CV 3/5] END ........eta0=0.001, max_iter=30000;, score=0.964 total time=   0.1s\n"
          ]
        },
        {
          "output_type": "stream",
          "name": "stderr",
          "text": [
            "/usr/local/lib/python3.7/dist-packages/sklearn/utils/validation.py:993: DataConversionWarning:\n",
            "\n",
            "A column-vector y was passed when a 1d array was expected. Please change the shape of y to (n_samples, ), for example using ravel().\n",
            "\n",
            "/usr/local/lib/python3.7/dist-packages/sklearn/utils/validation.py:993: DataConversionWarning:\n",
            "\n",
            "A column-vector y was passed when a 1d array was expected. Please change the shape of y to (n_samples, ), for example using ravel().\n",
            "\n"
          ]
        },
        {
          "output_type": "stream",
          "name": "stdout",
          "text": [
            "[CV 4/5] END ........eta0=0.001, max_iter=30000;, score=0.980 total time=   0.1s\n",
            "[CV 5/5] END ........eta0=0.001, max_iter=30000;, score=0.982 total time=   0.2s\n"
          ]
        },
        {
          "output_type": "stream",
          "name": "stderr",
          "text": [
            "/usr/local/lib/python3.7/dist-packages/sklearn/utils/validation.py:993: DataConversionWarning:\n",
            "\n",
            "A column-vector y was passed when a 1d array was expected. Please change the shape of y to (n_samples, ), for example using ravel().\n",
            "\n",
            "/usr/local/lib/python3.7/dist-packages/sklearn/utils/validation.py:993: DataConversionWarning:\n",
            "\n",
            "A column-vector y was passed when a 1d array was expected. Please change the shape of y to (n_samples, ), for example using ravel().\n",
            "\n"
          ]
        },
        {
          "output_type": "stream",
          "name": "stdout",
          "text": [
            "[CV 1/5] END ........eta0=0.001, max_iter=40000;, score=0.966 total time=   0.1s\n",
            "[CV 2/5] END ........eta0=0.001, max_iter=40000;, score=0.970 total time=   0.1s\n"
          ]
        },
        {
          "output_type": "stream",
          "name": "stderr",
          "text": [
            "/usr/local/lib/python3.7/dist-packages/sklearn/utils/validation.py:993: DataConversionWarning:\n",
            "\n",
            "A column-vector y was passed when a 1d array was expected. Please change the shape of y to (n_samples, ), for example using ravel().\n",
            "\n",
            "/usr/local/lib/python3.7/dist-packages/sklearn/utils/validation.py:993: DataConversionWarning:\n",
            "\n",
            "A column-vector y was passed when a 1d array was expected. Please change the shape of y to (n_samples, ), for example using ravel().\n",
            "\n"
          ]
        },
        {
          "output_type": "stream",
          "name": "stdout",
          "text": [
            "[CV 3/5] END ........eta0=0.001, max_iter=40000;, score=0.964 total time=   0.1s\n",
            "[CV 4/5] END ........eta0=0.001, max_iter=40000;, score=0.980 total time=   0.1s\n"
          ]
        },
        {
          "output_type": "stream",
          "name": "stderr",
          "text": [
            "/usr/local/lib/python3.7/dist-packages/sklearn/utils/validation.py:993: DataConversionWarning:\n",
            "\n",
            "A column-vector y was passed when a 1d array was expected. Please change the shape of y to (n_samples, ), for example using ravel().\n",
            "\n",
            "/usr/local/lib/python3.7/dist-packages/sklearn/utils/validation.py:993: DataConversionWarning:\n",
            "\n",
            "A column-vector y was passed when a 1d array was expected. Please change the shape of y to (n_samples, ), for example using ravel().\n",
            "\n"
          ]
        },
        {
          "output_type": "stream",
          "name": "stdout",
          "text": [
            "[CV 5/5] END ........eta0=0.001, max_iter=40000;, score=0.982 total time=   0.2s\n",
            "[CV 1/5] END .........eta0=0.01, max_iter=10000;, score=0.965 total time=   0.0s\n",
            "[CV 2/5] END .........eta0=0.01, max_iter=10000;, score=0.969 total time=   0.0s\n",
            "[CV 3/5] END .........eta0=0.01, max_iter=10000;, score=0.963 total time=   0.0s\n",
            "[CV 4/5] END .........eta0=0.01, max_iter=10000;, score=0.980 total time=   0.0s\n",
            "[CV 5/5] END .........eta0=0.01, max_iter=10000;, score=0.983 total time=   0.0s\n",
            "[CV 1/5] END .........eta0=0.01, max_iter=20000;, score=0.965 total time=   0.0s\n",
            "[CV 2/5] END .........eta0=0.01, max_iter=20000;, score=0.969 total time=   0.0s\n",
            "[CV 3/5] END .........eta0=0.01, max_iter=20000;, score=0.963 total time=   0.0s\n",
            "[CV 4/5] END .........eta0=0.01, max_iter=20000;, score=0.980 total time=   0.0s\n",
            "[CV 5/5] END .........eta0=0.01, max_iter=20000;, score=0.983 total time=   0.0s\n",
            "[CV 1/5] END .........eta0=0.01, max_iter=30000;, score=0.965 total time=   0.0s\n",
            "[CV 2/5] END .........eta0=0.01, max_iter=30000;, score=0.969 total time=   0.0s\n",
            "[CV 3/5] END .........eta0=0.01, max_iter=30000;, score=0.963 total time=   0.0s\n",
            "[CV 4/5] END .........eta0=0.01, max_iter=30000;, score=0.980 total time=   0.0s\n",
            "[CV 5/5] END .........eta0=0.01, max_iter=30000;, score=0.983 total time=   0.0s\n",
            "[CV 1/5] END .........eta0=0.01, max_iter=40000;, score=0.965 total time=   0.0s\n",
            "[CV 2/5] END .........eta0=0.01, max_iter=40000;, score=0.969 total time=   0.0s\n",
            "[CV 3/5] END .........eta0=0.01, max_iter=40000;, score=0.963 total time=   0.0s\n",
            "[CV 4/5] END .........eta0=0.01, max_iter=40000;, score=0.980 total time=   0.0s\n",
            "[CV 5/5] END .........eta0=0.01, max_iter=40000;, score=0.983 total time=   0.0s\n",
            "[CV 1/5] END ..........eta0=0.1, max_iter=10000;, score=0.966 total time=   0.0s\n",
            "[CV 2/5] END ..........eta0=0.1, max_iter=10000;, score=0.969 total time=   0.0s\n"
          ]
        },
        {
          "output_type": "stream",
          "name": "stderr",
          "text": [
            "/usr/local/lib/python3.7/dist-packages/sklearn/utils/validation.py:993: DataConversionWarning:\n",
            "\n",
            "A column-vector y was passed when a 1d array was expected. Please change the shape of y to (n_samples, ), for example using ravel().\n",
            "\n",
            "/usr/local/lib/python3.7/dist-packages/sklearn/utils/validation.py:993: DataConversionWarning:\n",
            "\n",
            "A column-vector y was passed when a 1d array was expected. Please change the shape of y to (n_samples, ), for example using ravel().\n",
            "\n",
            "/usr/local/lib/python3.7/dist-packages/sklearn/utils/validation.py:993: DataConversionWarning:\n",
            "\n",
            "A column-vector y was passed when a 1d array was expected. Please change the shape of y to (n_samples, ), for example using ravel().\n",
            "\n",
            "/usr/local/lib/python3.7/dist-packages/sklearn/utils/validation.py:993: DataConversionWarning:\n",
            "\n",
            "A column-vector y was passed when a 1d array was expected. Please change the shape of y to (n_samples, ), for example using ravel().\n",
            "\n",
            "/usr/local/lib/python3.7/dist-packages/sklearn/utils/validation.py:993: DataConversionWarning:\n",
            "\n",
            "A column-vector y was passed when a 1d array was expected. Please change the shape of y to (n_samples, ), for example using ravel().\n",
            "\n",
            "/usr/local/lib/python3.7/dist-packages/sklearn/utils/validation.py:993: DataConversionWarning:\n",
            "\n",
            "A column-vector y was passed when a 1d array was expected. Please change the shape of y to (n_samples, ), for example using ravel().\n",
            "\n",
            "/usr/local/lib/python3.7/dist-packages/sklearn/utils/validation.py:993: DataConversionWarning:\n",
            "\n",
            "A column-vector y was passed when a 1d array was expected. Please change the shape of y to (n_samples, ), for example using ravel().\n",
            "\n",
            "/usr/local/lib/python3.7/dist-packages/sklearn/utils/validation.py:993: DataConversionWarning:\n",
            "\n",
            "A column-vector y was passed when a 1d array was expected. Please change the shape of y to (n_samples, ), for example using ravel().\n",
            "\n",
            "/usr/local/lib/python3.7/dist-packages/sklearn/utils/validation.py:993: DataConversionWarning:\n",
            "\n",
            "A column-vector y was passed when a 1d array was expected. Please change the shape of y to (n_samples, ), for example using ravel().\n",
            "\n",
            "/usr/local/lib/python3.7/dist-packages/sklearn/utils/validation.py:993: DataConversionWarning:\n",
            "\n",
            "A column-vector y was passed when a 1d array was expected. Please change the shape of y to (n_samples, ), for example using ravel().\n",
            "\n",
            "/usr/local/lib/python3.7/dist-packages/sklearn/utils/validation.py:993: DataConversionWarning:\n",
            "\n",
            "A column-vector y was passed when a 1d array was expected. Please change the shape of y to (n_samples, ), for example using ravel().\n",
            "\n",
            "/usr/local/lib/python3.7/dist-packages/sklearn/utils/validation.py:993: DataConversionWarning:\n",
            "\n",
            "A column-vector y was passed when a 1d array was expected. Please change the shape of y to (n_samples, ), for example using ravel().\n",
            "\n",
            "/usr/local/lib/python3.7/dist-packages/sklearn/utils/validation.py:993: DataConversionWarning:\n",
            "\n",
            "A column-vector y was passed when a 1d array was expected. Please change the shape of y to (n_samples, ), for example using ravel().\n",
            "\n",
            "/usr/local/lib/python3.7/dist-packages/sklearn/utils/validation.py:993: DataConversionWarning:\n",
            "\n",
            "A column-vector y was passed when a 1d array was expected. Please change the shape of y to (n_samples, ), for example using ravel().\n",
            "\n",
            "/usr/local/lib/python3.7/dist-packages/sklearn/utils/validation.py:993: DataConversionWarning:\n",
            "\n",
            "A column-vector y was passed when a 1d array was expected. Please change the shape of y to (n_samples, ), for example using ravel().\n",
            "\n",
            "/usr/local/lib/python3.7/dist-packages/sklearn/utils/validation.py:993: DataConversionWarning:\n",
            "\n",
            "A column-vector y was passed when a 1d array was expected. Please change the shape of y to (n_samples, ), for example using ravel().\n",
            "\n",
            "/usr/local/lib/python3.7/dist-packages/sklearn/utils/validation.py:993: DataConversionWarning:\n",
            "\n",
            "A column-vector y was passed when a 1d array was expected. Please change the shape of y to (n_samples, ), for example using ravel().\n",
            "\n",
            "/usr/local/lib/python3.7/dist-packages/sklearn/utils/validation.py:993: DataConversionWarning:\n",
            "\n",
            "A column-vector y was passed when a 1d array was expected. Please change the shape of y to (n_samples, ), for example using ravel().\n",
            "\n",
            "/usr/local/lib/python3.7/dist-packages/sklearn/utils/validation.py:993: DataConversionWarning:\n",
            "\n",
            "A column-vector y was passed when a 1d array was expected. Please change the shape of y to (n_samples, ), for example using ravel().\n",
            "\n",
            "/usr/local/lib/python3.7/dist-packages/sklearn/utils/validation.py:993: DataConversionWarning:\n",
            "\n",
            "A column-vector y was passed when a 1d array was expected. Please change the shape of y to (n_samples, ), for example using ravel().\n",
            "\n",
            "/usr/local/lib/python3.7/dist-packages/sklearn/utils/validation.py:993: DataConversionWarning:\n",
            "\n",
            "A column-vector y was passed when a 1d array was expected. Please change the shape of y to (n_samples, ), for example using ravel().\n",
            "\n",
            "/usr/local/lib/python3.7/dist-packages/sklearn/utils/validation.py:993: DataConversionWarning:\n",
            "\n",
            "A column-vector y was passed when a 1d array was expected. Please change the shape of y to (n_samples, ), for example using ravel().\n",
            "\n",
            "/usr/local/lib/python3.7/dist-packages/sklearn/utils/validation.py:993: DataConversionWarning:\n",
            "\n",
            "A column-vector y was passed when a 1d array was expected. Please change the shape of y to (n_samples, ), for example using ravel().\n",
            "\n",
            "/usr/local/lib/python3.7/dist-packages/sklearn/utils/validation.py:993: DataConversionWarning:\n",
            "\n",
            "A column-vector y was passed when a 1d array was expected. Please change the shape of y to (n_samples, ), for example using ravel().\n",
            "\n"
          ]
        },
        {
          "output_type": "stream",
          "name": "stdout",
          "text": [
            "[CV 3/5] END ..........eta0=0.1, max_iter=10000;, score=0.969 total time=   0.0s\n",
            "[CV 4/5] END ..........eta0=0.1, max_iter=10000;, score=0.976 total time=   0.0s\n",
            "[CV 5/5] END ..........eta0=0.1, max_iter=10000;, score=0.977 total time=   0.0s\n",
            "[CV 1/5] END ..........eta0=0.1, max_iter=20000;, score=0.966 total time=   0.0s\n",
            "[CV 2/5] END ..........eta0=0.1, max_iter=20000;, score=0.969 total time=   0.0s\n",
            "[CV 3/5] END ..........eta0=0.1, max_iter=20000;, score=0.969 total time=   0.0s\n",
            "[CV 4/5] END ..........eta0=0.1, max_iter=20000;, score=0.976 total time=   0.0s\n",
            "[CV 5/5] END ..........eta0=0.1, max_iter=20000;, score=0.977 total time=   0.0s\n",
            "[CV 1/5] END ..........eta0=0.1, max_iter=30000;, score=0.966 total time=   0.0s\n",
            "[CV 2/5] END ..........eta0=0.1, max_iter=30000;, score=0.969 total time=   0.0s\n",
            "[CV 3/5] END ..........eta0=0.1, max_iter=30000;, score=0.969 total time=   0.0s\n",
            "[CV 4/5] END ..........eta0=0.1, max_iter=30000;, score=0.976 total time=   0.0s\n",
            "[CV 5/5] END ..........eta0=0.1, max_iter=30000;, score=0.977 total time=   0.0s\n",
            "[CV 1/5] END ..........eta0=0.1, max_iter=40000;, score=0.966 total time=   0.0s\n",
            "[CV 2/5] END ..........eta0=0.1, max_iter=40000;, score=0.969 total time=   0.0s\n",
            "[CV 3/5] END ..........eta0=0.1, max_iter=40000;, score=0.969 total time=   0.0s\n",
            "[CV 4/5] END ..........eta0=0.1, max_iter=40000;, score=0.976 total time=   0.0s\n",
            "[CV 5/5] END ..........eta0=0.1, max_iter=40000;, score=0.977 total time=   0.0s\n",
            "[CV 1/5] END eta0=1, max_iter=10000;, score=-229126125880057.312 total time=   0.0s\n",
            "[CV 2/5] END eta0=1, max_iter=10000;, score=-670626409897785.375 total time=   0.0s\n",
            "[CV 3/5] END eta0=1, max_iter=10000;, score=-17933086905949844.000 total time=   0.0s\n",
            "[CV 4/5] END eta0=1, max_iter=10000;, score=-1508957536813861.750 total time=   0.0s\n",
            "[CV 5/5] END eta0=1, max_iter=10000;, score=-56276582337688.930 total time=   0.0s\n",
            "[CV 1/5] END eta0=1, max_iter=20000;, score=-229126125880057.312 total time=   0.0s\n",
            "[CV 2/5] END eta0=1, max_iter=20000;, score=-670626409897785.375 total time=   0.0s\n",
            "[CV 3/5] END eta0=1, max_iter=20000;, score=-17933086905949844.000 total time=   0.0s\n"
          ]
        },
        {
          "output_type": "stream",
          "name": "stderr",
          "text": [
            "/usr/local/lib/python3.7/dist-packages/sklearn/utils/validation.py:993: DataConversionWarning:\n",
            "\n",
            "A column-vector y was passed when a 1d array was expected. Please change the shape of y to (n_samples, ), for example using ravel().\n",
            "\n",
            "/usr/local/lib/python3.7/dist-packages/sklearn/utils/validation.py:993: DataConversionWarning:\n",
            "\n",
            "A column-vector y was passed when a 1d array was expected. Please change the shape of y to (n_samples, ), for example using ravel().\n",
            "\n",
            "/usr/local/lib/python3.7/dist-packages/sklearn/utils/validation.py:993: DataConversionWarning:\n",
            "\n",
            "A column-vector y was passed when a 1d array was expected. Please change the shape of y to (n_samples, ), for example using ravel().\n",
            "\n",
            "/usr/local/lib/python3.7/dist-packages/sklearn/utils/validation.py:993: DataConversionWarning:\n",
            "\n",
            "A column-vector y was passed when a 1d array was expected. Please change the shape of y to (n_samples, ), for example using ravel().\n",
            "\n",
            "/usr/local/lib/python3.7/dist-packages/sklearn/utils/validation.py:993: DataConversionWarning:\n",
            "\n",
            "A column-vector y was passed when a 1d array was expected. Please change the shape of y to (n_samples, ), for example using ravel().\n",
            "\n",
            "/usr/local/lib/python3.7/dist-packages/sklearn/utils/validation.py:993: DataConversionWarning:\n",
            "\n",
            "A column-vector y was passed when a 1d array was expected. Please change the shape of y to (n_samples, ), for example using ravel().\n",
            "\n",
            "/usr/local/lib/python3.7/dist-packages/sklearn/utils/validation.py:993: DataConversionWarning:\n",
            "\n",
            "A column-vector y was passed when a 1d array was expected. Please change the shape of y to (n_samples, ), for example using ravel().\n",
            "\n",
            "/usr/local/lib/python3.7/dist-packages/sklearn/utils/validation.py:993: DataConversionWarning:\n",
            "\n",
            "A column-vector y was passed when a 1d array was expected. Please change the shape of y to (n_samples, ), for example using ravel().\n",
            "\n",
            "/usr/local/lib/python3.7/dist-packages/sklearn/utils/validation.py:993: DataConversionWarning:\n",
            "\n",
            "A column-vector y was passed when a 1d array was expected. Please change the shape of y to (n_samples, ), for example using ravel().\n",
            "\n",
            "/usr/local/lib/python3.7/dist-packages/sklearn/utils/validation.py:993: DataConversionWarning:\n",
            "\n",
            "A column-vector y was passed when a 1d array was expected. Please change the shape of y to (n_samples, ), for example using ravel().\n",
            "\n",
            "/usr/local/lib/python3.7/dist-packages/sklearn/utils/validation.py:993: DataConversionWarning:\n",
            "\n",
            "A column-vector y was passed when a 1d array was expected. Please change the shape of y to (n_samples, ), for example using ravel().\n",
            "\n",
            "/usr/local/lib/python3.7/dist-packages/sklearn/utils/validation.py:993: DataConversionWarning:\n",
            "\n",
            "A column-vector y was passed when a 1d array was expected. Please change the shape of y to (n_samples, ), for example using ravel().\n",
            "\n",
            "/usr/local/lib/python3.7/dist-packages/sklearn/utils/validation.py:993: DataConversionWarning:\n",
            "\n",
            "A column-vector y was passed when a 1d array was expected. Please change the shape of y to (n_samples, ), for example using ravel().\n",
            "\n",
            "/usr/local/lib/python3.7/dist-packages/sklearn/utils/validation.py:993: DataConversionWarning:\n",
            "\n",
            "A column-vector y was passed when a 1d array was expected. Please change the shape of y to (n_samples, ), for example using ravel().\n",
            "\n",
            "/usr/local/lib/python3.7/dist-packages/sklearn/utils/validation.py:993: DataConversionWarning:\n",
            "\n",
            "A column-vector y was passed when a 1d array was expected. Please change the shape of y to (n_samples, ), for example using ravel().\n",
            "\n",
            "/usr/local/lib/python3.7/dist-packages/sklearn/utils/validation.py:993: DataConversionWarning:\n",
            "\n",
            "A column-vector y was passed when a 1d array was expected. Please change the shape of y to (n_samples, ), for example using ravel().\n",
            "\n",
            "/usr/local/lib/python3.7/dist-packages/sklearn/utils/validation.py:993: DataConversionWarning:\n",
            "\n",
            "A column-vector y was passed when a 1d array was expected. Please change the shape of y to (n_samples, ), for example using ravel().\n",
            "\n",
            "/usr/local/lib/python3.7/dist-packages/sklearn/utils/validation.py:993: DataConversionWarning:\n",
            "\n",
            "A column-vector y was passed when a 1d array was expected. Please change the shape of y to (n_samples, ), for example using ravel().\n",
            "\n",
            "/usr/local/lib/python3.7/dist-packages/sklearn/utils/validation.py:993: DataConversionWarning:\n",
            "\n",
            "A column-vector y was passed when a 1d array was expected. Please change the shape of y to (n_samples, ), for example using ravel().\n",
            "\n",
            "/usr/local/lib/python3.7/dist-packages/sklearn/utils/validation.py:993: DataConversionWarning:\n",
            "\n",
            "A column-vector y was passed when a 1d array was expected. Please change the shape of y to (n_samples, ), for example using ravel().\n",
            "\n",
            "/usr/local/lib/python3.7/dist-packages/sklearn/utils/validation.py:993: DataConversionWarning:\n",
            "\n",
            "A column-vector y was passed when a 1d array was expected. Please change the shape of y to (n_samples, ), for example using ravel().\n",
            "\n",
            "/usr/local/lib/python3.7/dist-packages/sklearn/utils/validation.py:993: DataConversionWarning:\n",
            "\n",
            "A column-vector y was passed when a 1d array was expected. Please change the shape of y to (n_samples, ), for example using ravel().\n",
            "\n",
            "/usr/local/lib/python3.7/dist-packages/sklearn/utils/validation.py:993: DataConversionWarning:\n",
            "\n",
            "A column-vector y was passed when a 1d array was expected. Please change the shape of y to (n_samples, ), for example using ravel().\n",
            "\n",
            "/usr/local/lib/python3.7/dist-packages/sklearn/utils/validation.py:993: DataConversionWarning:\n",
            "\n",
            "A column-vector y was passed when a 1d array was expected. Please change the shape of y to (n_samples, ), for example using ravel().\n",
            "\n",
            "/usr/local/lib/python3.7/dist-packages/sklearn/utils/validation.py:993: DataConversionWarning:\n",
            "\n",
            "A column-vector y was passed when a 1d array was expected. Please change the shape of y to (n_samples, ), for example using ravel().\n",
            "\n"
          ]
        },
        {
          "output_type": "stream",
          "name": "stdout",
          "text": [
            "[CV 4/5] END eta0=1, max_iter=20000;, score=-1508957536813861.750 total time=   0.0s\n",
            "[CV 5/5] END eta0=1, max_iter=20000;, score=-56276582337688.930 total time=   0.0s\n",
            "[CV 1/5] END eta0=1, max_iter=30000;, score=-229126125880057.312 total time=   0.0s\n",
            "[CV 2/5] END eta0=1, max_iter=30000;, score=-670626409897785.375 total time=   0.0s\n",
            "[CV 3/5] END eta0=1, max_iter=30000;, score=-17933086905949844.000 total time=   0.0s\n",
            "[CV 4/5] END eta0=1, max_iter=30000;, score=-1508957536813861.750 total time=   0.0s\n",
            "[CV 5/5] END eta0=1, max_iter=30000;, score=-56276582337688.930 total time=   0.0s\n",
            "[CV 1/5] END eta0=1, max_iter=40000;, score=-229126125880057.312 total time=   0.0s\n",
            "[CV 2/5] END eta0=1, max_iter=40000;, score=-670626409897785.375 total time=   0.0s\n",
            "[CV 3/5] END eta0=1, max_iter=40000;, score=-17933086905949844.000 total time=   0.0s\n",
            "[CV 4/5] END eta0=1, max_iter=40000;, score=-1508957536813861.750 total time=   0.0s\n",
            "[CV 5/5] END eta0=1, max_iter=40000;, score=-56276582337688.930 total time=   0.0s\n"
          ]
        },
        {
          "output_type": "stream",
          "name": "stderr",
          "text": [
            "/usr/local/lib/python3.7/dist-packages/sklearn/utils/validation.py:993: DataConversionWarning:\n",
            "\n",
            "A column-vector y was passed when a 1d array was expected. Please change the shape of y to (n_samples, ), for example using ravel().\n",
            "\n",
            "/usr/local/lib/python3.7/dist-packages/sklearn/utils/validation.py:993: DataConversionWarning:\n",
            "\n",
            "A column-vector y was passed when a 1d array was expected. Please change the shape of y to (n_samples, ), for example using ravel().\n",
            "\n",
            "/usr/local/lib/python3.7/dist-packages/sklearn/utils/validation.py:993: DataConversionWarning:\n",
            "\n",
            "A column-vector y was passed when a 1d array was expected. Please change the shape of y to (n_samples, ), for example using ravel().\n",
            "\n",
            "/usr/local/lib/python3.7/dist-packages/sklearn/utils/validation.py:993: DataConversionWarning:\n",
            "\n",
            "A column-vector y was passed when a 1d array was expected. Please change the shape of y to (n_samples, ), for example using ravel().\n",
            "\n",
            "/usr/local/lib/python3.7/dist-packages/sklearn/utils/validation.py:993: DataConversionWarning:\n",
            "\n",
            "A column-vector y was passed when a 1d array was expected. Please change the shape of y to (n_samples, ), for example using ravel().\n",
            "\n",
            "/usr/local/lib/python3.7/dist-packages/sklearn/utils/validation.py:993: DataConversionWarning:\n",
            "\n",
            "A column-vector y was passed when a 1d array was expected. Please change the shape of y to (n_samples, ), for example using ravel().\n",
            "\n",
            "/usr/local/lib/python3.7/dist-packages/sklearn/utils/validation.py:993: DataConversionWarning:\n",
            "\n",
            "A column-vector y was passed when a 1d array was expected. Please change the shape of y to (n_samples, ), for example using ravel().\n",
            "\n",
            "/usr/local/lib/python3.7/dist-packages/sklearn/utils/validation.py:993: DataConversionWarning:\n",
            "\n",
            "A column-vector y was passed when a 1d array was expected. Please change the shape of y to (n_samples, ), for example using ravel().\n",
            "\n",
            "/usr/local/lib/python3.7/dist-packages/sklearn/utils/validation.py:993: DataConversionWarning:\n",
            "\n",
            "A column-vector y was passed when a 1d array was expected. Please change the shape of y to (n_samples, ), for example using ravel().\n",
            "\n",
            "/usr/local/lib/python3.7/dist-packages/sklearn/utils/validation.py:993: DataConversionWarning:\n",
            "\n",
            "A column-vector y was passed when a 1d array was expected. Please change the shape of y to (n_samples, ), for example using ravel().\n",
            "\n",
            "/usr/local/lib/python3.7/dist-packages/sklearn/utils/validation.py:993: DataConversionWarning:\n",
            "\n",
            "A column-vector y was passed when a 1d array was expected. Please change the shape of y to (n_samples, ), for example using ravel().\n",
            "\n",
            "/usr/local/lib/python3.7/dist-packages/sklearn/utils/validation.py:993: DataConversionWarning:\n",
            "\n",
            "A column-vector y was passed when a 1d array was expected. Please change the shape of y to (n_samples, ), for example using ravel().\n",
            "\n"
          ]
        },
        {
          "output_type": "execute_result",
          "data": {
            "text/plain": [
              "GridSearchCV(cv=5, estimator=SGDRegressor(penalty=None, random_state=1),\n",
              "             param_grid={'eta0': [0.0001, 0.001, 0.01, 0.1, 1],\n",
              "                         'max_iter': [10000, 20000, 30000, 40000]},\n",
              "             refit='r2', scoring='r2', verbose=5)"
            ]
          },
          "metadata": {},
          "execution_count": 81
        }
      ]
    },
    {
      "cell_type": "code",
      "source": [
        "results = pd.DataFrame.from_dict(gd_sr.cv_results_)\n",
        "print('Cross-validation results:\\n', results)\n",
        " \n",
        "r2_withsgd_case3 = gd_sr.best_score_\n",
        "print('r2 score with Stocastic gradient decent for case 3 : ',r2_withsgd_case3)\n",
        "  \n",
        "best_model = gd_sr.best_estimator_\n",
        "print('Intercept for case 3:' , best_model.intercept_)"
      ],
      "metadata": {
        "id": "YaKyGrS77GsH",
        "colab": {
          "base_uri": "https://localhost:8080/"
        },
        "outputId": "7ca19d61-b5a8-4b61-9c81-e38a8b660d70"
      },
      "execution_count": null,
      "outputs": [
        {
          "output_type": "stream",
          "name": "stdout",
          "text": [
            "Cross-validation results:\n",
            "     mean_fit_time  std_fit_time  mean_score_time  std_score_time param_eta0  \\\n",
            "0        0.386550      0.024322         0.002145        0.000064     0.0001   \n",
            "1        0.490131      0.142101         0.004892        0.004662     0.0001   \n",
            "2        0.617706      0.047666         0.003207        0.000202     0.0001   \n",
            "3        0.655140      0.068562         0.003173        0.000166     0.0001   \n",
            "4        0.228257      0.042641         0.004611        0.003288      0.001   \n",
            "5        0.223590      0.024767         0.003499        0.000901      0.001   \n",
            "6        0.137481      0.017515         0.002341        0.000309      0.001   \n",
            "7        0.132716      0.019042         0.002325        0.000503      0.001   \n",
            "8        0.006305      0.001547         0.001947        0.000064       0.01   \n",
            "9        0.005631      0.000790         0.001918        0.000039       0.01   \n",
            "10       0.006138      0.001134         0.002237        0.000597       0.01   \n",
            "11       0.006183      0.000565         0.002038        0.000032       0.01   \n",
            "12       0.005865      0.001539         0.002534        0.000647        0.1   \n",
            "13       0.004951      0.000728         0.002136        0.000332        0.1   \n",
            "14       0.004311      0.000352         0.001804        0.000041        0.1   \n",
            "15       0.005034      0.000765         0.001913        0.000088        0.1   \n",
            "16       0.005481      0.000820         0.002069        0.000335          1   \n",
            "17       0.006300      0.001927         0.002784        0.001166          1   \n",
            "18       0.005559      0.000837         0.002190        0.000490          1   \n",
            "19       0.004727      0.000698         0.001913        0.000070          1   \n",
            "\n",
            "   param_max_iter                               params  split0_test_score  \\\n",
            "0           10000  {'eta0': 0.0001, 'max_iter': 10000}       9.616809e-01   \n",
            "1           20000  {'eta0': 0.0001, 'max_iter': 20000}       9.616809e-01   \n",
            "2           30000  {'eta0': 0.0001, 'max_iter': 30000}       9.616809e-01   \n",
            "3           40000  {'eta0': 0.0001, 'max_iter': 40000}       9.616809e-01   \n",
            "4           10000   {'eta0': 0.001, 'max_iter': 10000}       9.656553e-01   \n",
            "5           20000   {'eta0': 0.001, 'max_iter': 20000}       9.656553e-01   \n",
            "6           30000   {'eta0': 0.001, 'max_iter': 30000}       9.656553e-01   \n",
            "7           40000   {'eta0': 0.001, 'max_iter': 40000}       9.656553e-01   \n",
            "8           10000    {'eta0': 0.01, 'max_iter': 10000}       9.649614e-01   \n",
            "9           20000    {'eta0': 0.01, 'max_iter': 20000}       9.649614e-01   \n",
            "10          30000    {'eta0': 0.01, 'max_iter': 30000}       9.649614e-01   \n",
            "11          40000    {'eta0': 0.01, 'max_iter': 40000}       9.649614e-01   \n",
            "12          10000     {'eta0': 0.1, 'max_iter': 10000}       9.662649e-01   \n",
            "13          20000     {'eta0': 0.1, 'max_iter': 20000}       9.662649e-01   \n",
            "14          30000     {'eta0': 0.1, 'max_iter': 30000}       9.662649e-01   \n",
            "15          40000     {'eta0': 0.1, 'max_iter': 40000}       9.662649e-01   \n",
            "16          10000       {'eta0': 1, 'max_iter': 10000}      -2.291261e+14   \n",
            "17          20000       {'eta0': 1, 'max_iter': 20000}      -2.291261e+14   \n",
            "18          30000       {'eta0': 1, 'max_iter': 30000}      -2.291261e+14   \n",
            "19          40000       {'eta0': 1, 'max_iter': 40000}      -2.291261e+14   \n",
            "\n",
            "    split1_test_score  split2_test_score  split3_test_score  \\\n",
            "0        9.659744e-01       9.636563e-01       9.749023e-01   \n",
            "1        9.659744e-01       9.636563e-01       9.749023e-01   \n",
            "2        9.659744e-01       9.636563e-01       9.749023e-01   \n",
            "3        9.659744e-01       9.636563e-01       9.749023e-01   \n",
            "4        9.703151e-01       9.642166e-01       9.800623e-01   \n",
            "5        9.703151e-01       9.642166e-01       9.800623e-01   \n",
            "6        9.703151e-01       9.642166e-01       9.800623e-01   \n",
            "7        9.703151e-01       9.642166e-01       9.800623e-01   \n",
            "8        9.690131e-01       9.633779e-01       9.803829e-01   \n",
            "9        9.690131e-01       9.633779e-01       9.803829e-01   \n",
            "10       9.690131e-01       9.633779e-01       9.803829e-01   \n",
            "11       9.690131e-01       9.633779e-01       9.803829e-01   \n",
            "12       9.692120e-01       9.694648e-01       9.764053e-01   \n",
            "13       9.692120e-01       9.694648e-01       9.764053e-01   \n",
            "14       9.692120e-01       9.694648e-01       9.764053e-01   \n",
            "15       9.692120e-01       9.694648e-01       9.764053e-01   \n",
            "16      -6.706264e+14      -1.793309e+16      -1.508958e+15   \n",
            "17      -6.706264e+14      -1.793309e+16      -1.508958e+15   \n",
            "18      -6.706264e+14      -1.793309e+16      -1.508958e+15   \n",
            "19      -6.706264e+14      -1.793309e+16      -1.508958e+15   \n",
            "\n",
            "    split4_test_score  mean_test_score  std_test_score  rank_test_score  \n",
            "0        9.814994e-01     9.695426e-01    7.495050e-03               13  \n",
            "1        9.814994e-01     9.695426e-01    7.495050e-03               13  \n",
            "2        9.814994e-01     9.695426e-01    7.495050e-03               13  \n",
            "3        9.814994e-01     9.695426e-01    7.495050e-03               13  \n",
            "4        9.820905e-01     9.724680e-01    7.340307e-03                1  \n",
            "5        9.820905e-01     9.724680e-01    7.340307e-03                1  \n",
            "6        9.820905e-01     9.724680e-01    7.340307e-03                1  \n",
            "7        9.820905e-01     9.724680e-01    7.340307e-03                1  \n",
            "8        9.827925e-01     9.721056e-01    7.993736e-03                5  \n",
            "9        9.827925e-01     9.721056e-01    7.993736e-03                5  \n",
            "10       9.827925e-01     9.721056e-01    7.993736e-03                5  \n",
            "11       9.827925e-01     9.721056e-01    7.993736e-03                5  \n",
            "12       9.765537e-01     9.715801e-01    4.155788e-03                9  \n",
            "13       9.765537e-01     9.715801e-01    4.155788e-03                9  \n",
            "14       9.765537e-01     9.715801e-01    4.155788e-03                9  \n",
            "15       9.765537e-01     9.715801e-01    4.155788e-03                9  \n",
            "16      -5.627658e+13    -4.079615e+15    6.944950e+15               17  \n",
            "17      -5.627658e+13    -4.079615e+15    6.944950e+15               17  \n",
            "18      -5.627658e+13    -4.079615e+15    6.944950e+15               17  \n",
            "19      -5.627658e+13    -4.079615e+15    6.944950e+15               17  \n",
            "r2 score with Stocastic gradient decent for case 3 :  0.9724679585318455\n",
            "Intercept for case 3: [259.84774945]\n"
          ]
        }
      ]
    },
    {
      "cell_type": "code",
      "source": [
        "coef_table3 = pd.DataFrame(zip(x.columns, best_model.coef_), columns=['Features','Coefficients']).sort_values(by=['Coefficients'],ascending=False)\n",
        "coef_table"
      ],
      "metadata": {
        "colab": {
          "base_uri": "https://localhost:8080/",
          "height": 363
        },
        "id": "PVDNr21aVQBb",
        "outputId": "6ae45e25-68ed-4b6b-9873-e6d55046fbbb"
      },
      "execution_count": null,
      "outputs": [
        {
          "output_type": "execute_result",
          "data": {
            "text/plain": [
              "                        Features  Coefficients\n",
              "5  FUEL_CONSUMPTION_COMB_L/100KM     42.007592\n",
              "4                  ENGINE_SIZE_L      3.496252\n",
              "7                      FUEL_TYPE      1.208626\n",
              "3                  VEHICLE_CLASS      0.264475\n",
              "0                     MODEL_YEAR      0.000000\n",
              "1                          BRAND     -0.041343\n",
              "9                    SMOG_RATING     -1.069370\n",
              "6                   TRANSMISSION     -1.390244\n",
              "2                          MODEL     -1.843745\n",
              "8                     CO2_RATING    -18.653622"
            ],
            "text/html": [
              "\n",
              "  <div id=\"df-79edcc3f-d583-4eb0-a2f5-35e3fea2429e\">\n",
              "    <div class=\"colab-df-container\">\n",
              "      <div>\n",
              "<style scoped>\n",
              "    .dataframe tbody tr th:only-of-type {\n",
              "        vertical-align: middle;\n",
              "    }\n",
              "\n",
              "    .dataframe tbody tr th {\n",
              "        vertical-align: top;\n",
              "    }\n",
              "\n",
              "    .dataframe thead th {\n",
              "        text-align: right;\n",
              "    }\n",
              "</style>\n",
              "<table border=\"1\" class=\"dataframe\">\n",
              "  <thead>\n",
              "    <tr style=\"text-align: right;\">\n",
              "      <th></th>\n",
              "      <th>Features</th>\n",
              "      <th>Coefficients</th>\n",
              "    </tr>\n",
              "  </thead>\n",
              "  <tbody>\n",
              "    <tr>\n",
              "      <th>5</th>\n",
              "      <td>FUEL_CONSUMPTION_COMB_L/100KM</td>\n",
              "      <td>42.007592</td>\n",
              "    </tr>\n",
              "    <tr>\n",
              "      <th>4</th>\n",
              "      <td>ENGINE_SIZE_L</td>\n",
              "      <td>3.496252</td>\n",
              "    </tr>\n",
              "    <tr>\n",
              "      <th>7</th>\n",
              "      <td>FUEL_TYPE</td>\n",
              "      <td>1.208626</td>\n",
              "    </tr>\n",
              "    <tr>\n",
              "      <th>3</th>\n",
              "      <td>VEHICLE_CLASS</td>\n",
              "      <td>0.264475</td>\n",
              "    </tr>\n",
              "    <tr>\n",
              "      <th>0</th>\n",
              "      <td>MODEL_YEAR</td>\n",
              "      <td>0.000000</td>\n",
              "    </tr>\n",
              "    <tr>\n",
              "      <th>1</th>\n",
              "      <td>BRAND</td>\n",
              "      <td>-0.041343</td>\n",
              "    </tr>\n",
              "    <tr>\n",
              "      <th>9</th>\n",
              "      <td>SMOG_RATING</td>\n",
              "      <td>-1.069370</td>\n",
              "    </tr>\n",
              "    <tr>\n",
              "      <th>6</th>\n",
              "      <td>TRANSMISSION</td>\n",
              "      <td>-1.390244</td>\n",
              "    </tr>\n",
              "    <tr>\n",
              "      <th>2</th>\n",
              "      <td>MODEL</td>\n",
              "      <td>-1.843745</td>\n",
              "    </tr>\n",
              "    <tr>\n",
              "      <th>8</th>\n",
              "      <td>CO2_RATING</td>\n",
              "      <td>-18.653622</td>\n",
              "    </tr>\n",
              "  </tbody>\n",
              "</table>\n",
              "</div>\n",
              "      <button class=\"colab-df-convert\" onclick=\"convertToInteractive('df-79edcc3f-d583-4eb0-a2f5-35e3fea2429e')\"\n",
              "              title=\"Convert this dataframe to an interactive table.\"\n",
              "              style=\"display:none;\">\n",
              "        \n",
              "  <svg xmlns=\"http://www.w3.org/2000/svg\" height=\"24px\"viewBox=\"0 0 24 24\"\n",
              "       width=\"24px\">\n",
              "    <path d=\"M0 0h24v24H0V0z\" fill=\"none\"/>\n",
              "    <path d=\"M18.56 5.44l.94 2.06.94-2.06 2.06-.94-2.06-.94-.94-2.06-.94 2.06-2.06.94zm-11 1L8.5 8.5l.94-2.06 2.06-.94-2.06-.94L8.5 2.5l-.94 2.06-2.06.94zm10 10l.94 2.06.94-2.06 2.06-.94-2.06-.94-.94-2.06-.94 2.06-2.06.94z\"/><path d=\"M17.41 7.96l-1.37-1.37c-.4-.4-.92-.59-1.43-.59-.52 0-1.04.2-1.43.59L10.3 9.45l-7.72 7.72c-.78.78-.78 2.05 0 2.83L4 21.41c.39.39.9.59 1.41.59.51 0 1.02-.2 1.41-.59l7.78-7.78 2.81-2.81c.8-.78.8-2.07 0-2.86zM5.41 20L4 18.59l7.72-7.72 1.47 1.35L5.41 20z\"/>\n",
              "  </svg>\n",
              "      </button>\n",
              "      \n",
              "  <style>\n",
              "    .colab-df-container {\n",
              "      display:flex;\n",
              "      flex-wrap:wrap;\n",
              "      gap: 12px;\n",
              "    }\n",
              "\n",
              "    .colab-df-convert {\n",
              "      background-color: #E8F0FE;\n",
              "      border: none;\n",
              "      border-radius: 50%;\n",
              "      cursor: pointer;\n",
              "      display: none;\n",
              "      fill: #1967D2;\n",
              "      height: 32px;\n",
              "      padding: 0 0 0 0;\n",
              "      width: 32px;\n",
              "    }\n",
              "\n",
              "    .colab-df-convert:hover {\n",
              "      background-color: #E2EBFA;\n",
              "      box-shadow: 0px 1px 2px rgba(60, 64, 67, 0.3), 0px 1px 3px 1px rgba(60, 64, 67, 0.15);\n",
              "      fill: #174EA6;\n",
              "    }\n",
              "\n",
              "    [theme=dark] .colab-df-convert {\n",
              "      background-color: #3B4455;\n",
              "      fill: #D2E3FC;\n",
              "    }\n",
              "\n",
              "    [theme=dark] .colab-df-convert:hover {\n",
              "      background-color: #434B5C;\n",
              "      box-shadow: 0px 1px 3px 1px rgba(0, 0, 0, 0.15);\n",
              "      filter: drop-shadow(0px 1px 2px rgba(0, 0, 0, 0.3));\n",
              "      fill: #FFFFFF;\n",
              "    }\n",
              "  </style>\n",
              "\n",
              "      <script>\n",
              "        const buttonEl =\n",
              "          document.querySelector('#df-79edcc3f-d583-4eb0-a2f5-35e3fea2429e button.colab-df-convert');\n",
              "        buttonEl.style.display =\n",
              "          google.colab.kernel.accessAllowed ? 'block' : 'none';\n",
              "\n",
              "        async function convertToInteractive(key) {\n",
              "          const element = document.querySelector('#df-79edcc3f-d583-4eb0-a2f5-35e3fea2429e');\n",
              "          const dataTable =\n",
              "            await google.colab.kernel.invokeFunction('convertToInteractive',\n",
              "                                                     [key], {});\n",
              "          if (!dataTable) return;\n",
              "\n",
              "          const docLinkHtml = 'Like what you see? Visit the ' +\n",
              "            '<a target=\"_blank\" href=https://colab.research.google.com/notebooks/data_table.ipynb>data table notebook</a>'\n",
              "            + ' to learn more about interactive tables.';\n",
              "          element.innerHTML = '';\n",
              "          dataTable['output_type'] = 'display_data';\n",
              "          await google.colab.output.renderOutput(dataTable, element);\n",
              "          const docLink = document.createElement('div');\n",
              "          docLink.innerHTML = docLinkHtml;\n",
              "          element.appendChild(docLink);\n",
              "        }\n",
              "      </script>\n",
              "    </div>\n",
              "  </div>\n",
              "  "
            ]
          },
          "metadata": {},
          "execution_count": 83
        }
      ]
    },
    {
      "cell_type": "code",
      "source": [
        "plt.figure(figsize=(5,4),dpi=120)\n",
        "a2=coef_table['Features']\n",
        "b2=coef_table['Coefficients']\n",
        "plt.barh(a2,b2)\n",
        "plt.xlabel(\"Coefficients\")\n",
        "plt.ylabel(\"Features\")"
      ],
      "metadata": {
        "colab": {
          "base_uri": "https://localhost:8080/",
          "height": 474
        },
        "id": "zxWnx8k9VQE4",
        "outputId": "66b3cb16-e2fa-42c0-ea5e-dba5eaad8ce0"
      },
      "execution_count": null,
      "outputs": [
        {
          "output_type": "execute_result",
          "data": {
            "text/plain": [
              "Text(0, 0.5, 'Features')"
            ]
          },
          "metadata": {},
          "execution_count": 84
        },
        {
          "output_type": "display_data",
          "data": {
            "text/plain": [
              "<Figure size 600x480 with 1 Axes>"
            ],
            "image/png": "[encoded data removed]"
          },
          "metadata": {
            "needs_background": "light"
          }
        }
      ]
    },
    {
      "cell_type": "markdown",
      "source": [
        "###**1.7 Comparing**"
      ],
      "metadata": {
        "id": "PxajVIMarclr"
      }
    },
    {
      "cell_type": "code",
      "source": [
        "R2_SCORE_withoutSGD = [r2_score_case1,r2_score_case2,r2_score_case3]\n",
        "R2_SCORE_withSGD = [r2_withsgd_case1,r2_withsgd_case2,r2_withsgd_case3]\n",
        "\n",
        "col={'Linear Regression':R2_SCORE_withoutSGD,'Stocastic Gradient Descent':R2_SCORE_withSGD}\n",
        "cases=['Case 1','Case 2','Case 3']\n",
        "\n",
        "f=pd.DataFrame(data=col,index=cases)\n",
        "f\n"
      ],
      "metadata": {
        "colab": {
          "base_uri": "https://localhost:8080/",
          "height": 143
        },
        "id": "zDbJl_1Irbpq",
        "outputId": "238097e0-6a8a-4ec0-fd87-ba86fee68c9a"
      },
      "execution_count": null,
      "outputs": [
        {
          "output_type": "execute_result",
          "data": {
            "text/plain": [
              "        Linear Regression  Stocastic Gradient Descent\n",
              "Case 1           0.940640                    0.971215\n",
              "Case 2           0.942236                    0.965124\n",
              "Case 3           0.941339                    0.972468"
            ],
            "text/html": [
              "\n",
              "  <div id=\"df-db9f7a0f-f94b-47a6-98d0-e3cb98289ec7\">\n",
              "    <div class=\"colab-df-container\">\n",
              "      <div>\n",
              "<style scoped>\n",
              "    .dataframe tbody tr th:only-of-type {\n",
              "        vertical-align: middle;\n",
              "    }\n",
              "\n",
              "    .dataframe tbody tr th {\n",
              "        vertical-align: top;\n",
              "    }\n",
              "\n",
              "    .dataframe thead th {\n",
              "        text-align: right;\n",
              "    }\n",
              "</style>\n",
              "<table border=\"1\" class=\"dataframe\">\n",
              "  <thead>\n",
              "    <tr style=\"text-align: right;\">\n",
              "      <th></th>\n",
              "      <th>Linear Regression</th>\n",
              "      <th>Stocastic Gradient Descent</th>\n",
              "    </tr>\n",
              "  </thead>\n",
              "  <tbody>\n",
              "    <tr>\n",
              "      <th>Case 1</th>\n",
              "      <td>0.940640</td>\n",
              "      <td>0.971215</td>\n",
              "    </tr>\n",
              "    <tr>\n",
              "      <th>Case 2</th>\n",
              "      <td>0.942236</td>\n",
              "      <td>0.965124</td>\n",
              "    </tr>\n",
              "    <tr>\n",
              "      <th>Case 3</th>\n",
              "      <td>0.941339</td>\n",
              "      <td>0.972468</td>\n",
              "    </tr>\n",
              "  </tbody>\n",
              "</table>\n",
              "</div>\n",
              "      <button class=\"colab-df-convert\" onclick=\"convertToInteractive('df-db9f7a0f-f94b-47a6-98d0-e3cb98289ec7')\"\n",
              "              title=\"Convert this dataframe to an interactive table.\"\n",
              "              style=\"display:none;\">\n",
              "        \n",
              "  <svg xmlns=\"http://www.w3.org/2000/svg\" height=\"24px\"viewBox=\"0 0 24 24\"\n",
              "       width=\"24px\">\n",
              "    <path d=\"M0 0h24v24H0V0z\" fill=\"none\"/>\n",
              "    <path d=\"M18.56 5.44l.94 2.06.94-2.06 2.06-.94-2.06-.94-.94-2.06-.94 2.06-2.06.94zm-11 1L8.5 8.5l.94-2.06 2.06-.94-2.06-.94L8.5 2.5l-.94 2.06-2.06.94zm10 10l.94 2.06.94-2.06 2.06-.94-2.06-.94-.94-2.06-.94 2.06-2.06.94z\"/><path d=\"M17.41 7.96l-1.37-1.37c-.4-.4-.92-.59-1.43-.59-.52 0-1.04.2-1.43.59L10.3 9.45l-7.72 7.72c-.78.78-.78 2.05 0 2.83L4 21.41c.39.39.9.59 1.41.59.51 0 1.02-.2 1.41-.59l7.78-7.78 2.81-2.81c.8-.78.8-2.07 0-2.86zM5.41 20L4 18.59l7.72-7.72 1.47 1.35L5.41 20z\"/>\n",
              "  </svg>\n",
              "      </button>\n",
              "      \n",
              "  <style>\n",
              "    .colab-df-container {\n",
              "      display:flex;\n",
              "      flex-wrap:wrap;\n",
              "      gap: 12px;\n",
              "    }\n",
              "\n",
              "    .colab-df-convert {\n",
              "      background-color: #E8F0FE;\n",
              "      border: none;\n",
              "      border-radius: 50%;\n",
              "      cursor: pointer;\n",
              "      display: none;\n",
              "      fill: #1967D2;\n",
              "      height: 32px;\n",
              "      padding: 0 0 0 0;\n",
              "      width: 32px;\n",
              "    }\n",
              "\n",
              "    .colab-df-convert:hover {\n",
              "      background-color: #E2EBFA;\n",
              "      box-shadow: 0px 1px 2px rgba(60, 64, 67, 0.3), 0px 1px 3px 1px rgba(60, 64, 67, 0.15);\n",
              "      fill: #174EA6;\n",
              "    }\n",
              "\n",
              "    [theme=dark] .colab-df-convert {\n",
              "      background-color: #3B4455;\n",
              "      fill: #D2E3FC;\n",
              "    }\n",
              "\n",
              "    [theme=dark] .colab-df-convert:hover {\n",
              "      background-color: #434B5C;\n",
              "      box-shadow: 0px 1px 3px 1px rgba(0, 0, 0, 0.15);\n",
              "      filter: drop-shadow(0px 1px 2px rgba(0, 0, 0, 0.3));\n",
              "      fill: #FFFFFF;\n",
              "    }\n",
              "  </style>\n",
              "\n",
              "      <script>\n",
              "        const buttonEl =\n",
              "          document.querySelector('#df-db9f7a0f-f94b-47a6-98d0-e3cb98289ec7 button.colab-df-convert');\n",
              "        buttonEl.style.display =\n",
              "          google.colab.kernel.accessAllowed ? 'block' : 'none';\n",
              "\n",
              "        async function convertToInteractive(key) {\n",
              "          const element = document.querySelector('#df-db9f7a0f-f94b-47a6-98d0-e3cb98289ec7');\n",
              "          const dataTable =\n",
              "            await google.colab.kernel.invokeFunction('convertToInteractive',\n",
              "                                                     [key], {});\n",
              "          if (!dataTable) return;\n",
              "\n",
              "          const docLinkHtml = 'Like what you see? Visit the ' +\n",
              "            '<a target=\"_blank\" href=https://colab.research.google.com/notebooks/data_table.ipynb>data table notebook</a>'\n",
              "            + ' to learn more about interactive tables.';\n",
              "          element.innerHTML = '';\n",
              "          dataTable['output_type'] = 'display_data';\n",
              "          await google.colab.output.renderOutput(dataTable, element);\n",
              "          const docLink = document.createElement('div');\n",
              "          docLink.innerHTML = docLinkHtml;\n",
              "          element.appendChild(docLink);\n",
              "        }\n",
              "      </script>\n",
              "    </div>\n",
              "  </div>\n",
              "  "
            ]
          },
          "metadata": {},
          "execution_count": 85
        }
      ]
    },
    {
      "cell_type": "markdown",
      "source": [
        "*the whole notebook takes 1:24 minutes to run*"
      ],
      "metadata": {
        "id": "ypZEvZnRn26j"
      }
    }
  ]
}